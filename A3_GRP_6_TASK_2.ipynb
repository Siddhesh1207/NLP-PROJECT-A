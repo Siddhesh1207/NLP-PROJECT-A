{
  "nbformat": 4,
  "nbformat_minor": 0,
  "metadata": {
    "colab": {
      "provenance": []
    },
    "kernelspec": {
      "name": "python3",
      "display_name": "Python 3"
    },
    "language_info": {
      "name": "python"
    }
  },
  "cells": [
    {
      "cell_type": "markdown",
      "source": [
        "# **Task 2 of Mini Project: Text Classification using Deep Learning**"
      ],
      "metadata": {
        "id": "dzuu5LaF8E5F"
      }
    },
    {
      "cell_type": "markdown",
      "source": [
        "# **1. Data Loading**"
      ],
      "metadata": {
        "id": "MDx1QxET8LiM"
      }
    },
    {
      "cell_type": "code",
      "source": [
        "# Import required libraries\n",
        "import pandas as pd\n",
        "from sklearn.model_selection import train_test_split\n",
        "import matplotlib.pyplot as plt\n",
        "\n",
        "# Load the dataset\n",
        "data = pd.read_csv('/content/NLP dataset.csv')  # Replace with actual dataset path\n",
        "\n",
        "# Exploratory Data Analysis (EDA)\n",
        "print(\"Dataset overview:\")\n",
        "print(data.info())  # Checking for missing values, data types\n",
        "print(\"\\nSample data:\")\n",
        "print(data.head())  # Display the first few rows\n",
        "\n",
        "# Plot class distribution\n",
        "plt.figure(figsize=(8, 5))\n",
        "data['Sentiment'].value_counts().plot(kind='bar', color='skyblue')  # Changed 'label' to 'Sentiment'\n",
        "plt.title('Class Distribution')\n",
        "plt.xlabel('Class')\n",
        "plt.ylabel('Count')\n",
        "plt.show()\n",
        "\n",
        "# Splitting data into train, validation, and test sets\n",
        "train_data, test_data = train_test_split(data, test_size=0.2, random_state=42)\n",
        "train_data, val_data = train_test_split(train_data, test_size=0.1, random_state=42)"
      ],
      "metadata": {
        "colab": {
          "base_uri": "https://localhost:8080/",
          "height": 880
        },
        "id": "Aj446Lv28Nvd",
        "outputId": "e1d8b73f-7644-4c7b-ae4b-c50f06a43f78"
      },
      "execution_count": null,
      "outputs": [
        {
          "output_type": "stream",
          "name": "stdout",
          "text": [
            "Dataset overview:\n",
            "<class 'pandas.core.frame.DataFrame'>\n",
            "RangeIndex: 852 entries, 0 to 851\n",
            "Data columns (total 2 columns):\n",
            " #   Column     Non-Null Count  Dtype \n",
            "---  ------     --------------  ----- \n",
            " 0   Summary    852 non-null    object\n",
            " 1   Sentiment  852 non-null    object\n",
            "dtypes: object(2)\n",
            "memory usage: 13.4+ KB\n",
            "None\n",
            "\n",
            "Sample data:\n",
            "                                             Summary Sentiment\n",
            "0      I appreciate the flexible scheduling options.  positive\n",
            "1  The recent changes to our tools are causing fr...  negative\n",
            "2      I feel neutral about the new breakroom décor.   neutral\n",
            "3  Management has been very supportive with my ca...  positive\n",
            "4  The office is often too noisy for me to concen...  negative\n"
          ]
        },
        {
          "output_type": "display_data",
          "data": {
            "text/plain": [
              "<Figure size 800x500 with 1 Axes>"
            ],
            "image/png": "[encoded data removed]"
          },
          "metadata": {}
        }
      ]
    },
    {
      "cell_type": "markdown",
      "source": [
        "# **2. Text Preprocessing**"
      ],
      "metadata": {
        "id": "Yh2F9laW8kn9"
      }
    },
    {
      "cell_type": "code",
      "source": [
        "import re\n",
        "import nltk\n",
        "nltk.download('punkt_tab')\n",
        "nltk.download('punkt')\n",
        "nltk.download('stopwords')\n",
        "from nltk.corpus import stopwords\n",
        "from nltk.tokenize import word_tokenize\n",
        "\n",
        "# Function to clean and preprocess text\n",
        "def preprocess_text(text):\n",
        "    text = text.lower()  # Convert to lowercase\n",
        "    text = re.sub(r'\\W', ' ', text)  # Remove special characters\n",
        "    text = re.sub(r'\\s+', ' ', text)  # Remove extra spaces\n",
        "    tokens = word_tokenize(text)  # Tokenize the text\n",
        "    tokens = [word for word in tokens if word not in stopwords.words('english')]  # Remove stopwords\n",
        "    return ' '.join(tokens)\n",
        "\n",
        "# Apply the preprocessing to the dataset\n",
        "train_data['processed_text'] = train_data['Summary'].apply(preprocess_text)  # Changed 'text' to 'Summary'\n",
        "val_data['processed_text'] = val_data['Summary'].apply(preprocess_text)      # Changed 'text' to 'Summary'\n",
        "test_data['processed_text'] = test_data['Summary'].apply(preprocess_text)    # Changed 'text' to 'Summary'\n",
        "\n",
        "# Check the processed text\n",
        "print(train_data[['Summary', 'processed_text']].head())  # Changed 'text' to 'Summary'"
      ],
      "metadata": {
        "id": "o4ssAgCR8maU",
        "colab": {
          "base_uri": "https://localhost:8080/"
        },
        "outputId": "62b94fa9-16d2-4c09-8f3a-068b521b0808"
      },
      "execution_count": null,
      "outputs": [
        {
          "output_type": "stream",
          "name": "stderr",
          "text": [
            "[nltk_data] Downloading package punkt_tab to /root/nltk_data...\n",
            "[nltk_data]   Package punkt_tab is already up-to-date!\n",
            "[nltk_data] Downloading package punkt to /root/nltk_data...\n",
            "[nltk_data]   Package punkt is already up-to-date!\n",
            "[nltk_data] Downloading package stopwords to /root/nltk_data...\n",
            "[nltk_data]   Package stopwords is already up-to-date!\n"
          ]
        },
        {
          "output_type": "stream",
          "name": "stdout",
          "text": [
            "                                               Summary  \\\n",
            "730            Excessive guidelines hamper creativity.   \n",
            "44   I’m impartial about the new corporate social m...   \n",
            "795  Collaborating with diverse skill sets broadens...   \n",
            "604  I dislike that feedback cycles are not well-de...   \n",
            "105  Management’s open Q&A sessions boost transpare...   \n",
            "\n",
            "                                        processed_text  \n",
            "730             excessive guidelines hamper creativity  \n",
            "44     impartial new corporate social media guidelines  \n",
            "795  collaborating diverse skill sets broadens pers...  \n",
            "604               dislike feedback cycles well defined  \n",
            "105      management open q sessions boost transparency  \n"
          ]
        }
      ]
    },
    {
      "cell_type": "markdown",
      "source": [
        "# **3. Text Embedding**"
      ],
      "metadata": {
        "id": "UWFmPeXp84l1"
      }
    },
    {
      "cell_type": "code",
      "source": [
        "from sklearn.feature_extraction.text import CountVectorizer, TfidfVectorizer\n",
        "import gensim\n",
        "\n",
        "# Bag of Words (BoW)\n",
        "bow_vectorizer = CountVectorizer(max_features=5000)\n",
        "X_train_bow = bow_vectorizer.fit_transform(train_data['processed_text']).toarray()\n",
        "X_val_bow = bow_vectorizer.transform(val_data['processed_text']).toarray()\n",
        "X_test_bow = bow_vectorizer.transform(test_data['processed_text']).toarray()\n",
        "\n",
        "# TF-IDF\n",
        "tfidf_vectorizer = TfidfVectorizer(max_features=5000)\n",
        "X_train_tfidf = tfidf_vectorizer.fit_transform(train_data['processed_text']).toarray()\n",
        "X_val_tfidf = tfidf_vectorizer.transform(val_data['processed_text']).toarray()\n",
        "X_test_tfidf = tfidf_vectorizer.transform(test_data['processed_text']).toarray()\n",
        "\n",
        "# FastText (Word Embeddings)\n",
        "# Convert processed text into a list of tokenized sentences for FastText training\n",
        "tokenized_sentences = train_data['processed_text'].apply(str.split).tolist()\n",
        "\n",
        "# Train FastText model\n",
        "fasttext_model = gensim.models.FastText(tokenized_sentences, vector_size=100, window=5, min_count=5)\n",
        "\n",
        "# Generate FastText embeddings for train, validation, and test data\n",
        "X_train_fasttext = [fasttext_model.wv[text.split()] for text in train_data['processed_text']]\n",
        "X_val_fasttext = [fasttext_model.wv[text.split()] for text in val_data['processed_text']]\n",
        "X_test_fasttext = [fasttext_model.wv[text.split()] for text in test_data['processed_text']]\n",
        "\n",
        "print(\"Embedding completed for BoW, TF-IDF, and FastText.\")"
      ],
      "metadata": {
        "id": "2wS-ZrBACZDF",
        "colab": {
          "base_uri": "https://localhost:8080/"
        },
        "outputId": "905ffcdc-ebcd-47a1-9372-29123f169bc8"
      },
      "execution_count": null,
      "outputs": [
        {
          "output_type": "stream",
          "name": "stdout",
          "text": [
            "Embedding completed for BoW, TF-IDF, and FastText.\n"
          ]
        }
      ]
    },
    {
      "cell_type": "markdown",
      "source": [
        "# **4. Model Training with Different Architectures**"
      ],
      "metadata": {
        "id": "z_oyqUK7Cl-1"
      }
    },
    {
      "cell_type": "code",
      "source": [
        "from keras.models import Sequential\n",
        "from keras.layers import Dense, Conv1D, MaxPooling1D, LSTM, Bidirectional, Embedding, Flatten\n",
        "import numpy as np\n",
        "\n",
        "# Define a CNN model\n",
        "def cnn_model(input_dim, model_name):\n",
        "    print(f\"Training {model_name}...\")\n",
        "    model = Sequential()\n",
        "    model.add(Embedding(input_dim, 128, input_length=input_dim))\n",
        "    model.add(Conv1D(filters=64, kernel_size=5, activation='relu'))\n",
        "    model.add(MaxPooling1D(pool_size=2))\n",
        "    model.add(Flatten())\n",
        "    model.add(Dense(100, activation='relu'))\n",
        "    model.add(Dense(len(train_data['Sentiment'].unique()), activation='softmax'))  # Multi-class classification\n",
        "    model.compile(optimizer='adam', loss='sparse_categorical_crossentropy', metrics=['accuracy'])\n",
        "    return model\n",
        "\n",
        "# Define an LSTM model\n",
        "def lstm_model(input_dim, model_name):\n",
        "    print(f\"Training {model_name}...\")\n",
        "    model = Sequential()\n",
        "    model.add(Embedding(input_dim, 128, input_length=input_dim))\n",
        "    model.add(LSTM(100, dropout=0.2, recurrent_dropout=0.2))\n",
        "    model.add(Dense(len(train_data['Sentiment'].unique()), activation='softmax'))  # Multi-class classification\n",
        "    model.compile(optimizer='adam', loss='sparse_categorical_crossentropy', metrics=['accuracy'])\n",
        "    return model\n",
        "\n",
        "# Define a BiLSTM model\n",
        "def bilstm_model(input_dim, model_name):\n",
        "    print(f\"Training {model_name}...\")\n",
        "    model = Sequential()\n",
        "    model.add(Embedding(input_dim, 128, input_length=input_dim))\n",
        "    model.add(Bidirectional(LSTM(100, dropout=0.2, recurrent_dropout=0.2)))\n",
        "    model.add(Dense(len(train_data['Sentiment'].unique()), activation='softmax'))  # Multi-class classification\n",
        "    model.compile(optimizer='adam', loss='sparse_categorical_crossentropy', metrics=['accuracy'])\n",
        "    return model\n",
        "\n",
        "# Define a CNN-BiLSTM model\n",
        "def cnn_bilstm_model(input_dim, model_name):\n",
        "    print(f\"Training {model_name}...\")\n",
        "    model = Sequential()\n",
        "    model.add(Embedding(input_dim, 128, input_length=input_dim))\n",
        "    model.add(Conv1D(filters=64, kernel_size=5, activation='relu'))\n",
        "    model.add(MaxPooling1D(pool_size=2))\n",
        "    model.add(Bidirectional(LSTM(100, dropout=0.2, recurrent_dropout=0.2)))\n",
        "    model.add(Dense(len(train_data['Sentiment'].unique()), activation='softmax'))  # Multi-class classification\n",
        "    model.compile(optimizer='adam', loss='sparse_categorical_crossentropy', metrics=['accuracy'])\n",
        "    return model\n",
        "\n",
        "# Convert labels to integers for multi-class classification\n",
        "from sklearn.preprocessing import LabelEncoder\n",
        "\n",
        "label_encoder = LabelEncoder()\n",
        "train_labels = label_encoder.fit_transform(train_data['Sentiment'])\n",
        "val_labels = label_encoder.transform(val_data['Sentiment'])\n",
        "test_labels = label_encoder.transform(test_data['Sentiment'])\n",
        "\n",
        "# Train models with BoW embeddings\n",
        "input_dim_bow = X_train_bow.shape[1]\n",
        "cnn_bow = cnn_model(input_dim_bow, \"CNN with BoW\")\n",
        "cnn_bow.fit(X_train_bow, train_labels, validation_data=(X_val_bow, val_labels), epochs=5, batch_size=64)\n",
        "\n",
        "lstm_bow = lstm_model(input_dim_bow, \"LSTM with BoW\")\n",
        "lstm_bow.fit(X_train_bow, train_labels, validation_data=(X_val_bow, val_labels), epochs=5, batch_size=64)\n",
        "\n",
        "bilstm_bow = bilstm_model(input_dim_bow, \"BiLSTM with BoW\")\n",
        "bilstm_bow.fit(X_train_bow, train_labels, validation_data=(X_val_bow, val_labels), epochs=5, batch_size=64)\n",
        "\n",
        "cnn_bilstm_bow = cnn_bilstm_model(input_dim_bow, \"CNN-BiLSTM with BoW\")\n",
        "cnn_bilstm_bow.fit(X_train_bow, train_labels, validation_data=(X_val_bow, val_labels), epochs=5, batch_size=64)\n",
        "\n",
        "# Train models with TF-IDF embeddings\n",
        "input_dim_tfidf = X_train_tfidf.shape[1]\n",
        "cnn_tfidf = cnn_model(input_dim_tfidf, \"CNN with TF-IDF\")\n",
        "cnn_tfidf.fit(X_train_tfidf, train_labels, validation_data=(X_val_tfidf, val_labels), epochs=5, batch_size=64)\n",
        "\n",
        "lstm_tfidf = lstm_model(input_dim_tfidf, \"LSTM with TF-IDF\")\n",
        "lstm_tfidf.fit(X_train_tfidf, train_labels, validation_data=(X_val_tfidf, val_labels), epochs=5, batch_size=64)\n",
        "\n",
        "bilstm_tfidf = bilstm_model(input_dim_tfidf, \"BiLSTM with TF-IDF\")\n",
        "bilstm_tfidf.fit(X_train_tfidf, train_labels, validation_data=(X_val_tfidf, val_labels), epochs=5, batch_size=64)\n",
        "\n",
        "cnn_bilstm_tfidf = cnn_bilstm_model(input_dim_tfidf, \"CNN-BiLSTM with TF-IDF\")\n",
        "cnn_bilstm_tfidf.fit(X_train_tfidf, train_labels, validation_data=(X_val_tfidf, val_labels), epochs=5, batch_size=64)\n",
        "\n",
        "print(\"All models trained successfully!\")"
      ],
      "metadata": {
        "colab": {
          "base_uri": "https://localhost:8080/"
        },
        "id": "ZbW4OGE_ZlFw",
        "outputId": "037e4aca-3a32-49e7-bf3d-fdc722a0b871"
      },
      "execution_count": null,
      "outputs": [
        {
          "output_type": "stream",
          "name": "stdout",
          "text": [
            "Training CNN with BoW...\n",
            "Epoch 1/5\n"
          ]
        },
        {
          "output_type": "stream",
          "name": "stderr",
          "text": [
            "/usr/local/lib/python3.11/dist-packages/keras/src/layers/core/embedding.py:90: UserWarning: Argument `input_length` is deprecated. Just remove it.\n",
            "  warnings.warn(\n"
          ]
        },
        {
          "output_type": "stream",
          "name": "stdout",
          "text": [
            "\u001b[1m10/10\u001b[0m \u001b[32m━━━━━━━━━━━━━━━━━━━━\u001b[0m\u001b[37m\u001b[0m \u001b[1m7s\u001b[0m 483ms/step - accuracy: 0.3480 - loss: 1.2012 - val_accuracy: 0.3913 - val_loss: 1.0897\n",
            "Epoch 2/5\n",
            "\u001b[1m10/10\u001b[0m \u001b[32m━━━━━━━━━━━━━━━━━━━━\u001b[0m\u001b[37m\u001b[0m \u001b[1m6s\u001b[0m 595ms/step - accuracy: 0.4450 - loss: 1.0851 - val_accuracy: 0.2464 - val_loss: 1.0529\n",
            "Epoch 3/5\n",
            "\u001b[1m10/10\u001b[0m \u001b[32m━━━━━━━━━━━━━━━━━━━━\u001b[0m\u001b[37m\u001b[0m \u001b[1m10s\u001b[0m 584ms/step - accuracy: 0.6915 - loss: 0.9488 - val_accuracy: 0.8116 - val_loss: 0.7380\n",
            "Epoch 4/5\n",
            "\u001b[1m10/10\u001b[0m \u001b[32m━━━━━━━━━━━━━━━━━━━━\u001b[0m\u001b[37m\u001b[0m \u001b[1m5s\u001b[0m 454ms/step - accuracy: 0.9424 - loss: 0.4672 - val_accuracy: 0.9420 - val_loss: 0.2108\n",
            "Epoch 5/5\n",
            "\u001b[1m10/10\u001b[0m \u001b[32m━━━━━━━━━━━━━━━━━━━━\u001b[0m\u001b[37m\u001b[0m \u001b[1m5s\u001b[0m 467ms/step - accuracy: 0.9888 - loss: 0.0724 - val_accuracy: 0.9275 - val_loss: 0.1885\n",
            "Training LSTM with BoW...\n",
            "Epoch 1/5\n",
            "\u001b[1m10/10\u001b[0m \u001b[32m━━━━━━━━━━━━━━━━━━━━\u001b[0m\u001b[37m\u001b[0m \u001b[1m31s\u001b[0m 2s/step - accuracy: 0.3637 - loss: 1.0997 - val_accuracy: 0.2319 - val_loss: 1.1150\n",
            "Epoch 2/5\n",
            "\u001b[1m10/10\u001b[0m \u001b[32m━━━━━━━━━━━━━━━━━━━━\u001b[0m\u001b[37m\u001b[0m \u001b[1m40s\u001b[0m 3s/step - accuracy: 0.3531 - loss: 1.0996 - val_accuracy: 0.2319 - val_loss: 1.1042\n",
            "Epoch 3/5\n",
            "\u001b[1m10/10\u001b[0m \u001b[32m━━━━━━━━━━━━━━━━━━━━\u001b[0m\u001b[37m\u001b[0m \u001b[1m39s\u001b[0m 2s/step - accuracy: 0.3479 - loss: 1.0999 - val_accuracy: 0.2319 - val_loss: 1.1018\n",
            "Epoch 4/5\n",
            "\u001b[1m10/10\u001b[0m \u001b[32m━━━━━━━━━━━━━━━━━━━━\u001b[0m\u001b[37m\u001b[0m \u001b[1m42s\u001b[0m 2s/step - accuracy: 0.3680 - loss: 1.0993 - val_accuracy: 0.2319 - val_loss: 1.1106\n",
            "Epoch 5/5\n",
            "\u001b[1m10/10\u001b[0m \u001b[32m━━━━━━━━━━━━━━━━━━━━\u001b[0m\u001b[37m\u001b[0m \u001b[1m41s\u001b[0m 2s/step - accuracy: 0.3522 - loss: 1.0972 - val_accuracy: 0.2319 - val_loss: 1.1038\n",
            "Training BiLSTM with BoW...\n",
            "Epoch 1/5\n",
            "\u001b[1m10/10\u001b[0m \u001b[32m━━━━━━━━━━━━━━━━━━━━\u001b[0m\u001b[37m\u001b[0m \u001b[1m64s\u001b[0m 5s/step - accuracy: 0.2929 - loss: 1.1033 - val_accuracy: 0.2319 - val_loss: 1.1182\n",
            "Epoch 2/5\n",
            "\u001b[1m10/10\u001b[0m \u001b[32m━━━━━━━━━━━━━━━━━━━━\u001b[0m\u001b[37m\u001b[0m \u001b[1m75s\u001b[0m 5s/step - accuracy: 0.3217 - loss: 1.1025 - val_accuracy: 0.3768 - val_loss: 1.1006\n",
            "Epoch 3/5\n",
            "\u001b[1m10/10\u001b[0m \u001b[32m━━━━━━━━━━━━━━━━━━━━\u001b[0m\u001b[37m\u001b[0m \u001b[1m81s\u001b[0m 5s/step - accuracy: 0.3341 - loss: 1.0981 - val_accuracy: 0.2319 - val_loss: 1.1047\n",
            "Epoch 4/5\n",
            "\u001b[1m10/10\u001b[0m \u001b[32m━━━━━━━━━━━━━━━━━━━━\u001b[0m\u001b[37m\u001b[0m \u001b[1m82s\u001b[0m 5s/step - accuracy: 0.3344 - loss: 1.0997 - val_accuracy: 0.2319 - val_loss: 1.1088\n",
            "Epoch 5/5\n",
            "\u001b[1m10/10\u001b[0m \u001b[32m━━━━━━━━━━━━━━━━━━━━\u001b[0m\u001b[37m\u001b[0m \u001b[1m83s\u001b[0m 5s/step - accuracy: 0.3449 - loss: 1.0991 - val_accuracy: 0.2319 - val_loss: 1.1051\n",
            "Training CNN-BiLSTM with BoW...\n",
            "Epoch 1/5\n",
            "\u001b[1m10/10\u001b[0m \u001b[32m━━━━━━━━━━━━━━━━━━━━\u001b[0m\u001b[37m\u001b[0m \u001b[1m36s\u001b[0m 3s/step - accuracy: 0.3240 - loss: 1.1022 - val_accuracy: 0.3768 - val_loss: 1.0966\n",
            "Epoch 2/5\n",
            "\u001b[1m10/10\u001b[0m \u001b[32m━━━━━━━━━━━━━━━━━━━━\u001b[0m\u001b[37m\u001b[0m \u001b[1m39s\u001b[0m 2s/step - accuracy: 0.3342 - loss: 1.0988 - val_accuracy: 0.3913 - val_loss: 1.0974\n",
            "Epoch 3/5\n",
            "\u001b[1m10/10\u001b[0m \u001b[32m━━━━━━━━━━━━━━━━━━━━\u001b[0m\u001b[37m\u001b[0m \u001b[1m39s\u001b[0m 2s/step - accuracy: 0.3532 - loss: 1.0987 - val_accuracy: 0.2319 - val_loss: 1.1061\n",
            "Epoch 4/5\n",
            "\u001b[1m10/10\u001b[0m \u001b[32m━━━━━━━━━━━━━━━━━━━━\u001b[0m\u001b[37m\u001b[0m \u001b[1m24s\u001b[0m 2s/step - accuracy: 0.3637 - loss: 1.0981 - val_accuracy: 0.2319 - val_loss: 1.1100\n",
            "Epoch 5/5\n",
            "\u001b[1m10/10\u001b[0m \u001b[32m━━━━━━━━━━━━━━━━━━━━\u001b[0m\u001b[37m\u001b[0m \u001b[1m24s\u001b[0m 2s/step - accuracy: 0.3322 - loss: 1.1008 - val_accuracy: 0.2319 - val_loss: 1.1047\n",
            "Training CNN with TF-IDF...\n",
            "Epoch 1/5\n",
            "\u001b[1m10/10\u001b[0m \u001b[32m━━━━━━━━━━━━━━━━━━━━\u001b[0m\u001b[37m\u001b[0m \u001b[1m7s\u001b[0m 473ms/step - accuracy: 0.3405 - loss: 1.2592 - val_accuracy: 0.3913 - val_loss: 1.1007\n",
            "Epoch 2/5\n",
            "\u001b[1m10/10\u001b[0m \u001b[32m━━━━━━━━━━━━━━━━━━━━\u001b[0m\u001b[37m\u001b[0m \u001b[1m5s\u001b[0m 533ms/step - accuracy: 0.2639 - loss: 1.1151 - val_accuracy: 0.2319 - val_loss: 1.1047\n",
            "Epoch 3/5\n",
            "\u001b[1m10/10\u001b[0m \u001b[32m━━━━━━━━━━━━━━━━━━━━\u001b[0m\u001b[37m\u001b[0m \u001b[1m9s\u001b[0m 411ms/step - accuracy: 0.3211 - loss: 1.0986 - val_accuracy: 0.2319 - val_loss: 1.1123\n",
            "Epoch 4/5\n",
            "\u001b[1m10/10\u001b[0m \u001b[32m━━━━━━━━━━━━━━━━━━━━\u001b[0m\u001b[37m\u001b[0m \u001b[1m6s\u001b[0m 547ms/step - accuracy: 0.3442 - loss: 1.0983 - val_accuracy: 0.2319 - val_loss: 1.1075\n",
            "Epoch 5/5\n",
            "\u001b[1m10/10\u001b[0m \u001b[32m━━━━━━━━━━━━━━━━━━━━\u001b[0m\u001b[37m\u001b[0m \u001b[1m10s\u001b[0m 506ms/step - accuracy: 0.3499 - loss: 1.0978 - val_accuracy: 0.3913 - val_loss: 1.0997\n",
            "Training LSTM with TF-IDF...\n",
            "Epoch 1/5\n",
            "\u001b[1m10/10\u001b[0m \u001b[32m━━━━━━━━━━━━━━━━━━━━\u001b[0m\u001b[37m\u001b[0m \u001b[1m30s\u001b[0m 3s/step - accuracy: 0.3223 - loss: 1.1045 - val_accuracy: 0.2319 - val_loss: 1.1096\n",
            "Epoch 2/5\n",
            "\u001b[1m10/10\u001b[0m \u001b[32m━━━━━━━━━━━━━━━━━━━━\u001b[0m\u001b[37m\u001b[0m \u001b[1m40s\u001b[0m 2s/step - accuracy: 0.3708 - loss: 1.0955 - val_accuracy: 0.3913 - val_loss: 1.0967\n",
            "Epoch 3/5\n",
            "\u001b[1m10/10\u001b[0m \u001b[32m━━━━━━━━━━━━━━━━━━━━\u001b[0m\u001b[37m\u001b[0m \u001b[1m24s\u001b[0m 2s/step - accuracy: 0.3277 - loss: 1.0997 - val_accuracy: 0.2319 - val_loss: 1.1017\n",
            "Epoch 4/5\n",
            "\u001b[1m10/10\u001b[0m \u001b[32m━━━━━━━━━━━━━━━━━━━━\u001b[0m\u001b[37m\u001b[0m \u001b[1m40s\u001b[0m 2s/step - accuracy: 0.3187 - loss: 1.1001 - val_accuracy: 0.2319 - val_loss: 1.1088\n",
            "Epoch 5/5\n",
            "\u001b[1m10/10\u001b[0m \u001b[32m━━━━━━━━━━━━━━━━━━━━\u001b[0m\u001b[37m\u001b[0m \u001b[1m41s\u001b[0m 2s/step - accuracy: 0.3181 - loss: 1.1009 - val_accuracy: 0.2319 - val_loss: 1.1043\n",
            "Training BiLSTM with TF-IDF...\n",
            "Epoch 1/5\n",
            "\u001b[1m10/10\u001b[0m \u001b[32m━━━━━━━━━━━━━━━━━━━━\u001b[0m\u001b[37m\u001b[0m \u001b[1m59s\u001b[0m 5s/step - accuracy: 0.3312 - loss: 1.1043 - val_accuracy: 0.2319 - val_loss: 1.1064\n",
            "Epoch 2/5\n",
            "\u001b[1m10/10\u001b[0m \u001b[32m━━━━━━━━━━━━━━━━━━━━\u001b[0m\u001b[37m\u001b[0m \u001b[1m48s\u001b[0m 5s/step - accuracy: 0.3570 - loss: 1.0999 - val_accuracy: 0.3768 - val_loss: 1.0995\n",
            "Epoch 3/5\n",
            "\u001b[1m10/10\u001b[0m \u001b[32m━━━━━━━━━━━━━━━━━━━━\u001b[0m\u001b[37m\u001b[0m \u001b[1m86s\u001b[0m 5s/step - accuracy: 0.3259 - loss: 1.1015 - val_accuracy: 0.2319 - val_loss: 1.1049\n",
            "Epoch 4/5\n",
            "\u001b[1m10/10\u001b[0m \u001b[32m━━━━━━━━━━━━━━━━━━━━\u001b[0m\u001b[37m\u001b[0m \u001b[1m79s\u001b[0m 5s/step - accuracy: 0.3460 - loss: 1.0989 - val_accuracy: 0.2319 - val_loss: 1.1056\n",
            "Epoch 5/5\n",
            "\u001b[1m10/10\u001b[0m \u001b[32m━━━━━━━━━━━━━━━━━━━━\u001b[0m\u001b[37m\u001b[0m \u001b[1m82s\u001b[0m 5s/step - accuracy: 0.3907 - loss: 1.0964 - val_accuracy: 0.2319 - val_loss: 1.1108\n",
            "Training CNN-BiLSTM with TF-IDF...\n",
            "Epoch 1/5\n",
            "\u001b[1m10/10\u001b[0m \u001b[32m━━━━━━━━━━━━━━━━━━━━\u001b[0m\u001b[37m\u001b[0m \u001b[1m37s\u001b[0m 3s/step - accuracy: 0.3130 - loss: 1.1025 - val_accuracy: 0.2319 - val_loss: 1.1033\n",
            "Epoch 2/5\n",
            "\u001b[1m10/10\u001b[0m \u001b[32m━━━━━━━━━━━━━━━━━━━━\u001b[0m\u001b[37m\u001b[0m \u001b[1m37s\u001b[0m 4s/step - accuracy: 0.3344 - loss: 1.0990 - val_accuracy: 0.2319 - val_loss: 1.1079\n",
            "Epoch 3/5\n",
            "\u001b[1m10/10\u001b[0m \u001b[32m━━━━━━━━━━━━━━━━━━━━\u001b[0m\u001b[37m\u001b[0m \u001b[1m28s\u001b[0m 2s/step - accuracy: 0.3164 - loss: 1.1014 - val_accuracy: 0.2319 - val_loss: 1.1030\n",
            "Epoch 4/5\n",
            "\u001b[1m10/10\u001b[0m \u001b[32m━━━━━━━━━━━━━━━━━━━━\u001b[0m\u001b[37m\u001b[0m \u001b[1m24s\u001b[0m 2s/step - accuracy: 0.3570 - loss: 1.0979 - val_accuracy: 0.2319 - val_loss: 1.1091\n",
            "Epoch 5/5\n",
            "\u001b[1m10/10\u001b[0m \u001b[32m━━━━━━━━━━━━━━━━━━━━\u001b[0m\u001b[37m\u001b[0m \u001b[1m42s\u001b[0m 3s/step - accuracy: 0.3488 - loss: 1.0993 - val_accuracy: 0.2319 - val_loss: 1.1059\n",
            "All models trained successfully!\n"
          ]
        }
      ]
    },
    {
      "cell_type": "code",
      "source": [
        "from keras.preprocessing.sequence import pad_sequences\n",
        "\n",
        "# Pad or truncate FastText embeddings to ensure uniform input dimensions\n",
        "max_sequence_length = 100  # Adjust this based on your data\n",
        "X_train_fasttext_padded = pad_sequences(X_train_fasttext, maxlen=max_sequence_length, padding='post', dtype='float32')\n",
        "X_val_fasttext_padded = pad_sequences(X_val_fasttext, maxlen=max_sequence_length, padding='post', dtype='float32')\n",
        "X_test_fasttext_padded = pad_sequences(X_test_fasttext, maxlen=max_sequence_length, padding='post', dtype='float32')\n",
        "\n",
        "# Define a CNN model for FastText embeddings\n",
        "def cnn_model_fasttext(input_dim, model_name):\n",
        "    print(f\"Training {model_name}...\")\n",
        "    model = Sequential()\n",
        "    model.add(Conv1D(filters=64, kernel_size=5, activation='relu', input_shape=(input_dim, 100)))  # Input shape adjusted for FastText\n",
        "    model.add(MaxPooling1D(pool_size=2))\n",
        "    model.add(Flatten())\n",
        "    model.add(Dense(100, activation='relu'))\n",
        "    model.add(Dense(len(train_data['Sentiment'].unique()), activation='softmax'))  # Multi-class classification\n",
        "    model.compile(optimizer='adam', loss='sparse_categorical_crossentropy', metrics=['accuracy'])\n",
        "    return model\n",
        "\n",
        "# Define an LSTM model for FastText embeddings\n",
        "def lstm_model_fasttext(input_dim, model_name):\n",
        "    print(f\"Training {model_name}...\")\n",
        "    model = Sequential()\n",
        "    model.add(LSTM(100, dropout=0.2, recurrent_dropout=0.2, input_shape=(input_dim, 100)))  # Input shape adjusted for FastText\n",
        "    model.add(Dense(len(train_data['Sentiment'].unique()), activation='softmax'))  # Multi-class classification\n",
        "    model.compile(optimizer='adam', loss='sparse_categorical_crossentropy', metrics=['accuracy'])\n",
        "    return model\n",
        "\n",
        "# Define a BiLSTM model for FastText embeddings\n",
        "def bilstm_model_fasttext(input_dim, model_name):\n",
        "    print(f\"Training {model_name}...\")\n",
        "    model = Sequential()\n",
        "    model.add(Bidirectional(LSTM(100, dropout=0.2, recurrent_dropout=0.2), input_shape=(input_dim, 100)))  # Input shape adjusted for FastText\n",
        "    model.add(Dense(len(train_data['Sentiment'].unique()), activation='softmax'))  # Multi-class classification\n",
        "    model.compile(optimizer='adam', loss='sparse_categorical_crossentropy', metrics=['accuracy'])\n",
        "    return model\n",
        "\n",
        "# Define a CNN-BiLSTM model for FastText embeddings\n",
        "def cnn_bilstm_model_fasttext(input_dim, model_name):\n",
        "    print(f\"Training {model_name}...\")\n",
        "    model = Sequential()\n",
        "    model.add(Conv1D(filters=64, kernel_size=5, activation='relu', input_shape=(input_dim, 100)))  # Input shape adjusted for FastText\n",
        "    model.add(MaxPooling1D(pool_size=2))\n",
        "    model.add(Bidirectional(LSTM(100, dropout=0.2, recurrent_dropout=0.2)))\n",
        "    model.add(Dense(len(train_data['Sentiment'].unique()), activation='softmax'))  # Multi-class classification\n",
        "    model.compile(optimizer='adam', loss='sparse_categorical_crossentropy', metrics=['accuracy'])\n",
        "    return model\n",
        "\n",
        "# Train models with FastText embeddings\n",
        "input_dim_fasttext = X_train_fasttext_padded.shape[1]\n",
        "\n",
        "cnn_fasttext = cnn_model_fasttext(input_dim_fasttext, \"CNN with FastText\")\n",
        "cnn_fasttext.fit(X_train_fasttext_padded, train_labels, validation_data=(X_val_fasttext_padded, val_labels), epochs=5, batch_size=64)\n",
        "\n",
        "lstm_fasttext = lstm_model_fasttext(input_dim_fasttext, \"LSTM with FastText\")\n",
        "lstm_fasttext.fit(X_train_fasttext_padded, train_labels, validation_data=(X_val_fasttext_padded, val_labels), epochs=5, batch_size=64)\n",
        "\n",
        "bilstm_fasttext = bilstm_model_fasttext(input_dim_fasttext, \"BiLSTM with FastText\")\n",
        "bilstm_fasttext.fit(X_train_fasttext_padded, train_labels, validation_data=(X_val_fasttext_padded, val_labels), epochs=5, batch_size=64)\n",
        "\n",
        "cnn_bilstm_fasttext = cnn_bilstm_model_fasttext(input_dim_fasttext, \"CNN-BiLSTM with FastText\")\n",
        "cnn_bilstm_fasttext.fit(X_train_fasttext_padded, train_labels, validation_data=(X_val_fasttext_padded, val_labels), epochs=5, batch_size=64)\n",
        "\n",
        "print(\"All models trained successfully with FastText embeddings!\")"
      ],
      "metadata": {
        "colab": {
          "base_uri": "https://localhost:8080/"
        },
        "id": "FCLS18OKm8JJ",
        "outputId": "1efcfef8-5c84-4fd5-a257-994ee93aba21"
      },
      "execution_count": null,
      "outputs": [
        {
          "output_type": "stream",
          "name": "stdout",
          "text": [
            "Training CNN with FastText...\n",
            "Epoch 1/5\n"
          ]
        },
        {
          "output_type": "stream",
          "name": "stderr",
          "text": [
            "/usr/local/lib/python3.11/dist-packages/keras/src/layers/convolutional/base_conv.py:107: UserWarning: Do not pass an `input_shape`/`input_dim` argument to a layer. When using Sequential models, prefer using an `Input(shape)` object as the first layer in the model instead.\n",
            "  super().__init__(activity_regularizer=activity_regularizer, **kwargs)\n"
          ]
        },
        {
          "output_type": "stream",
          "name": "stdout",
          "text": [
            "\u001b[1m10/10\u001b[0m \u001b[32m━━━━━━━━━━━━━━━━━━━━\u001b[0m\u001b[37m\u001b[0m \u001b[1m2s\u001b[0m 62ms/step - accuracy: 0.3172 - loss: 1.0988 - val_accuracy: 0.3768 - val_loss: 1.0990\n",
            "Epoch 2/5\n",
            "\u001b[1m10/10\u001b[0m \u001b[32m━━━━━━━━━━━━━━━━━━━━\u001b[0m\u001b[37m\u001b[0m \u001b[1m0s\u001b[0m 41ms/step - accuracy: 0.3097 - loss: 1.0986 - val_accuracy: 0.2319 - val_loss: 1.0996\n",
            "Epoch 3/5\n",
            "\u001b[1m10/10\u001b[0m \u001b[32m━━━━━━━━━━━━━━━━━━━━\u001b[0m\u001b[37m\u001b[0m \u001b[1m0s\u001b[0m 38ms/step - accuracy: 0.3130 - loss: 1.0982 - val_accuracy: 0.2319 - val_loss: 1.0994\n",
            "Epoch 4/5\n",
            "\u001b[1m10/10\u001b[0m \u001b[32m━━━━━━━━━━━━━━━━━━━━\u001b[0m\u001b[37m\u001b[0m \u001b[1m1s\u001b[0m 38ms/step - accuracy: 0.3578 - loss: 1.0964 - val_accuracy: 0.2319 - val_loss: 1.0992\n",
            "Epoch 5/5\n",
            "\u001b[1m10/10\u001b[0m \u001b[32m━━━━━━━━━━━━━━━━━━━━\u001b[0m\u001b[37m\u001b[0m \u001b[1m1s\u001b[0m 59ms/step - accuracy: 0.3507 - loss: 1.0956 - val_accuracy: 0.2029 - val_loss: 1.0963\n",
            "Training LSTM with FastText...\n",
            "Epoch 1/5\n"
          ]
        },
        {
          "output_type": "stream",
          "name": "stderr",
          "text": [
            "/usr/local/lib/python3.11/dist-packages/keras/src/layers/rnn/rnn.py:200: UserWarning: Do not pass an `input_shape`/`input_dim` argument to a layer. When using Sequential models, prefer using an `Input(shape)` object as the first layer in the model instead.\n",
            "  super().__init__(**kwargs)\n"
          ]
        },
        {
          "output_type": "stream",
          "name": "stdout",
          "text": [
            "\u001b[1m10/10\u001b[0m \u001b[32m━━━━━━━━━━━━━━━━━━━━\u001b[0m\u001b[37m\u001b[0m \u001b[1m6s\u001b[0m 254ms/step - accuracy: 0.3301 - loss: 1.0989 - val_accuracy: 0.2319 - val_loss: 1.1041\n",
            "Epoch 2/5\n",
            "\u001b[1m10/10\u001b[0m \u001b[32m━━━━━━━━━━━━━━━━━━━━\u001b[0m\u001b[37m\u001b[0m \u001b[1m2s\u001b[0m 180ms/step - accuracy: 0.3706 - loss: 1.0972 - val_accuracy: 0.2319 - val_loss: 1.1045\n",
            "Epoch 3/5\n",
            "\u001b[1m10/10\u001b[0m \u001b[32m━━━━━━━━━━━━━━━━━━━━\u001b[0m\u001b[37m\u001b[0m \u001b[1m2s\u001b[0m 181ms/step - accuracy: 0.3338 - loss: 1.0991 - val_accuracy: 0.2319 - val_loss: 1.1023\n",
            "Epoch 4/5\n",
            "\u001b[1m10/10\u001b[0m \u001b[32m━━━━━━━━━━━━━━━━━━━━\u001b[0m\u001b[37m\u001b[0m \u001b[1m2s\u001b[0m 172ms/step - accuracy: 0.3482 - loss: 1.0983 - val_accuracy: 0.2319 - val_loss: 1.1026\n",
            "Epoch 5/5\n",
            "\u001b[1m10/10\u001b[0m \u001b[32m━━━━━━━━━━━━━━━━━━━━\u001b[0m\u001b[37m\u001b[0m \u001b[1m3s\u001b[0m 294ms/step - accuracy: 0.3443 - loss: 1.0986 - val_accuracy: 0.2319 - val_loss: 1.1033\n",
            "Training BiLSTM with FastText...\n",
            "Epoch 1/5\n"
          ]
        },
        {
          "output_type": "stream",
          "name": "stderr",
          "text": [
            "/usr/local/lib/python3.11/dist-packages/keras/src/layers/rnn/bidirectional.py:107: UserWarning: Do not pass an `input_shape`/`input_dim` argument to a layer. When using Sequential models, prefer using an `Input(shape)` object as the first layer in the model instead.\n",
            "  super().__init__(**kwargs)\n"
          ]
        },
        {
          "output_type": "stream",
          "name": "stdout",
          "text": [
            "\u001b[1m10/10\u001b[0m \u001b[32m━━━━━━━━━━━━━━━━━━━━\u001b[0m\u001b[37m\u001b[0m \u001b[1m12s\u001b[0m 579ms/step - accuracy: 0.2765 - loss: 1.0992 - val_accuracy: 0.2319 - val_loss: 1.1003\n",
            "Epoch 2/5\n",
            "\u001b[1m10/10\u001b[0m \u001b[32m━━━━━━━━━━━━━━━━━━━━\u001b[0m\u001b[37m\u001b[0m \u001b[1m8s\u001b[0m 335ms/step - accuracy: 0.3292 - loss: 1.0984 - val_accuracy: 0.2319 - val_loss: 1.1043\n",
            "Epoch 3/5\n",
            "\u001b[1m10/10\u001b[0m \u001b[32m━━━━━━━━━━━━━━━━━━━━\u001b[0m\u001b[37m\u001b[0m \u001b[1m5s\u001b[0m 468ms/step - accuracy: 0.3202 - loss: 1.0993 - val_accuracy: 0.2319 - val_loss: 1.1055\n",
            "Epoch 4/5\n",
            "\u001b[1m10/10\u001b[0m \u001b[32m━━━━━━━━━━━━━━━━━━━━\u001b[0m\u001b[37m\u001b[0m \u001b[1m4s\u001b[0m 336ms/step - accuracy: 0.3476 - loss: 1.0966 - val_accuracy: 0.2319 - val_loss: 1.1060\n",
            "Epoch 5/5\n",
            "\u001b[1m10/10\u001b[0m \u001b[32m━━━━━━━━━━━━━━━━━━━━\u001b[0m\u001b[37m\u001b[0m \u001b[1m5s\u001b[0m 352ms/step - accuracy: 0.3358 - loss: 1.0984 - val_accuracy: 0.2319 - val_loss: 1.1048\n",
            "Training CNN-BiLSTM with FastText...\n",
            "Epoch 1/5\n",
            "\u001b[1m10/10\u001b[0m \u001b[32m━━━━━━━━━━━━━━━━━━━━\u001b[0m\u001b[37m\u001b[0m \u001b[1m12s\u001b[0m 393ms/step - accuracy: 0.3418 - loss: 1.0994 - val_accuracy: 0.2319 - val_loss: 1.1030\n",
            "Epoch 2/5\n",
            "\u001b[1m10/10\u001b[0m \u001b[32m━━━━━━━━━━━━━━━━━━━━\u001b[0m\u001b[37m\u001b[0m \u001b[1m2s\u001b[0m 203ms/step - accuracy: 0.3553 - loss: 1.0979 - val_accuracy: 0.2319 - val_loss: 1.1034\n",
            "Epoch 3/5\n",
            "\u001b[1m10/10\u001b[0m \u001b[32m━━━━━━━━━━━━━━━━━━━━\u001b[0m\u001b[37m\u001b[0m \u001b[1m2s\u001b[0m 198ms/step - accuracy: 0.3722 - loss: 1.0969 - val_accuracy: 0.2319 - val_loss: 1.1056\n",
            "Epoch 4/5\n",
            "\u001b[1m10/10\u001b[0m \u001b[32m━━━━━━━━━━━━━━━━━━━━\u001b[0m\u001b[37m\u001b[0m \u001b[1m3s\u001b[0m 195ms/step - accuracy: 0.3818 - loss: 1.0954 - val_accuracy: 0.2319 - val_loss: 1.1057\n",
            "Epoch 5/5\n",
            "\u001b[1m10/10\u001b[0m \u001b[32m━━━━━━━━━━━━━━━━━━━━\u001b[0m\u001b[37m\u001b[0m \u001b[1m2s\u001b[0m 195ms/step - accuracy: 0.3629 - loss: 1.0945 - val_accuracy: 0.2319 - val_loss: 1.1001\n",
            "All models trained successfully with FastText embeddings!\n"
          ]
        }
      ]
    },
    {
      "cell_type": "markdown",
      "source": [
        "# **5. Comparative Analysis of Models**"
      ],
      "metadata": {
        "id": "ULk86w58oB8Z"
      }
    },
    {
      "cell_type": "code",
      "source": [
        "from sklearn.metrics import accuracy_score, classification_report\n",
        "import numpy as np\n",
        "\n",
        "# Function to evaluate a model\n",
        "def evaluate_model(model, X_test, test_labels, model_name):\n",
        "    # Predict probabilities\n",
        "    y_pred_probs = model.predict(X_test)\n",
        "\n",
        "    # Convert probabilities to class labels\n",
        "    y_pred = np.argmax(y_pred_probs, axis=1)\n",
        "\n",
        "    # Calculate accuracy\n",
        "    accuracy = accuracy_score(test_labels, y_pred)\n",
        "\n",
        "    # Generate classification report\n",
        "    report = classification_report(test_labels, y_pred, target_names=label_encoder.classes_)\n",
        "\n",
        "    print(f\"{model_name} Accuracy: {accuracy:.4f}\")\n",
        "    print(f\"{model_name} Classification Report:\\n{report}\")\n",
        "    return accuracy\n",
        "\n",
        "# Evaluate BoW-based models\n",
        "print(\"Evaluating BoW-based models...\")\n",
        "cnn_bow_acc = evaluate_model(cnn_bow, X_test_bow, test_labels, \"CNN with BoW\")\n",
        "lstm_bow_acc = evaluate_model(lstm_bow, X_test_bow, test_labels, \"LSTM with BoW\")\n",
        "bilstm_bow_acc = evaluate_model(bilstm_bow, X_test_bow, test_labels, \"BiLSTM with BoW\")\n",
        "cnn_bilstm_bow_acc = evaluate_model(cnn_bilstm_bow, X_test_bow, test_labels, \"CNN-BiLSTM with BoW\")\n",
        "\n",
        "# Evaluate TF-IDF-based models\n",
        "print(\"\\nEvaluating TF-IDF-based models...\")\n",
        "cnn_tfidf_acc = evaluate_model(cnn_tfidf, X_test_tfidf, test_labels, \"CNN with TF-IDF\")\n",
        "lstm_tfidf_acc = evaluate_model(lstm_tfidf, X_test_tfidf, test_labels, \"LSTM with TF-IDF\")\n",
        "bilstm_tfidf_acc = evaluate_model(bilstm_tfidf, X_test_tfidf, test_labels, \"BiLSTM with TF-IDF\")\n",
        "cnn_bilstm_tfidf_acc = evaluate_model(cnn_bilstm_tfidf, X_test_tfidf, test_labels, \"CNN-BiLSTM with TF-IDF\")\n",
        "\n",
        "# Evaluate FastText-based models\n",
        "print(\"\\nEvaluating FastText-based models...\")\n",
        "cnn_fasttext_acc = evaluate_model(cnn_fasttext, X_test_fasttext_padded, test_labels, \"CNN with FastText\")\n",
        "lstm_fasttext_acc = evaluate_model(lstm_fasttext, X_test_fasttext_padded, test_labels, \"LSTM with FastText\")\n",
        "bilstm_fasttext_acc = evaluate_model(bilstm_fasttext, X_test_fasttext_padded, test_labels, \"BiLSTM with FastText\")\n",
        "cnn_bilstm_fasttext_acc = evaluate_model(cnn_bilstm_fasttext, X_test_fasttext_padded, test_labels, \"CNN-BiLSTM with FastText\")\n"
      ],
      "metadata": {
        "colab": {
          "base_uri": "https://localhost:8080/"
        },
        "id": "S7LxqF3voDYJ",
        "outputId": "8b12c507-ae40-419a-c0c8-5010297e9fcd"
      },
      "execution_count": null,
      "outputs": [
        {
          "output_type": "stream",
          "name": "stdout",
          "text": [
            "Evaluating BoW-based models...\n",
            "\u001b[1m6/6\u001b[0m \u001b[32m━━━━━━━━━━━━━━━━━━━━\u001b[0m\u001b[37m\u001b[0m \u001b[1m0s\u001b[0m 68ms/step\n",
            "CNN with BoW Accuracy: 0.9181\n",
            "CNN with BoW Classification Report:\n",
            "              precision    recall  f1-score   support\n",
            "\n",
            "    negative       1.00      0.77      0.87        56\n",
            "     neutral       0.91      1.00      0.95        60\n",
            "    positive       0.87      0.98      0.92        55\n",
            "\n",
            "    accuracy                           0.92       171\n",
            "   macro avg       0.93      0.92      0.91       171\n",
            "weighted avg       0.93      0.92      0.92       171\n",
            "\n",
            "\u001b[1m6/6\u001b[0m \u001b[32m━━━━━━━━━━━━━━━━━━━━\u001b[0m\u001b[37m\u001b[0m \u001b[1m4s\u001b[0m 534ms/step\n"
          ]
        },
        {
          "output_type": "stream",
          "name": "stderr",
          "text": [
            "/usr/local/lib/python3.11/dist-packages/sklearn/metrics/_classification.py:1565: UndefinedMetricWarning: Precision is ill-defined and being set to 0.0 in labels with no predicted samples. Use `zero_division` parameter to control this behavior.\n",
            "  _warn_prf(average, modifier, f\"{metric.capitalize()} is\", len(result))\n",
            "/usr/local/lib/python3.11/dist-packages/sklearn/metrics/_classification.py:1565: UndefinedMetricWarning: Precision is ill-defined and being set to 0.0 in labels with no predicted samples. Use `zero_division` parameter to control this behavior.\n",
            "  _warn_prf(average, modifier, f\"{metric.capitalize()} is\", len(result))\n",
            "/usr/local/lib/python3.11/dist-packages/sklearn/metrics/_classification.py:1565: UndefinedMetricWarning: Precision is ill-defined and being set to 0.0 in labels with no predicted samples. Use `zero_division` parameter to control this behavior.\n",
            "  _warn_prf(average, modifier, f\"{metric.capitalize()} is\", len(result))\n"
          ]
        },
        {
          "output_type": "stream",
          "name": "stdout",
          "text": [
            "LSTM with BoW Accuracy: 0.3216\n",
            "LSTM with BoW Classification Report:\n",
            "              precision    recall  f1-score   support\n",
            "\n",
            "    negative       0.00      0.00      0.00        56\n",
            "     neutral       0.00      0.00      0.00        60\n",
            "    positive       0.32      1.00      0.49        55\n",
            "\n",
            "    accuracy                           0.32       171\n",
            "   macro avg       0.11      0.33      0.16       171\n",
            "weighted avg       0.10      0.32      0.16       171\n",
            "\n"
          ]
        },
        {
          "output_type": "stream",
          "name": "stderr",
          "text": [
            "WARNING:tensorflow:5 out of the last 13 calls to <function TensorFlowTrainer.make_predict_function.<locals>.one_step_on_data_distributed at 0x7b9236e97060> triggered tf.function retracing. Tracing is expensive and the excessive number of tracings could be due to (1) creating @tf.function repeatedly in a loop, (2) passing tensors with different shapes, (3) passing Python objects instead of tensors. For (1), please define your @tf.function outside of the loop. For (2), @tf.function has reduce_retracing=True option that can avoid unnecessary retracing. For (3), please refer to https://www.tensorflow.org/guide/function#controlling_retracing and https://www.tensorflow.org/api_docs/python/tf/function for  more details.\n"
          ]
        },
        {
          "output_type": "stream",
          "name": "stdout",
          "text": [
            "\u001b[1m6/6\u001b[0m \u001b[32m━━━━━━━━━━━━━━━━━━━━\u001b[0m\u001b[37m\u001b[0m \u001b[1m5s\u001b[0m 721ms/step\n",
            "BiLSTM with BoW Accuracy: 0.3216\n",
            "BiLSTM with BoW Classification Report:\n",
            "              precision    recall  f1-score   support\n",
            "\n",
            "    negative       0.00      0.00      0.00        56\n",
            "     neutral       0.00      0.00      0.00        60\n",
            "    positive       0.32      1.00      0.49        55\n",
            "\n",
            "    accuracy                           0.32       171\n",
            "   macro avg       0.11      0.33      0.16       171\n",
            "weighted avg       0.10      0.32      0.16       171\n",
            "\n"
          ]
        },
        {
          "output_type": "stream",
          "name": "stderr",
          "text": [
            "/usr/local/lib/python3.11/dist-packages/sklearn/metrics/_classification.py:1565: UndefinedMetricWarning: Precision is ill-defined and being set to 0.0 in labels with no predicted samples. Use `zero_division` parameter to control this behavior.\n",
            "  _warn_prf(average, modifier, f\"{metric.capitalize()} is\", len(result))\n",
            "/usr/local/lib/python3.11/dist-packages/sklearn/metrics/_classification.py:1565: UndefinedMetricWarning: Precision is ill-defined and being set to 0.0 in labels with no predicted samples. Use `zero_division` parameter to control this behavior.\n",
            "  _warn_prf(average, modifier, f\"{metric.capitalize()} is\", len(result))\n",
            "/usr/local/lib/python3.11/dist-packages/sklearn/metrics/_classification.py:1565: UndefinedMetricWarning: Precision is ill-defined and being set to 0.0 in labels with no predicted samples. Use `zero_division` parameter to control this behavior.\n",
            "  _warn_prf(average, modifier, f\"{metric.capitalize()} is\", len(result))\n",
            "WARNING:tensorflow:5 out of the last 13 calls to <function TensorFlowTrainer.make_predict_function.<locals>.one_step_on_data_distributed at 0x7b9236c30b80> triggered tf.function retracing. Tracing is expensive and the excessive number of tracings could be due to (1) creating @tf.function repeatedly in a loop, (2) passing tensors with different shapes, (3) passing Python objects instead of tensors. For (1), please define your @tf.function outside of the loop. For (2), @tf.function has reduce_retracing=True option that can avoid unnecessary retracing. For (3), please refer to https://www.tensorflow.org/guide/function#controlling_retracing and https://www.tensorflow.org/api_docs/python/tf/function for  more details.\n"
          ]
        },
        {
          "output_type": "stream",
          "name": "stdout",
          "text": [
            "\u001b[1m6/6\u001b[0m \u001b[32m━━━━━━━━━━━━━━━━━━━━\u001b[0m\u001b[37m\u001b[0m \u001b[1m4s\u001b[0m 546ms/step\n",
            "CNN-BiLSTM with BoW Accuracy: 0.3216\n",
            "CNN-BiLSTM with BoW Classification Report:\n",
            "              precision    recall  f1-score   support\n",
            "\n",
            "    negative       0.00      0.00      0.00        56\n",
            "     neutral       0.00      0.00      0.00        60\n",
            "    positive       0.32      1.00      0.49        55\n",
            "\n",
            "    accuracy                           0.32       171\n",
            "   macro avg       0.11      0.33      0.16       171\n",
            "weighted avg       0.10      0.32      0.16       171\n",
            "\n",
            "\n",
            "Evaluating TF-IDF-based models...\n",
            "\u001b[1m1/6\u001b[0m \u001b[32m━━━\u001b[0m\u001b[37m━━━━━━━━━━━━━━━━━\u001b[0m \u001b[1m0s\u001b[0m 144ms/step"
          ]
        },
        {
          "output_type": "stream",
          "name": "stderr",
          "text": [
            "/usr/local/lib/python3.11/dist-packages/sklearn/metrics/_classification.py:1565: UndefinedMetricWarning: Precision is ill-defined and being set to 0.0 in labels with no predicted samples. Use `zero_division` parameter to control this behavior.\n",
            "  _warn_prf(average, modifier, f\"{metric.capitalize()} is\", len(result))\n",
            "/usr/local/lib/python3.11/dist-packages/sklearn/metrics/_classification.py:1565: UndefinedMetricWarning: Precision is ill-defined and being set to 0.0 in labels with no predicted samples. Use `zero_division` parameter to control this behavior.\n",
            "  _warn_prf(average, modifier, f\"{metric.capitalize()} is\", len(result))\n",
            "/usr/local/lib/python3.11/dist-packages/sklearn/metrics/_classification.py:1565: UndefinedMetricWarning: Precision is ill-defined and being set to 0.0 in labels with no predicted samples. Use `zero_division` parameter to control this behavior.\n",
            "  _warn_prf(average, modifier, f\"{metric.capitalize()} is\", len(result))\n"
          ]
        },
        {
          "output_type": "stream",
          "name": "stdout",
          "text": [
            "\u001b[1m6/6\u001b[0m \u001b[32m━━━━━━━━━━━━━━━━━━━━\u001b[0m\u001b[37m\u001b[0m \u001b[1m0s\u001b[0m 64ms/step\n",
            "CNN with TF-IDF Accuracy: 0.3509\n",
            "CNN with TF-IDF Classification Report:\n",
            "              precision    recall  f1-score   support\n",
            "\n",
            "    negative       0.00      0.00      0.00        56\n",
            "     neutral       0.35      1.00      0.52        60\n",
            "    positive       0.00      0.00      0.00        55\n",
            "\n",
            "    accuracy                           0.35       171\n",
            "   macro avg       0.12      0.33      0.17       171\n",
            "weighted avg       0.12      0.35      0.18       171\n",
            "\n"
          ]
        },
        {
          "output_type": "stream",
          "name": "stderr",
          "text": [
            "/usr/local/lib/python3.11/dist-packages/sklearn/metrics/_classification.py:1565: UndefinedMetricWarning: Precision is ill-defined and being set to 0.0 in labels with no predicted samples. Use `zero_division` parameter to control this behavior.\n",
            "  _warn_prf(average, modifier, f\"{metric.capitalize()} is\", len(result))\n",
            "/usr/local/lib/python3.11/dist-packages/sklearn/metrics/_classification.py:1565: UndefinedMetricWarning: Precision is ill-defined and being set to 0.0 in labels with no predicted samples. Use `zero_division` parameter to control this behavior.\n",
            "  _warn_prf(average, modifier, f\"{metric.capitalize()} is\", len(result))\n",
            "/usr/local/lib/python3.11/dist-packages/sklearn/metrics/_classification.py:1565: UndefinedMetricWarning: Precision is ill-defined and being set to 0.0 in labels with no predicted samples. Use `zero_division` parameter to control this behavior.\n",
            "  _warn_prf(average, modifier, f\"{metric.capitalize()} is\", len(result))\n"
          ]
        },
        {
          "output_type": "stream",
          "name": "stdout",
          "text": [
            "\u001b[1m6/6\u001b[0m \u001b[32m━━━━━━━━━━━━━━━━━━━━\u001b[0m\u001b[37m\u001b[0m \u001b[1m3s\u001b[0m 365ms/step\n",
            "LSTM with TF-IDF Accuracy: 0.3216\n",
            "LSTM with TF-IDF Classification Report:\n",
            "              precision    recall  f1-score   support\n",
            "\n",
            "    negative       0.00      0.00      0.00        56\n",
            "     neutral       0.00      0.00      0.00        60\n",
            "    positive       0.32      1.00      0.49        55\n",
            "\n",
            "    accuracy                           0.32       171\n",
            "   macro avg       0.11      0.33      0.16       171\n",
            "weighted avg       0.10      0.32      0.16       171\n",
            "\n"
          ]
        },
        {
          "output_type": "stream",
          "name": "stderr",
          "text": [
            "/usr/local/lib/python3.11/dist-packages/sklearn/metrics/_classification.py:1565: UndefinedMetricWarning: Precision is ill-defined and being set to 0.0 in labels with no predicted samples. Use `zero_division` parameter to control this behavior.\n",
            "  _warn_prf(average, modifier, f\"{metric.capitalize()} is\", len(result))\n",
            "/usr/local/lib/python3.11/dist-packages/sklearn/metrics/_classification.py:1565: UndefinedMetricWarning: Precision is ill-defined and being set to 0.0 in labels with no predicted samples. Use `zero_division` parameter to control this behavior.\n",
            "  _warn_prf(average, modifier, f\"{metric.capitalize()} is\", len(result))\n",
            "/usr/local/lib/python3.11/dist-packages/sklearn/metrics/_classification.py:1565: UndefinedMetricWarning: Precision is ill-defined and being set to 0.0 in labels with no predicted samples. Use `zero_division` parameter to control this behavior.\n",
            "  _warn_prf(average, modifier, f\"{metric.capitalize()} is\", len(result))\n"
          ]
        },
        {
          "output_type": "stream",
          "name": "stdout",
          "text": [
            "\u001b[1m6/6\u001b[0m \u001b[32m━━━━━━━━━━━━━━━━━━━━\u001b[0m\u001b[37m\u001b[0m \u001b[1m5s\u001b[0m 711ms/step\n",
            "BiLSTM with TF-IDF Accuracy: 0.3216\n",
            "BiLSTM with TF-IDF Classification Report:\n",
            "              precision    recall  f1-score   support\n",
            "\n",
            "    negative       0.00      0.00      0.00        56\n",
            "     neutral       0.00      0.00      0.00        60\n",
            "    positive       0.32      1.00      0.49        55\n",
            "\n",
            "    accuracy                           0.32       171\n",
            "   macro avg       0.11      0.33      0.16       171\n",
            "weighted avg       0.10      0.32      0.16       171\n",
            "\n"
          ]
        },
        {
          "output_type": "stream",
          "name": "stderr",
          "text": [
            "/usr/local/lib/python3.11/dist-packages/sklearn/metrics/_classification.py:1565: UndefinedMetricWarning: Precision is ill-defined and being set to 0.0 in labels with no predicted samples. Use `zero_division` parameter to control this behavior.\n",
            "  _warn_prf(average, modifier, f\"{metric.capitalize()} is\", len(result))\n",
            "/usr/local/lib/python3.11/dist-packages/sklearn/metrics/_classification.py:1565: UndefinedMetricWarning: Precision is ill-defined and being set to 0.0 in labels with no predicted samples. Use `zero_division` parameter to control this behavior.\n",
            "  _warn_prf(average, modifier, f\"{metric.capitalize()} is\", len(result))\n",
            "/usr/local/lib/python3.11/dist-packages/sklearn/metrics/_classification.py:1565: UndefinedMetricWarning: Precision is ill-defined and being set to 0.0 in labels with no predicted samples. Use `zero_division` parameter to control this behavior.\n",
            "  _warn_prf(average, modifier, f\"{metric.capitalize()} is\", len(result))\n"
          ]
        },
        {
          "output_type": "stream",
          "name": "stdout",
          "text": [
            "\u001b[1m6/6\u001b[0m \u001b[32m━━━━━━━━━━━━━━━━━━━━\u001b[0m\u001b[37m\u001b[0m \u001b[1m5s\u001b[0m 648ms/step\n",
            "CNN-BiLSTM with TF-IDF Accuracy: 0.3216\n",
            "CNN-BiLSTM with TF-IDF Classification Report:\n",
            "              precision    recall  f1-score   support\n",
            "\n",
            "    negative       0.00      0.00      0.00        56\n",
            "     neutral       0.00      0.00      0.00        60\n",
            "    positive       0.32      1.00      0.49        55\n",
            "\n",
            "    accuracy                           0.32       171\n",
            "   macro avg       0.11      0.33      0.16       171\n",
            "weighted avg       0.10      0.32      0.16       171\n",
            "\n",
            "\n",
            "Evaluating FastText-based models...\n",
            "\u001b[1m6/6\u001b[0m \u001b[32m━━━━━━━━━━━━━━━━━━━━\u001b[0m\u001b[37m\u001b[0m \u001b[1m0s\u001b[0m 15ms/step"
          ]
        },
        {
          "output_type": "stream",
          "name": "stderr",
          "text": [
            "/usr/local/lib/python3.11/dist-packages/sklearn/metrics/_classification.py:1565: UndefinedMetricWarning: Precision is ill-defined and being set to 0.0 in labels with no predicted samples. Use `zero_division` parameter to control this behavior.\n",
            "  _warn_prf(average, modifier, f\"{metric.capitalize()} is\", len(result))\n",
            "/usr/local/lib/python3.11/dist-packages/sklearn/metrics/_classification.py:1565: UndefinedMetricWarning: Precision is ill-defined and being set to 0.0 in labels with no predicted samples. Use `zero_division` parameter to control this behavior.\n",
            "  _warn_prf(average, modifier, f\"{metric.capitalize()} is\", len(result))\n",
            "/usr/local/lib/python3.11/dist-packages/sklearn/metrics/_classification.py:1565: UndefinedMetricWarning: Precision is ill-defined and being set to 0.0 in labels with no predicted samples. Use `zero_division` parameter to control this behavior.\n",
            "  _warn_prf(average, modifier, f\"{metric.capitalize()} is\", len(result))\n"
          ]
        },
        {
          "output_type": "stream",
          "name": "stdout",
          "text": [
            "\b\b\b\b\b\b\b\b\b\b\b\b\b\b\b\b\b\b\b\b\b\b\b\b\b\b\b\b\b\b\b\b\b\b\b\b\b\r\u001b[1m6/6\u001b[0m \u001b[32m━━━━━━━━━━━━━━━━━━━━\u001b[0m\u001b[37m\u001b[0m \u001b[1m0s\u001b[0m 19ms/step\n",
            "CNN with FastText Accuracy: 0.3275\n",
            "CNN with FastText Classification Report:\n",
            "              precision    recall  f1-score   support\n",
            "\n",
            "    negative       0.57      0.07      0.13        56\n",
            "     neutral       0.00      0.00      0.00        60\n",
            "    positive       0.32      0.95      0.47        55\n",
            "\n",
            "    accuracy                           0.33       171\n",
            "   macro avg       0.30      0.34      0.20       171\n",
            "weighted avg       0.29      0.33      0.19       171\n",
            "\n"
          ]
        },
        {
          "output_type": "stream",
          "name": "stderr",
          "text": [
            "/usr/local/lib/python3.11/dist-packages/sklearn/metrics/_classification.py:1565: UndefinedMetricWarning: Precision is ill-defined and being set to 0.0 in labels with no predicted samples. Use `zero_division` parameter to control this behavior.\n",
            "  _warn_prf(average, modifier, f\"{metric.capitalize()} is\", len(result))\n",
            "/usr/local/lib/python3.11/dist-packages/sklearn/metrics/_classification.py:1565: UndefinedMetricWarning: Precision is ill-defined and being set to 0.0 in labels with no predicted samples. Use `zero_division` parameter to control this behavior.\n",
            "  _warn_prf(average, modifier, f\"{metric.capitalize()} is\", len(result))\n",
            "/usr/local/lib/python3.11/dist-packages/sklearn/metrics/_classification.py:1565: UndefinedMetricWarning: Precision is ill-defined and being set to 0.0 in labels with no predicted samples. Use `zero_division` parameter to control this behavior.\n",
            "  _warn_prf(average, modifier, f\"{metric.capitalize()} is\", len(result))\n"
          ]
        },
        {
          "output_type": "stream",
          "name": "stdout",
          "text": [
            "\u001b[1m6/6\u001b[0m \u001b[32m━━━━━━━━━━━━━━━━━━━━\u001b[0m\u001b[37m\u001b[0m \u001b[1m1s\u001b[0m 105ms/step\n",
            "LSTM with FastText Accuracy: 0.3216\n",
            "LSTM with FastText Classification Report:\n",
            "              precision    recall  f1-score   support\n",
            "\n",
            "    negative       0.00      0.00      0.00        56\n",
            "     neutral       0.00      0.00      0.00        60\n",
            "    positive       0.32      1.00      0.49        55\n",
            "\n",
            "    accuracy                           0.32       171\n",
            "   macro avg       0.11      0.33      0.16       171\n",
            "weighted avg       0.10      0.32      0.16       171\n",
            "\n"
          ]
        },
        {
          "output_type": "stream",
          "name": "stderr",
          "text": [
            "/usr/local/lib/python3.11/dist-packages/sklearn/metrics/_classification.py:1565: UndefinedMetricWarning: Precision is ill-defined and being set to 0.0 in labels with no predicted samples. Use `zero_division` parameter to control this behavior.\n",
            "  _warn_prf(average, modifier, f\"{metric.capitalize()} is\", len(result))\n",
            "/usr/local/lib/python3.11/dist-packages/sklearn/metrics/_classification.py:1565: UndefinedMetricWarning: Precision is ill-defined and being set to 0.0 in labels with no predicted samples. Use `zero_division` parameter to control this behavior.\n",
            "  _warn_prf(average, modifier, f\"{metric.capitalize()} is\", len(result))\n",
            "/usr/local/lib/python3.11/dist-packages/sklearn/metrics/_classification.py:1565: UndefinedMetricWarning: Precision is ill-defined and being set to 0.0 in labels with no predicted samples. Use `zero_division` parameter to control this behavior.\n",
            "  _warn_prf(average, modifier, f\"{metric.capitalize()} is\", len(result))\n"
          ]
        },
        {
          "output_type": "stream",
          "name": "stdout",
          "text": [
            "\u001b[1m6/6\u001b[0m \u001b[32m━━━━━━━━━━━━━━━━━━━━\u001b[0m\u001b[37m\u001b[0m \u001b[1m2s\u001b[0m 224ms/step\n",
            "BiLSTM with FastText Accuracy: 0.3216\n",
            "BiLSTM with FastText Classification Report:\n",
            "              precision    recall  f1-score   support\n",
            "\n",
            "    negative       0.00      0.00      0.00        56\n",
            "     neutral       0.00      0.00      0.00        60\n",
            "    positive       0.32      1.00      0.49        55\n",
            "\n",
            "    accuracy                           0.32       171\n",
            "   macro avg       0.11      0.33      0.16       171\n",
            "weighted avg       0.10      0.32      0.16       171\n",
            "\n"
          ]
        },
        {
          "output_type": "stream",
          "name": "stderr",
          "text": [
            "/usr/local/lib/python3.11/dist-packages/sklearn/metrics/_classification.py:1565: UndefinedMetricWarning: Precision is ill-defined and being set to 0.0 in labels with no predicted samples. Use `zero_division` parameter to control this behavior.\n",
            "  _warn_prf(average, modifier, f\"{metric.capitalize()} is\", len(result))\n",
            "/usr/local/lib/python3.11/dist-packages/sklearn/metrics/_classification.py:1565: UndefinedMetricWarning: Precision is ill-defined and being set to 0.0 in labels with no predicted samples. Use `zero_division` parameter to control this behavior.\n",
            "  _warn_prf(average, modifier, f\"{metric.capitalize()} is\", len(result))\n",
            "/usr/local/lib/python3.11/dist-packages/sklearn/metrics/_classification.py:1565: UndefinedMetricWarning: Precision is ill-defined and being set to 0.0 in labels with no predicted samples. Use `zero_division` parameter to control this behavior.\n",
            "  _warn_prf(average, modifier, f\"{metric.capitalize()} is\", len(result))\n"
          ]
        },
        {
          "output_type": "stream",
          "name": "stdout",
          "text": [
            "\u001b[1m6/6\u001b[0m \u001b[32m━━━━━━━━━━━━━━━━━━━━\u001b[0m\u001b[37m\u001b[0m \u001b[1m2s\u001b[0m 204ms/step\n",
            "CNN-BiLSTM with FastText Accuracy: 0.3216\n",
            "CNN-BiLSTM with FastText Classification Report:\n",
            "              precision    recall  f1-score   support\n",
            "\n",
            "    negative       0.00      0.00      0.00        56\n",
            "     neutral       0.00      0.00      0.00        60\n",
            "    positive       0.32      1.00      0.49        55\n",
            "\n",
            "    accuracy                           0.32       171\n",
            "   macro avg       0.11      0.33      0.16       171\n",
            "weighted avg       0.10      0.32      0.16       171\n",
            "\n"
          ]
        },
        {
          "output_type": "stream",
          "name": "stderr",
          "text": [
            "/usr/local/lib/python3.11/dist-packages/sklearn/metrics/_classification.py:1565: UndefinedMetricWarning: Precision is ill-defined and being set to 0.0 in labels with no predicted samples. Use `zero_division` parameter to control this behavior.\n",
            "  _warn_prf(average, modifier, f\"{metric.capitalize()} is\", len(result))\n",
            "/usr/local/lib/python3.11/dist-packages/sklearn/metrics/_classification.py:1565: UndefinedMetricWarning: Precision is ill-defined and being set to 0.0 in labels with no predicted samples. Use `zero_division` parameter to control this behavior.\n",
            "  _warn_prf(average, modifier, f\"{metric.capitalize()} is\", len(result))\n",
            "/usr/local/lib/python3.11/dist-packages/sklearn/metrics/_classification.py:1565: UndefinedMetricWarning: Precision is ill-defined and being set to 0.0 in labels with no predicted samples. Use `zero_division` parameter to control this behavior.\n",
            "  _warn_prf(average, modifier, f\"{metric.capitalize()} is\", len(result))\n"
          ]
        }
      ]
    },
    {
      "cell_type": "markdown",
      "source": [
        "# **6. Saving the Best Model**"
      ],
      "metadata": {
        "id": "9M1_haGw5JYR"
      }
    },
    {
      "cell_type": "code",
      "source": [
        "cnn_bow.save('cnn_bow_model.h5')\n",
        "print(\"CNN on BoW model saved successfully\")"
      ],
      "metadata": {
        "colab": {
          "base_uri": "https://localhost:8080/"
        },
        "id": "ynlYE1Q75Tyj",
        "outputId": "a5283051-e4f9-41d5-b0bb-cdbdd4c0eb65"
      },
      "execution_count": null,
      "outputs": [
        {
          "output_type": "stream",
          "name": "stderr",
          "text": [
            "WARNING:absl:You are saving your model as an HDF5 file via `model.save()` or `keras.saving.save_model(model)`. This file format is considered legacy. We recommend using instead the native Keras format, e.g. `model.save('my_model.keras')` or `keras.saving.save_model(model, 'my_model.keras')`. \n"
          ]
        },
        {
          "output_type": "stream",
          "name": "stdout",
          "text": [
            "CNN on BoW model saved successfully\n"
          ]
        }
      ]
    },
    {
      "cell_type": "markdown",
      "source": [
        "# **7. Prediction on Real-World Input**"
      ],
      "metadata": {
        "id": "yLiXx6QmaCzo"
      }
    },
    {
      "cell_type": "code",
      "source": [
        "# Load the saved model\n",
        "from keras.models import load_model\n",
        "model = load_model('cnn_bow_model.h5')\n",
        "\n",
        "# Real-world input\n",
        "new_text = \"The job is frustrating.\"\n",
        "\n",
        "# Preprocess the new text\n",
        "processed_text = preprocess_text(new_text)\n",
        "\n",
        "# Transform the preprocessed text using the BoW vectorizer\n",
        "input_data = bow_vectorizer.transform([processed_text]).toarray()\n",
        "\n",
        "# Predicting the class of new text\n",
        "predicted_class = model.predict(input_data)\n",
        "\n",
        "# Convert the predicted class index to the actual label\n",
        "predicted_label = label_encoder.inverse_transform([predicted_class.argmax()])\n",
        "\n",
        "print(f\"Predicted Class: {predicted_label[0]}\")"
      ],
      "metadata": {
        "colab": {
          "base_uri": "https://localhost:8080/"
        },
        "id": "p2_f1bd6aEKg",
        "outputId": "2fadd9aa-14f3-405f-caeb-044b46dea1fc"
      },
      "execution_count": null,
      "outputs": [
        {
          "output_type": "stream",
          "name": "stderr",
          "text": [
            "WARNING:absl:Compiled the loaded model, but the compiled metrics have yet to be built. `model.compile_metrics` will be empty until you train or evaluate the model.\n"
          ]
        },
        {
          "output_type": "stream",
          "name": "stdout",
          "text": [
            "\u001b[1m1/1\u001b[0m \u001b[32m━━━━━━━━━━━━━━━━━━━━\u001b[0m\u001b[37m\u001b[0m \u001b[1m0s\u001b[0m 237ms/step\n",
            "Predicted Class: negative\n"
          ]
        }
      ]
    },
    {
      "cell_type": "markdown",
      "source": [
        "# **8. Analysis**"
      ],
      "metadata": {
        "id": "BJ8y8hv-oW9x"
      }
    },
    {
      "cell_type": "markdown",
      "source": [
        "The analysis of different models are presented in the table below:"
      ],
      "metadata": {
        "id": "dCjgzeCCvGeo"
      }
    },
    {
      "cell_type": "markdown",
      "source": [
        "![Screenshot 2025-03-26 003754.png](data:image/png;base64,iVBORw0KGgoAAAANSUhEUgAAAlkAAAHSCAYAAADfZ97BAAAAAXNSR0IArs4c6QAAAARnQU1BAACxjwv8YQUAAAAJcEhZcwAADsMAAA7DAcdvqGQAAH/cSURBVHhe7f1/cBt3fid4v52bWilPdpXKVnme2nvIA2xg+WPpuCrO+KrGFxZFCTZVJmUoPKX0zNTGCR6JgY8zFmUtKayOl9nsZBEGIs8r2QlLEKXCxrebKe7oGMGiPGQJQ4qnrKdqfXGeKOLyRwCrZbAuW+PsVUV185xU5QyeP/oHvv1FdwNooin8eL+qUDbR3fjxwbe//env99OtZwqFQgFEREREVFM/Iz9BRERERLvHJIuIiIjIA0yyiIiIiDzAJIuIiIjIA8+UK3yf//f/Hv/xk0/kpyvyD/7BP8Cpk/8ftP2/2uRFRERERE3NMcn63+7+b/jdeFx+uip+vx9zl5Py00RERERNzTHJunrtGua//+/x7dFvwe/3y4vL+qP/5QP85V/+Jf7k+v+Kv//3/768mIiIiKhpOSZZf/of/gPmrs4h/q/+laspvz/6Xz7AvXt/iX/5L/4FkywiIiJqKY5JlpP/3//9f+P/8bM/Kz9NRERERG6vLvzJT36Ct0b/B6zeWZUXEREREZHbJOuv/uqv8J//839GYnoa9/7ynryYiIiIqOW5ni78wfIS3v3X/xo/93M/h0v/+iJ8/81/AwC4nclgaXnZtO7P/Mwz+OlPi2+zb9/fw/g/G8c//IVfMK1HRERE1Cxsk6x/970/xqef/rn8tMnW9haePHmC/+dXv4r3L72HX/iFX0ChUMC/vnQJP1j6gbw6AODv/b2/h8TUFF7oeUFeRERERNQ0bJOsqcTvY2W18pqr2MQ5hA4fBgAUCgVcev893ProI9M6P/uzP4sLU7+Prq4u0/NEREREzcY2ybr7p3+KB8oD+WnDT//up/hf/2QBjx8/xvH//r9HdOS3TMsLhQIuvncJH/3gB9i/fz+eeeYZTMV/Dz3/5J+Y1iMiIiJqSgWXphKJQmjgtcK/+Je/U/jpT38qLy4UCoXCT3/608Lv/f5U4dd/8zcK6//pP8mLqVAorLzjK/h8voLvnRXtmfuF6a+pzx2+/Lm0dhUeXCkc9vkKvteuFCp+FX0b43G6oH+qynxeuPKatu1/N134K/1p/XWN79gYPr98WIhF8bGr38XO/7FSmD75euEX/3ljxUhktGX9EfjFwuvv/FHhz/6LvObe+Tz1qwWfz1f42j9fKTyWF1bqwR8VfjXgK/i+dq6w8n/JC5+2lcJpuY3+4uFC9PKfFf5WXtVz8mc5XLjyQFpl131MeSXtUHucvq2t8H/9uHB/8Urh3P/7Vwoddp+zEv/lzwp/9M7rhV8M6HF/vXBu8XP37aze/cV04Wt6PE/eaN7vWWOuri78Dx//B/xw5Yfw+3w4H/vneOaZZ+RVAADPPPMMYhPn8Pu/N4V/0t0tLybRrVV8CgDKx1j6Ql7YgHb+ADMfPpGfJTvrN/AHmXU8aqaQffkI6wvfwfDBGFZ/Ii8kzzzKYmlqGG99rxk6ktr7eOpXMPitOOZ/lIfr3e3LT/Gdg8P4zsI6Hn2pPfdoHfPfiuADRVq3SawvzeMLvISXXgaQuYEl7tMVcZVkvfL1V3Cwrw//8nf+Jfbt2ycvNvmZn/kZ/Nf/6B/JTxMA4Av8+K8B/NJLeOnJD7ByD/jiR6vI/tJLeAkA/s51F+COfwQZRYGipBCWl7mwlJpHM3TzwfN3oSiK8chE2+VVSBC+qsZp65MU3mwD8GgeH/xwj9uypv03F6AoCj6Z6odzT+XA/yYWsgqUTxLo/zl5Yb0II6UoULJbuHU2CAD4+JP78koe68clRYGi3MVkp7xMU+M+xoneDvXHpZD6/CuDb6Jn4NtI3cnYf85y/vwG5h8B+Pp3cXdda+/3Mrj8jR737ayu5fHxD78Avn4Cvzv8CoBVrPxIXoesuEqynnnmGUye/x+ZPO3aYzz6PwE89xv4jdAXWP0ki49/+DH6I7+BdgDZbF5b7wnyt2IYfNEPv199vPhGDEuKcOD68gss/e43EdLXORhHtrhU9ddLiL3xovEanQffwtyfP5LXqoEw3vyn+4A/n8H7n8jLAChzCGmfwfg+h4ufZfWsH/7DY/jOb74Mv9+Pl8+nkZ5Q/9//qx9Aj8refR8H5T5Dme+aT4bU50+l1fUXIsV1z6oXnujrhJLGN1dj5PdjLKM9ob1PKJnHox/FEQqqy18+m8YX+pk2HuHT5Fvo7dReP/giBs8vCctra9+z/Xjzm+oBP//XP1b/mwzB7w9hTnmEj39X++7BlzH2oZCOl4sp1NGa+fODeFn/Ln4//ANzRtsw4irFUvTokzm8dbj4PiXrlfx2Yyh5lSd5LJ0fxItavPWY5vVdMzMGv9+Pse+tIm58p04M/u7H8KSl/t0j/K02wrDvwM8Xn//yC/Pn7OzFW8lPzZ+h2pgGX0QoOodPPfkiHvr6JG4lx9Hv30U6dOAAvgoAP3of8T9ZxxdPgH0HgjgydQlviv/Mb5mYlm0/xr4+htUvs5jX+kR/5zBmhH3i0Z/P4a2DncZ7vPhGDEt/XXyNXVOWML8FBA++gp6v9yMIIP2RtDd8+QU+fvet4jHIYp95tDWP2Bsvo1NoR0a/pu9vYny0/cfYLyvo5yptp1/cnSnZ/8cyALZm0Ov3w/8rM+Zj6I++o37ub1Q3eOCYZN1ZW8M/m5jAX953d0b0b//dv8M/m5jA3/yXv5EXkckBvPRyEOufvo+VzCs48vV2/Lyw/+evDaP3W/NYFxrJo3vzeOtgBPN/DQBfYP7XX8Zb1z5G1q7De5RG5OtvYf5ecYUnyhLiv/oNzHkwvN3/6yNoxyN8cDVd0ZD8o9wS4r/621jVD/i5ND64ozblL743hrHva836z9/H/L29/T7Zqd7SHRHuP0PJd62h7J0Y3vrGHLLaa3+xMIbf/kj9BdYvDGJ4SujAv3yE9e+9hcPnVyv6jar15IslvH85C2AfXnlJHP3LYvW338I3r2ld2JdfIH36t5H+SYUx/fJTfOdXQoh9Tz24ufLFPN76tTiWcnY7TCXymPu1Xrz1PWHKSItp72+aO+L0+QjmjO/0BOvXYriyJaywa2lE/H74O1/GN5NZ4NkTuHz2JW3ZI6Tfetn8OZ/ksTQ1jG9c0w5nbmL65SNkl+MY/p2S1LMupE+JB/uQ4z5Ztc7fwnd/7VkAX2Dpf1KTqJe/Ecf8fxLaU9mYVt5+gHXMRYYR0/pEPPkUf/D2FTUJuDeDwV+Nm066H92bx1sDtZum/+JHq8jq+7H/l/HKPqHERV0D87/+Mr753pL9MeiT7+BXBmKYv/fFrvsbp36uhEU7/eJ738TLv/4H1vt/529g5JcA7KRxw9hHnyD9bz7AExzAm2dP4FnzFo4ck6y/+Zu/wb2/vIe/uPcX+It791w8/gL3/vIe/u7Lv5NfmgAAXyCv7fjtXz+CZ2+lkf56GIeefRbtfgBfPgHwKeYurAM4gPAffoItRYGynsF3vw4AH+ODj/LAvT/CzI8A7OtH4odb6vD4nUmoYwiq7NUZrAJo/6cpfLKlQMnew+U39gFYx/xycYSkZjrfxvgAgOX38YE8pGZMGWiP9T/GyLMAsI7sjr7SPoST93BrVG3OPeczyJwPqjH78VP4PhYq+gxlvmt7NKM+f1WbPBlOFdd9t198u8r86GPcH7iET7IKMufUFvBnm1ngJ2m8P5sH8Aq+q7WRreVxBAE8+v4NfCy/zi7oB7fOl99C+hGAF8cx8rJ5nY/v3seR9z6Bks1gvBMA/gx/lasspl98fwYfPALw4rfxxz/S2ruiQFkegZ7KlcRV9uQR/hYA0I4j5y/jlv46YszLTW19MoeZewAOhHH5Ey2mP/wuXgGAH32AG0ZbBoB2vPlv7kFR7iFxEADyyHvVTPeFcfmHCfQf0P7euoKZDIC2N5HSPue9PwxjH4D1f7+EfLUx1R5b3xtRDzbr2eLIQ8s4gP7pT7D1w8v4dkidIvziR3OIvf4ivqmdEJaNaVXtJ4uP77bj239yD8rWZbU97qxj/SdPkP7DP0AewCu/k8FWVoGype1Tj+ZxoyZTel9g5cOPARxB/y8BwEvoHwTwZB439JmKT97Hd34E4MARJJbvqccpRYGiXIK6R32B+Xc/wCMAPaN/jE+0KVbFbfmFXT9XUTv9FO//zscADuDIdAb3torrqlPKz+LEt8LYhzzmvqelkV/cwPwygF8ax9tSX1aOY5Ll9/sAAH/0wQcYPzdR9eP/+xd/gWeffRZf/epX5ZcmAMDf4m+fAPivALz4yzgEdTjWyJK38sjv/Bn+7AmAtt/C24PPqvP9PxdE/0G1YT35EsCP8+pZz+CbOBGwHgLP76jNK/9vI+rQdfBFvOVpYfo+hH/zTexDFjN/KN2Y9knePLXZ803MlYy/HsGxgQM48PM/DyCIYwNBU63DXn4fuSZLr+2o6DNU9F1rqR+/Ox3Gs18BgqNqZ/PJuR7gix9rQ98f4zuH1WmFzgFpOLzW9rXjlZOXcff7xQO1IfS7uPDGs8BXgvj2sgJF+QTjL1YW0/ufqinhkejbeOUfWbf3stpG8G+SJ9BzII+lqbcw+PVO+IMvl06hOcjf+zM8AdB+6m0ceVb9HPsC/ejvBIAngDhSOfxdfPfgAQAH8NV/KDxfM2GklC1kzvUAT9IY+x1hdDKfVw8uOx8g8rL627/4LfMIcyUxfaIsIf6NkDG11fmNuaqmTfaauSYrgxFxGq9G9gWOYPzqLWxtfYLLw2pW+/HVG8hXENOq2g+A9tELGP+lA8C+I1rtWwrhn/sxfqydqH/8OyF0Bv3wd4YwU8tR0p98jKUfQR0t1X77yAIAPMEPVtcB03cZx4nOAxZ1affx6Y8A4AjeHnsFz+66ttGmn6uknQrH1PFfC+JA6YfFvtDbGGkDnnzvBj7+Evji1jw+xj68ee7NqkaxUC7J+tovfw2xiXN4+Wtfw4u/+GLVj19+6SX8j//c/upDUgWDQQD9SFhl9W1BvAAAO1fw/i1tmPUn60jfUg+PXz2wH/jKfnXd9XVkn2gH9j/8wHQA/XmtJQWj5rMI12cSlfj6CMY7gSd//qnps6ye78Vb1z5Gz9Q9KMoW7i1fQrjKlvtUvo+kks9Q9Xf9P39cnDqQZD/5FI/wBPnvv4VzC/JSTecreEkfwRD9nFZDsq9fOtNUhLPN2jAOblt38ce/fQTtFp1Y8OWXYPUxK4lpsEvtTJeS7+Pjv3afWD87kMCtewqU9U9wa/oE2r/8AktT38CMVR2hhfaA+q9W5K++jyVtPujJf9KnGL6KA7s+kFRrH4K/NYk39wFPFr6D9/UD7c//vHrQ6xwxj6goxVGVsjH9chXnDr6FuU96cOFTBcrWPWTeC1d9wGkW+WsRRN5dwroeq//qAIKd2tyB1t7LxbTa9vPSS+rrme3HgX8IAPvQP2UelVGEE8LdePLDG6W1iJovPvwBsqbvMoP5rUcW04FBBF8EgCW8f+ljfOE0jbn1MT59BDxR5vHWea1WVWbXz1XSToVj6sz3szZXdAfxG6deAp58gLmPPsYfXf0U6BzHyNfl9cpzTLIAIHT4MH7vX8XxP09PV/34/d/jP5/j6CePKjhr7seJ3zyg1lV8SysY7BnUhplPYOSNZ4FfOYE3D6gFe6FOraj1++YB/Jd+cxw9ALLJb+LlHutahWLBYARq09bqPMQ6pKq0481vHZGee4JH2pdOf+tF+P2deHFgDOkqT4kr+T5eK/8ZqviueqJ8J1YsgtWKPdtfekXttzNjeNHfid6JpepHEJ49hpFfOwA8WUVs4EVT4alVUfjTUj6mQPuv/ZaaFN77A3zz68Vi32LBbB5zA9pzJRcUaIW4ekGt3w9/z8sYnJjXtv0qDmidd9n9Qd/vHqXxljZC1Pn6DNYBHPi1ERx7GhnIV17ByNkggDz+4F1ttOrlEYy/CGBrzhwvoei4bEyfaH3Vl2m89aIf/s4XETqdNrdDI6a9iG8BQBbxg+b3KRvTPVD8DKWfs+LP8GUeq+9pI6B+P/zBToSm1KmlV75xDO2VxLQm7edZHIuewAE8wer5EF4UC+ytLtRw4eM7qwCCmLwjJnC38O1nAewsYVUB8Ctv4tttAB4tSf2L/hnaceKUeiq3Pmvet43Cd73WC6sYe9GPzoOx6m9nVEk7RT/eHG0H8AhLE+aYib//s/90HG/uA1ZPfxN/sAMc+dabpSPyFSibZJGHvvixTS2DdnaydR9ZAC/9T3+K1OlXiiMCXzmA4MAkFu5ol5R/5SVMfv+7OKJf7LmvByeSf6zVumj8I/jen3wX4Ret0n/v7Hv9TbxpGsnYh/D5BI7oV/Z85QB6hr+LkYPiOhV4St/HpOxnqOK7HpzEH5/swYGvyAsAvDyO1En90vB9aB+YRCIqVtxVYh/6p36IyyeFdlSPysZUrWFJ/egyRr4etI6XSwdeDOO7379l3m+cfOUlfPdOCt/+entxeuRAEEfOL+BPd3PLiF1q/6dv4wgALM9oo1ntGPm3C/jusE37QgUx/bkwJqeEUckDPQj/zkhNR0AbSftvppA6fQRBoZkeCLyCkeQn+ONvaNlRuZjWqP3sO5jAD5MjeGU3V0va+XIVNxYAPHsEr5imW3vwywcBIIsf3PkC+EoPxj9S25g281niwBspfJIcwSsBu337JYz/mxH0aNvv8x/B5PSIqba4rArbac+5W1j4nTB67D4s1BOWN/VZkbZvY/wNh3Ud2P6zOkREREQt6Sfr+OCtb+A7dx/hyHtb2gU41WOSRURERATtXlzifSZDl3DvatiyhrQSnC4kIiIiEn3lAHq+cRmfXHafYIEjWURERETe4EgWERERkQeYZBERERF5gEkWERERkQeYZBERERF5gEkWERERkQeYZBERERF5gEkWERERkQeYZBERERF5gEkWERERkQca9o7vf/VXfyU/RURERPRU/eN//I+N/2/YJOvx48fyU0RERERP1f79+43/53QhERERkQeYZBERERF5gEkWERERkQeYZBERERF5gEkWERERkQeYZBERERF5gEkWERERkQeYZBERERF5gEkWERERkQeYZBERERF5oPWSrJVxdHV1GY/xFXkFqp01jAux7urqwuC1HfMqD1MY7OpCV2zN/LxmLdaFrjdSULfaQeqNLnR1jcNy7ZVxdHUNIvVQXlDn9BhYPEri5UiLj0Usd64N2r6eOcatTG9f2qPCmKzFxN/Mom3Kv6/F71OfpP23os9dwTZSH2zVJptXBfEpUcE2DRpTvV9SH5X13eW3kY87FaxjFdMa7betlWStjKNrdNH01OIoEy0vqDtCFJjdxOam/kiiezpkffBKR6v4HRYRddng69mQKVab2FyOAdOhKjrMNjzfDWDjMym+O7idzgEAcunb0rI13EwDgfCraDM932p2kHojhER3Uot/BjEkECrTztZiXYimh5DUf7NZIGpKtNYwPpAAJjLGPjCUjrrusPfOGsa7otiQPrdzW1S3WQzrMdxEEtJ3fZjC4Ohisa1X3cYbGWMq2rk2iNB0t7HvZCaAxIDFSYpA3QaILevf9TiuD4hJVGm81Nd1XqckpjXcb1soydpB6qKaYAW0wCXD6pLF5eoDRw4ephCdzmFodhMzh8QFfZhZjiGwnUDUogNYHHXewUyqSsoalC+Cc2Egt60mSJXoGxgCtq/jtunMLYf17QBiszEE5GUPP8MGgO7nWjvFwspFJLYDiI32aU+0IfJ+DIH0BYuzYM3DFC6kgaHZGehb4dAMkuHiScDOtQtYxBDOndTj24eZ2SEgfbPytv4U2H3u3PRF28+tb5NMGNFAX0I9OOn76tpsArmOGM7o/YIvguREwCL5bz6MqWgNF6dzCEycMfadtpNJxDoWccHi2KDSt0ki4tOe8kWQnAASb2sn7is3S+Klvm4OiVnzPukUU7vfys1+2zpJ1sPbuL4NAAEcD6mB6xuNIQC4ChzZK9npRb5XcW42g1tG41UNTcQQgNMOJgjHEOsAFi9ajIi1APNwuTQ1cOgohpDDupiXrdzEIrrx/KHn0S0t28lcRw5DOGr1W7WQnQcbQMdxvKp33lDb6vGOHK5nbFpZbt0ydoGOgDGa2HbyFjY3hSRMf686l9vOAeGjps+ttq1F3LQ5ubHcBgH0dAAbD9QY9iU2sflhxDRqWs1JRCOzjE+rxvThZ9gQjsWqNrwadkgOLbcB2p7rBrbXkYN6kiPvb8YIv6aSmNZS6yRZhm48L3akAIANfGZ3tkpV2sFnG07TT23oO2Sx5Dnt7Gs6aj9yYHheHWWwGRFrGg9TuJA2n3Gtxbqk4XJ5akDtLMTR2bXlRa1T6cPRsHmZdYfTenLbOaD7ecs26+qApXf6JUrP4OuPtg93BOQFANwdiGxjqI8GnjEnCc2HMTXJrSNneSx22necOB3DtZIIm9iL9Ji2nTyHIdNJ/xrGR/V+tDqtk2TlLH443/MQElyqiRzWt+XnKqM27Fxx6NeJPpVWUVLWGBZHxWLNLnQNJJATOw9jeuqWNFweEKYc1LPBYl2WuXMXR1nkZVSlQA8CFqMQ1gc/vag+Kk1DNI9AR8BiVsCuP9AKjwccRr2JMRX51JF4eWS53MiwOvVXHAGrLKZ9mNnM4Hg6pPXHWi2dcMJbqdZJsqgBaPPeFY5Q9SWSlSdlDaCk8H1T+n65deQQQI+UE7WFjpsO9qbh84e3cX272MG0hY4X67KkZVQl36s43iHVEq6MI5o2r6ZqQ+RD7XedBaKWVzw1Nr0dihelrMWiMF9qpOvDjF6YHL6OkNVVmcSYmqgj8aYTa63+19bKOEJSHVdFMV0ZR1dXCOtn9L5YS7isLtoqo7WTLK3ol2pJna5y7dAMkvKOZKu6pKzx6N9PLFa3GWIXiXUeuXXkxFojsc7IacieKtCGyIcZxDoWEdVHH5ePIjNRZmTw0BlTIW7T8EVwazmGQDpqjMbeHMggVqY/KJ2aIQNjatKX2EQynENiQNvf3gaSs0PyairtbgKBCakGuGxMtYvkwknhwi3tQpjtBC7a1M/ZaZ0kK9CjFrlbzt3yQFM7apGhbfGiVlfkdEZgjFBVchAykjL7K3Sai1X7hZrcGsf2YhHn2vKiVGuk/T7bOaFWi8zTqBbLbAkjVJub2Ez0qdOFHXp/04iKbcSK45WovghuCaOxM4fUaRjnGLYCxtQk0IOAXV9WZt/pSwj724cR4MFG6THcLsHSVRDTkvhq5UXV1s+1TpKlDe1DmNNVr6wCDzQ11jfqkPFrdUX2hfEQLpeN2ky9mKlJ2SKi0j3QmofWgQR6EJCvHDTasdjJ6FfpXMTNDWBowNy6+waGgI2buMl6LIM6xSrf3qLMdKp2s0LzrUTM9x2zPqEo7dDrjWXdinZ5vHw1pU696lWaolq5KdTD2Nwst0VuI8KYCizrq9T7+dkfG9SaM/P9v7R7AIrH8DIJVvmYqlwlxBZaJ8lCGyJn1GHF3LRazBbS5nLlgxDtklaMXXqjV/UGb7mOGJIWjd9EG6GqjJaUNR31ihbjSjSt2H9xVKjn0WoS5KvV1NqrRSxul9ZwIdBjLLNNIFqNPoVn1PftIPV2ArnwueJFBjK9Jku4lYha21EsbNdPOMTpbHmdeqRPNxXrVqS2aEGvdSm9IkuPodYHm+5xp8W5GQu1JYypqA9npKvJd65Fkdh22i/0mqzirIW6jXB/O+3GrHYJFnYT0zeiWHQR02cKhUJBfrIRPH78WH6qMtJd30tvmEk18zCFwYGE6arOksavrdNt9Tvo23fEkPkwgjbxrtwlV3loy7YDiC0LV981Aos46UripZ2J6ScIsG3D2l2NjdiJ9FgNIVlyT5lWpsdF+1OO3cMUBgeu47ipfZXZBha/r9U6dUlrQ/qfYfN+t3NtEKH0cYsYFb+rVfuV+2D5dZsbYyoy92Vy363GClL/pv4rC/pf5j7MvEwi7neVxHQX++3+/fuN/2+9JIuIiIjII2KS1ULThURERER7h0kWERERkQeYZBERERF5gEkWERERkQeYZBERERF5gEkWERERkQeYZBERERF5gEkWERERkQeYZBERERF5gEkWERERkQeYZBERERF5oGH/7UIiIiKiesaRLCIiIiIPMMkiIiIi8gCTLCIiIiIPMMkiIiIi8gCTLCIiIiIPMMkiIiIi8gCTLCIiIiIPMMkiIiIi8gCTLCIiIiIPMMkiIiIi8kDLJlmrZ/3w+/0Yy8hLqKzMGPz+EOYUeYFEmUPIr8bZeAzMIe+0vOQxhlXkMTeg/7899Td1XqcuOcQhlDSiVQEtTmdLI5BPhmxfb/Ws9Lu0OD1W6qOCdi7KjDnGcvWs9W9Qn1YxJrZHi3ZVQm7LVttkxnbRxhudi5gK7NuP9LoObbCeuNnX9GO3/TZSLCzXKfI8poVWdPt0wefzFXw+X+H0bXkhlXX7dMHnO1y48kBeINBiLMd35R1fwec7XVgxP62yfd3PC1de8xV8rx0uHHbc1uG169mDK4XDFrHSnz98+XNpgb2Vd3wF32tXCuYttPj5rJatFE5X+R7N7PPLh01tSP7bkfZ7lcZYpb5Wo8Rabhfy31bkddS/fe8I0ZPbuos23ris41Ppd7dvP3Kc9f7Suh3WC3nfkv+2Iq+j/i0eM+RYWK1TtBcxbbmRrNWzfvhPpeWnqcZWP0oDwylcCpmf7383hTDSiFueOZTR04MepHGjZPQxj7npdYSHg/KCxuYfweQwkN3Kykts9b8eBrbmsWQ6c8vi/lYQk1cnEZSXKVmsA+gJtAtPtqpVzExlETw/jn7tmfZoCpOd5dtrPhmC/2Ac1r+UOsLYO2W9tB7lk3GkEcZkVG8X/bh0NYzs1IztSLHdNli4YWyz+l4c2c5JjOv9gn8EqfNBZBeW3I0SNBC7+DjFVOXcfvLJONKdk7j7rtFqMZK02Nfript9zW6bLOaXtW0yN5BGGCkjFsV14u+JUd67mLZQkqUGNbIAAEEEO+XlVDt5ZNfl53T9uKQoyBgdTTWO4dgwkP5I6pKUJczjBI61yG9qHmKXhrpDxxBGFvfFviNzA2n0IBgKokdall+eRxZhHJOS4ZakZLGOIE4MiG2zHUeGnZOAfDKE3qkswlcVpIZLlmJuoBfxrTBSSgpheXGdym5lgeFjxsEM0NuW1UmOqj2agaJcMm2Tz5k7gv53FSjLIxAjXM1JRCNzE9Py7SePpYUsgsNHTDGFfwQZJYMRv/hkHXG1r1kdO7K4vyX8GbpU0gaBdgR7xL/3NqYtlGSpgufvQlFSOCEvoBpSdxYsRGpeI9X/ehhYz5p2wvzyPDB8BE02jgUoc4gvmM/KVs/60TsFTN5RoCgKlDuTwFSvkGgF8UKnORFVRxWPoR/9JUmqZcffqrL3kUUPglad6NZ9m1EqPblQSkZtVe0YWVYsOv56pp4kBTut96j1nPUhsFTpyEMJZQ7xBSA8YU68mo/bmJZrP2qS0RNoN9cqua0f2isu9zVZ6eiglVXcWBBjv7cxbaEkSw2suxEUqlZ7NIO754MA0ojYjbq4ETqGsGnINo+lBUhnRI0pfUos1vRr00/ryOrfVT8gXRXOpvTpFmPKQUtwjUTU3LkHO+2XEdWGfqFKxOEAqBUVH5SmD6k62nR/+pQfN17XTryUu5hEHL0uk4KGoF080VsuiTcSMXnUzEGNY9pCSRbtNf0MX1HuYlKbystO9Za92sNZEC+Y5uBnEMcJHLE6I2ow4av6Dq0/Uggji3hU27Gz95FFEC9IOVH7wAkEhSmH9kBP8WxQWcL8VrGDaR84UawrkJYR1YY+UqBAuQpELPd3depHURTcHZ5Hb41HvFtN8PxdYSRVrx+KY8Z2GrLBhS4Zx5YTC732V2lmxrRELFX1NF+tYsoki/aA0OnemUQQchFiNczz9qsfpUvnzpuGVjhsGrmzGWIXiXUe2fvIdgpJqP8ITuhJqtOQPVEthMYtio7N2qOT7i+GIcDqwhV/ED2O05DNoh0jE2FgIV6ayGfG4D+VRvD8XVczWLWKKZMs2lvaFXNyXVU1iqMxq7ix0GojMcL0oYk4wqXWZa3n8mo9Vk9QSELVItDsVlao1SIAQPAFBO3i2/lC89X82Sq2ESslBx+qgEcx1Q78DcfrfW03CVaNY8oki2pPuyGh441eTQf+KumjMdE40uIoTdPSRpuCLyAoXzmoFf6bR6T00b4Z3FgHwq+b0yj14oEbuMF6LDO/evWlMRUN2F9p1OSCnUHTrReA4uXxdleiWt/UVi0iVtuZzc1yW+Q2Im5iWl7pxSxAA8TUzb5mc1xRr2AV+r/dJFhAzWPKJItqTxutSp+yqMVQ5hBfCGLy9G7GT4pnhbY7ZFNYxdipdLGw0yquyhwiFsWf6mhfGumt0houBF8wlrXWKGA5/Rg/H0R2KmLEN5+MIL5lV7zdvPQpvIiREElt0UL/abVmJSJM+62eFYvf9amdiHCgzGMu2hrF725iWon+05MImmK6irG6v6DAxb5m9H9C/Z7c/ylzCO0qwVLVNKby3UlbQ/EO2CV32abyhDvmlzzEO+Jared0x9xyd3wX7xxtsa58N+CGod8p3OJReifi4l2K9Yd1G9buWGwZb739N2Cs9oA5vnJ7VONqHXO7O+7rqrvD99OntSH9Ie5/epzk7yq3ZXl5waJfkF63ubmIqcGp/Ti/br1ys6+p/2pI8SEul5eZHpZx9T6mzxQKhYKceBERERHR7nC6kIiIiMgDTLKIiIiIPMAki4iIiMgDTLKIiIiIPMAki4iIiMgDTLKIiIiIPMAki4iIiMgDTLKIiIiIPMAki4iIiMgDTLKIiIiIPMAki4iIiMgDTLKIiIiIPNCw/0D048eP5aeIiIiInqr9+/cb/8+RLCIiIiIPMMkiIiIi8gCTLCIiIiIPMMkiIiIi8gCTLCIiIiIPMMkiIiIi8gCTLCIiIiIPMMkiIiIi8gCTLCIiIiIPMMkiIiIi8kDLJVk71wbR1dVVfMTW5FVax8q4ORbCY3xFXHEN4+JzK+Po6hpE6qG4joWHKQzKr/1GCjtOy0se41jDDlJv6P9vby1Wfp265BCHwWtGtCqgxcmiTevt3ur11mLS79LizH1EBe1ctDLuGMu1mPVvUJ/U/d6IhUW7KiG3ZattpH6nceJRCy5iKrBvP9LrOrTBeuJmX1P7eadtpFhYrlPkdUxbKslai3UhNJ0zP5mOVt3Qm0sAseVNbG4Kj9khLI6KiVYfZjY3MXPIvKWjlXF0DSTQPWt+7WR3AiE9EfJFcEt639LPM4M+/TU7NnDBLolaGUc0LT/ZWIakWG0ux4DpkE0HYKUNz3cD2PhM6gx2cDuttvtc+ra0bA0300Ag/CraTM+3pp1rgwhNdyOp/QaZCSAxYNPmZA9TGBxdlJ817FwbbKA2uobxrig2JjJae0xiKB0t0xbXMD6QAKRtTP2rFiOjrVfdxhuZm5gW2bcf9XUXw0ntdTOIIYGQy6Rgr7jZ19QYDEnbiEmUHAurdYr2IqYtlGSpBxOIB7PZIfWJ9AXLH6BlHTqDWAew8aDa5lS0trwIhJMliVlfIokhLOJChR2LSXc3urGIm6ZRNqgjOBc3MBQOyAsamy+Cc2Egty2dGDjoGxgCtq/jtqk957C+HUBsNoaAvOzhZ9gA0P0cUyxgDRencwhMnDES+7aTScQ6yrfXnWuD6BpIwPqXUkcYS07w6tjOtQtYxBDOndTbRR9mZoeQm75oexC02wbpm8Y2a7MJ5DpiOKP3C74IkhMBi+S/+djFxymmKuf2s3PtAhY7YsgkjFaLyPsW+3pdcbOv2W2Tw/WMts3KTSxiCEkjFsV1ErNilPcupq2TZK3chHqOOYSj+g5+6Ci0NIscSdOFZe3gsw35OZ06KnbL6GiqcRRHw8DistQlPbyN6ziOox3mp5uVPOVtOhM+dBRDyGFd7DtWbmIR3Xj+0PPolpbtZK4jJ+4TrezhZ9hAAMdDYttsw6th5yRAPSPPYWh2E8lwyVKk3gghsT2E5GayYfqb3HYOCB8tjiJDb1tWJzmqtpO3zCPPAHYemDuCvsQmNj+MmEZNqzmJaGRuYlq+/aij1CUj0b4Ibm3eQsQnPllHXO1rVseOHNa3hT8PzZS0QWOE37C3MW2dJOvQTOn0k5F4deP5KgPX1FYuIoEYkq4SIRg7C9LRmtdI9Q0MlUyH7WSuA+FX0WTjWMDDFC6kzWdl6pQ3ilOqJdMtAfR0mBNRdVTxKPrQV5KkWnb8rSq3jpxdX7C9bjNKpScXdtPpbYh8KPU7dU89SQp0WO9RlY9wl448lHiYwoU0MHTGnHg1H7cxLdd+1CSj+7k2c62Si2mtPeVyX5OVjg5a0UoijNjvbUxbJ8kqsYZxvX6ipQ8yOSQGxCLBLnSNLlbV0K20nbyFzEQAwCKidqMubhw6iiHTkO0ObqchnRE1psVR6XcYSCCHDXymf1f9gDQrnE3p0y3GlIOW4BqJqLlzD3TYLyOqDf1ClajDAVArKh6Qpg+pOtp0/+JoF24OaCdeu6gfahjaxROhckm8kYjJo2YOahzTFk2ytKI2AJDmb1uPXGiujo4EsIjoLi8I0M/wNzcziGlTebnpUNmrPZwF0GOag7+IBI7jVaszogZTUvi+mcQQcki8re3YuXXkEECPlBO1hY4jIEw5tD3XXUySH97G9e1iB9MWOl6sK5CWEdWGPlKwic1ZIGq5v6tTP5ubm8iErxcvhiFXAhMZYSRVrx9K4KLtNGSDM2amMjieDtlfvLYyriViyaqn+WoV0xZMssQEK4DYst2QYQvTRkfEgtXdETrd5RgCkIsQq2Get19bXiydO28aWuGwaeTOZohdJNZ55NaR6xCSUN+rOK4nqU5D9kS1cOiMRdGxWdvJc+4vhiHA6sIV3/PodpyGbBZtiJwZsr54bWUcXaOLCExkXNUA1yqmLZZk7SD1hjCC5aKIjXZJu2JOrquqRnE0Zg030602EiNMH5qII1xqXdbGgx21Hqv7eSEJVYtAc9s5oVaLAACBHgTs4tvR03w1f7aKbcRKycGHKuBRTLUDf8Pxel/bTYJV45i2VJK1FgshsQ2OYFXKbWPXbkjoeDWi6cBfJX005u0LWBRHaZqWNtoU6EFAvnJQK/w3j0jpo30XcXMDGBowt3T14oGbuMl6LDOfevWlMRUN2F9p1OQCHRYj2drl8XZXolrf1FYtIlbbmc3NclvkNiJuYlpe6cUsQAPE1M2+ZnNcUa9gFfq/3SRYQM1j2jpJllY0rJKLva1qBlrYwxSi0zn3V/xoo1WLoxZxfZjChXQAsdHdpLjFs0LbHbIpqBdnGIWdVnHVfiu5+FMd7VvE4nZpDRcCPcay1hoFLKcPZyYCyE1HjfjuXIsisW1XvN289Cm8Yl2m1BYt9I2qNStRYdpvLSYWv+tTO1HhQLmD1NutUfzuJqaV6BuNIWCKqXpT2PqOqYt9zej/hPo9uf/TbnbrPsFS1TKmLZNkqWf7VEpOONUrfrpn7S5J11ls11U8k+1LbGJztrt0nbdRk2navgH17vDNlCSUXF2o3R1a7Cz6EvodjM2/VUmHog95W430+V7F8Q5UVt/VYtSrYovxVW+XIY56V3vPuEbVhxn9ju1aW1wMJ03tbOfaoHnkyhfBLe2WInobjm7EkBEvlT80Y/yLEuo6ISS6kyX3zmpOLmJaCV8EtzaTgBFT7U7ldR5TN/taX2ITybBwxbrU/63NqjcEVi+wkvrTauJaw5g+UygUCvKTjeDx48fyU0RERERP1f79+43/b5mRLCIiIqK9xCSLiIiIyANMsoiIiIg8wCSLiIiIyANMsoiIiIg8wCSLiIiIyANMsoiIiIg8wCSLiIiIyANMsoiIiIg8wCSLiIiIyANMsoiIiIg80LD/diERERFRPeNIFhEREZEHmGQREREReYBJFhEREZEHmGQREREReYBJFhEREZEHmGQREREReYBJFhEREZEHmGQREREReYBJFhEREZEHmGQREREReaDlkqzVs374/cXHWEZewyPKHELC+1q+d2YMfr8foWReWgAAecwN+OE/u6r+qb+e/rdk9awf/oE5WL2SQXs/q4f5s61iTHwuMwa/P4Q5RVzHgsV3Nn0mq+UljzGs6t/dPwbrb6tSf1vndeqSQxys24IdqY2IS5Ih29erqK20BL2daY+KYqLuG8XfTNwvpNeTHxa/U32Rvlsln1duy1bbSP2OVZtsXi5iKlg9K8dLbn/mR73HVu+X1EcFx5SSY7jVNnJMrNYpKo2pscT8OhX1BxYKLWTlHV/B5yt9nL4tr1lb6vseLlx5IDz54ErhsM9X8L2zUnzu9mntM0nrFgqFQuHzwpXXhPX17W0+/8o7voLvtSuFz+UFotunrd9L+xxWr1soOGwnsnkNNRanC8K3LrJ9Xe27v3a4cNhxW4fXrmfabynHSn/+8GXHX9HE+nfX4uezWrZSOF3lezQnaf8q+duKGjtxnc8vH7Zpw0WVrPP0ye1C/tuKvE5pfErauos23ris41Ppd1fbTWXrO/azdUL9PsXPKP9tRV6ndF8qbXOl6xTZx1R+Hf0YJPef5bXQSNYqbiyo/xe+qkBRFKSG1b/TH1V3NlGVzBgiC0FM3slgxC887x9B5moYWIiUjmghi3i08qw5farGozehcUx2Auu5Sj9BqdWP0sBwCpdC5uf7300hjDTilmcOZfT0oAdp3CiJVx5z0+sIDwflBY3NP4LJYSC7lZWX2Op/PQxszWPJdOaWxf2tICavTiIoL1OyWAfQE2gXnmxBmRnEt4KYPN2vPdGOkeQkggtx+7PgzA2kEUbqXX0boD2awmRnFvH3bPZIZQ6RqSyC51Pm/qDO5JNxpBHGZFRvF/24dDWM7NSMbV9jtw0WbhjbrL4XR7ZzEuN6v+AfQep8ENmFpYr7u0ZlFx+nmKrUEdHeqQr7gcwYIgtA+OolFFtmvVnFzFQWwfPjxmdU9x2nY4PdNlnML2vbVLxPOsc0n4wj3TmJu8braP2B3H9WoIWSrH5cUtTkSj7wBzu9OjjnMTedBoYnrTvU0DGkrsqfJ4jJ82FgK46ZkmSiVPj8JIJuk5aKSdOFZeWRXZef06m/Q8boaKpxDMeGLZJiZQnzOIFjneanm5V5iF0a6g4dQxhZ3Bf7jswNpNGDYCiIHmlZfnkeWYRxTNonWk0+tw50nsAR04nQEZwQO3BZ6BIURT6QtSPYY3rCRE8yUq7a/97JbmWB4WPm7xY6hrDlSY6qPZopiUc+Z+4I+t9VoCyPQPz21ZxENDI3MVWTgV7Et8JIKSmE5cUl9GNO6QluXVGyWEcQJwbEltCOI8NOCbfVsSOL+1vCnxXtk+VimsfSQhbB4SOmdgr/CDKKNFhSgRZKsgRa3UBkAYCnHZ7aAMKv251P9KPfakcYuITUcIUjVAHtTHAqYn/GXa3MDOLYTVzUnQULkZrXSPW/HgbWs6adML88DwwfgVep8lOjzCG+YD4rWz3rR+8UMHlHPWFQ7kwCU71CohXEC53mRFQdVTyGfvSXJKmWHX8Lym5lgZ6guVMVl1VMHTG3PHFT5hBfAMIT5iSj/qgnSZbfAdWMcJeOPJRomJjsltuYtmNkWbFIHGyUjMjWqex9ZNGDoFXCsnUfle5xpaODVuR9slxM1eN2T6DdXP/lsiarNZOsrPAjuhj+q5g2FeNG/2l1hCpSQWFke3QS4SqnGIuyiB8UiwT98J9KV9XQrbRHM7h7PgggjYjdqIsboWMIm36zPJYWIJ0RNab0Kel3OBhHFuvI6t9VPyBdFc6m9OkWY8pBS3CNRNTcuQc77ZfR7qmdvnyGrlp9L94io4Z6wX/E4QCoFRUflKYPaRe0USx5RLYZaRdP9JZL4svsk5a043b6lB83XtdOZpW7mEQcvS4SrdZMskKXoCiKlgS4TU48ph08rWu2ZFrtw1YckaqTmGBxVER/3Kk8wXOiTh9oDVSbystO9Za92sNZEC+Y5uBnEEdzdCp6rWDxkTInz9n7yCKIF6ScqH3gBILClEN7oKeYJCtLmN8qdjDtAyeKdQXSMtqlzJjW6VvVW2ln02UOCM1BHylQoFwFIpb7e7F84+7wPHprPOLdkpQlzG+1wqhg8RiuKHdxYqHX/ipNx33SWfD8XWHKVa/JqqyMR9SaSZZGPTh5OJrlD8KhPKMstWCvwmnDkDrFWJNpQyPBKxas7o7Q6d6ZRBByEWI1zPP2qx+lS+fOm4aePIvt02aIXSTWeWTvIyue2Yp1Rk5D9lSdzBj8p9IInr9rXW+YuVHd2XSzCI1bFB2bqSPxXteVNr/WrK9sx8hEGLC6QKXcPllGycVA2vHcfmrXWuskWca9WSpIWGqmtD7GzP6+Riote0Ya8WT5yTv1yr3SDk0ulHY7t1wT2hVzcl1VNYqjMau4sdBqBy5h+tBEHOFS2916Lq/WY5lqjdQi0OxWVqjVIvM0qsUyJxV05moBeKMktMU2YqXk4EMV8D6m2a0s0PlCY9SmBl9A0K4vq8V3qGCftLXLwRFZ6yRZQf2HK06rqJk/POz8HLJs6EWKToXxYs1NBHHxKgpL+iXTEbWoX1OcttMe0tU9ttw2du3CAsdpTpsi44roozHRONKtUH+gt8/gCwjKVw4a7Vhsw/po3wxurJe2L/XigRu4wXosgzrFKt/eooLp1Ao780a7wCDYaTGSrV0ebzdSYn1TW7WIWG1nNieVLXIbETcxrZxWX9koo/p+9Upn85W7Nlf16WyOKyUnMBXuk/ZKLxAC3LfT1kmy9BEUocBYv0eGp/cTCV1CajiL+EGpLkGZQ+hUZZfa6tOGFdGmDXdFu5eP67l9LdbpUxa1GMoc4gu7vfqleFZou0M2hVWMnUoX63is4mrcd8lc66OO9qWR3iqt4ULwBWOZYwLRSvRpLaM+M4+5aBxZu9uvoLgPl+/MG+8CA30Kr1iXKbVFC/2n1ZoVsS509axY/K6fdIp1plqcW6D43U1MK1e8Iq4x9GNcuio+n4wgvmV3oYTY/wmzUXL/V/E+6az/9CSCpna6ijG3F2nIdydtdvodXvfqbu8G447kDu9te8dzYXvpju8lryEsK3t3WovPZP3Z1LvfGs85bGd6T6v1nD6T7fe3uPu2xbry3YAbhnD3fvlReifiStuwdsdiy3jrd4BvwFh5SrgzvlXsHlwpHBbanN2/IFG6bXV39q4fWhvSH9Ld7z+/fNgmRnZx0Mj9guNd9ZuNi5gaHNqR0/Ggjpn7Mrnvl447+rPSficul5eZHpZxdYhpmd+qUs8UCoWCnHgRERER0e60znQhERER0R5ikkVERETkASZZRERERB5gkkVERETkASZZRERERB5gkkVERETkASZZRERERB5gkkVERETkASZZRERERB5gkkVERETkASZZRERERB5o2H+78PHjx/JTRERERE/V/v37jf/nSBYRERGRB5hkEREREXmASRYRERGRB5hkEREREXmASRYRERGRB5hkEREREXmASRYRERGRB5hkEREREXmASRYRERGRB5hkEREREXmgdZOshykMdnWhq2sQqYfyQqqNNYx3daFLeAxe2zGvov8OsTXz85q1WBe63khB3WoHqTe60NU1Dsu1V8afwu+pfybnx/iK/vlKl5nWsfMwhUHxuxntt/RREmM9jhbrqg+beLaonWuDQmyqbE8r40J7LbUWs/596pO0/9rsoyZyu7TaRtoPGiceteAipgL79iO9rkMbrCdu9jVzX2a1jXzcsVqnyOuYtmyStTabQE5+kmpG3XmiwOwmNjf1RxLd0yHrxpqOOicZJouIVtk5eacNkQ/N33EIQGAiIzy3iZlD+voBxJbF9a3WqdyQKb5CjK3i0xFDxuJ9Nzdn0Cev26J2rg0iNN2NpBabzASQGKgwCX2YwuDoovysYefaIKJp+dl6tYbxrig2jHacxFA6anMw0q1hfCABSNuY2qIWI6PdLseA6VCZ120WbmJaZN9+1NddDCe1180ghgRCVv1sHXGzr6kxGJK2EZMoORZW6xTtRUxbM8laGbcJLNXEwxSi0zkMzcqJQx9mlmMIbCcQtehYFkeddzCTqpKyVqLFmPFxYQ0Xp3MITJwxks62k0nEOhZxwaK9inauDaJrwO7ETR3tDE1bL61HO9cuYBFDOHeyTXumDzOzQ8hNX7TdR+22Qfqmsc3abAK5jhjO6P2CL4LkRAC59O2qD16Nxi4+TjFVObefnWsXsNgRQyZhtFpE3o8hsH0dty0Si/rgZl+z2yaH6xltm5WbWMQQkkYsiuskZsUo711MWzDJWsO4w9km7V5JRyryvYpzsxncMjoa1dBEDAE47WCCcAyxDmDxYvVnFS3BF8G5MONTtYefYQMBHA+JbbMNr4adkwD1jFw9qUiGS5Yi9UYIie0hJLVRzkaQ284B4aPmEc5DRzGERdy0Sd7bTt4qGRXdebAh/AX0JTax+WEEYoRz29YHumbjJqbl288ObqdzCIRfNcUUvghubd5CxCc+WUdc7Wt9mNnclI4dOaxvC38emilpg0Abnu8W/97bmLZckqWeTQCB8BAC8kKqgR18toHSBmpoQ98hiyXPaWe001HLYV2z57WzCusRMQICHQFge91mZIUs5daRQzeet+pEHWKpJhfyqK1On06WO/56pu3DHdY95MaDSve50pGHEg9TuJAGhs6YE6/m4zam5dqPmmR0P9dmrlVyMa21p1zua7LS0UEra7iZFmO/tzFtrSRLm8ZCRwzJ0R55KdWEdGZRhbaT5zCEHBJvV9CYtdGaypKy1tP2nOnUjWgP6ReDRB0OgFpR8YDDqDeV9/AzbABYHO3CzQG9xtJ9/VDD0C6eCJVL4o1ETB41c1DjmLZQkrWD1NsJ5BBA7P1mP2tqVFoNR4UjVH2JZOVJWd3IITEgXvmiPiotft2V7QRC0vuWu/KGqHrCxSCzQNSyjalTP5ubm8iEryPEK1x3JTCREUZS9fqhBC7aTkM2uEMzRvJzPG1zoQ/UZExNxJJVT/PVKqatk2StXERiG0D4XNXBpmoE0NMhP1eFQzNIVjxCVV1SVh+sry6Ua9R2S66FAeyuLqy+xoCoYofOWBQdm6kj2BXWY5Kl7uek/sP3PLodpyGbRRsiZ4aA9IXS48XKOLpGFxGYKK0BrkStYtoySdbaslbsno6qZ/DGlUDqyMKejCS0BLXI0L54Ub73VSljhMqhYzYYSVm5K3Qag/m+Mc5xcmJZZEvOAj0IYAOfyZ01AHT0tFANp7YP2xSklxx8qAIexVQ78Dccr/e13SRYNY5pyyRZtHf6Rh2GVbVCV/vCeAiXfkcrutWGmpQtItoEV43qRdTGQ7oSqyJ6MfEAU6yq+J5HN4TLwQH7K42aXKAjYLr1AlC8PP6oTf2U9cmTWqOpFh1rtVry1I5WA+M60WgQbmJaXh+OhoHF5QaLqZt9TbvRrXxrGnXUXiii302CBdQ8pi2TZPUlpGmS5ZiWLavTN+5+DLKk3ftmcVTeIdSbFeY6YkiWi7c2QlUZLSmjYozDSZur3cheH85IV7juXIsisW1XvN289Cm84k1/1VvfOBUZ6ydX4tT9WkwsftendsR7uGm1si1Q/O4mppXoG5Xvi1fsZ+s3pi72Nf3WNOL9FLWL2YwYaje7dZ9gqWoZ05ZJsmhvtZ28hc3lGDZGxSJr7W7HFY7O9I3qiXAFDp1BbDe1YA1q0RRfIcbCzfiocm0nb2l3iFbjGZoGYsvipd7qVXHy2XTz6cOMfsd2rV0thpOmA9fOtUHzyJUvglvaHdz19hjdiCEjXip/aAabs0NCuw0h0Z2suE9obC5iWglfBLc2k4ARU+1O5XUeUzf7Wl9iE8nwIqJ6fzeQQPdscZBE/5dcckIbNB7VxLWGMX2mUCgU5CcbwePHj+WniIiIiJ6q/fv3G//PkSwiIiIiDzDJIiIiIvIAkywiIiIiDzDJIiIiIvIAkywiIiIiDzDJIiIiIvIAkywiIiIiDzDJIiIiIvIAkywiIiIiDzDJIiIiIvIAkywiIiIiDzTsv11IREREVM84kkVERETkASZZRERERB5gkkVERETkASZZRERERB5gkkVERETkASZZRERERB5gkkVERETkASZZRERERB5gkkVERETkASZZRERERB5osSQrj7kBP/x+6TEwh7y8KtnLjMHvD2FOkRdIlDmEnGJttbzkMYZV43cbw6r5HUxWz5Zfp/Zs2pT0GMvocStdZlrHjjKHkBhzh9iFkqWtWY2N3WOvY1bf8smQEJsK2rkoM+bYn6yetf596tMqxsR2craCViK3S6ttpP2gceJRCy5iKrBvP9LrOrTBeuJmXzP3ZVbbSLGwXKfI85gWWspK4bTPV/DJj9euFD6XVyV7t08XfL7DhSsP5AWC26cLPp+vcPq2+emVd3wFn+90YcX8tMr2dT8vXHnNV/C9drhw2HFbh9feM2obO3zZokXZfr8KPLhSOCxu++BK4bBFfI02/o45CivvsJ1X4vPLh01tSP7bkfab2MVZfS2btlF35HYs/21FXseiLcrtVvvb+XWbhXV8Kv3u9u1HjrPeX1q3w3oh71vy31bkddS/xT5VjoXVOkV7EdPWGslSslgHgM5J3FUUKPpjeQTt8rq0K6sfpYHhFC6FzM/3v5tCGGnELc8cyujpQQ/SuFEy4pPH3PQ6wsNBeUEL6selO5MILkScR8bIwipmprIInh9Hv/ZMezSFyc7y7TWfDMF/MI6svAAwRjt7p6yX1qN8Mo40wpiM6j1jPy5dDSM7NWM76mm3DRZuGNusvhdHtnMS43q/4B9B6nwQ2YUld6MEDcQuPk4xVTm3n3wyjnTnJO6+a7RajCQnEdyax5LDCM7T5WZfs9smi/llbZvMDaQRRsqIRXGd+HtilPcupi2VZOWX55EFEBw+wqTKU3lk1+XndP24pCjIGB1NNY7h2DCQ/kjqkpQlzOMEjnWan25Z/hFMDgPpaZfD261KyWIdQZwYENtmO44MOycB+WQIvVNZhK8qSA2XLMXcQC/iW2GklBTC8uI6ld3KAsPHjIMZACB0DGHLkxxVezQDRblk2iafM3cE/e+WntRmt6wPdM3GTUzLt588lhaypcc0/wgySgYjfvHJOuJqX7M6dmRxf0v4M3SppA0C7Qj2iH/vbUxbKsnSd+bsVK/rOXGqhLqzYCFS83qf/tfDwHrWtBPml+eB4SPgOFZRsDMIbN23GVkhS9n7yKIHQatO1CGWanKhlIzaqtoxsqxYdPz1TD1JCnZa71HrOetDYKnSkYcSyhziC0B4otlnE9zGtFz7UZOMnkC7uVbJbf3QXnG5r8lKRwetrOLGghj7vY1pCyVZNqMrCxEmWh5oj2Zw93wQQBoRoXjQusCwCqFjCJuGbPNYWoB0RkTtAdOpG9Ee0i8GiTgcALWi4oPS9CFVRyuBSZ/y48bregnMXUwijl6XSUFD0C6e6C2XxBuJmDxq5qDGMW2hJEsfVgxi8o4WuKvaQOFC3PHqA3JHP8NXlLuY1Kby1FFE56s9nAXxgmkOfgZxnMARqzOiupRF/KB45UuNks9KbMXRK73v7n4LIiv6SIEC5SoQsWxj6tSPoii4OzyP3hqPeLea4Pm7wkiqXj8Ux4ztNGSDC10yji0nFnrtB0oyY1oilqp6mq9WMW2hJEvfqYU51dC4dvDP4n6l45PkgtDp3plEEHIRYjXM8/arH6VL587rmpDkCw93NWr25FoYwOKCD3l/IKq10LhF0bFZe3TS/cUwBECd2jLxB9HjOA3ZLNoxMhG2HijJjMF/Ko3g+buu+tdaxbR1kizj3iw8Y3qqtKJsua6qGu0DJ7SrPFZxY6GKYeAGYL5vjPs6AMsiW3IWfAFBrCMrd9YA0PlCC9X8qYXCdgXpJQcfqoBHMdUO/A3H631tNwlWjWPaOklW6Jh2FYFwxpSZQVybQnxh178qGbQbEjreQqAn6H70yX8EJzqzmI/Gke5spKnC8opTrNrDze1F9GLi15liVcUfRA+EqWjA/kqjJhfsDJpuvQAUL48/ZlM/tXrW6qRALdNQi461Wi15akergXGdaDQINzEtr9/mius6j6mbfc3muKKO2gtF9LtJsICax7R1kiz0Y/y8mkkZVxeeSgOAq/lacqDfQuCURS2GMof4QhCTp3eTABTPCm13yJa1irGDcWQt7lFG5ah9RHYqYrTbfDKC+JZd8Xbz0qfwIkZCtIqxU2nHIuP+02rNSkSY9ls9Kxa/61M74j3c8piLtkbxu5uYVqL/tHxfPK0PqOuYutjXjOOKMBulzCEiFr8rcwjtKsFS1TKmLZRkiVe8Fe32x2hd1gXc+pls/7sKlKs9petEgVQN6oD6Xw8D1Vwx0qTSp+TfIIL183ehCDfjo8qpfQSMdts7BUzeES/1Vq+Kk8+mm08/LikphBciRrtKD6dMfWU+GTKPXPlHkLkzCQi3yImsT+KueKl86BKUq2Gh3fYi3pNyN2LbcFzEtBL+EWSUFGDEVH3deo+pm32t/10FqWHhivWDcfRcLda0rr6n3hDYdJsm/VFNXGsY02cKhUJBfpKIiIiIdqelRrKIiIiI9gqTLCIiIiIPMMkiIiIi8gCTLCIiIiIPMMkiIiIi8gCTLCIiIiIPMMkiIiIi8gCTLCIiIiIPMMkiIiIi8gCTLCIiIiIPMMkiIiIi8gCTLCIiIiIPNOw/EP348WP5KSIiIqKnav/+/cb/cySLiIiIyANMsoiIiIg8wCSLiIiIyANMsoiIiIg8wCSLiIiIyANMsoiIiIg8wCSLiIiIyANMsoiIiIg8wCSLiIiIyANMsoiIiIg80Hr/rM7DFAYHEsjpf4eT2Ez0mddpFSvj6BpdlJ8FAAzNbmLmkP7XGsa7ooD+3Mo4ukY3EFu+hYjPvJ2JHGsA6Igh82EEbXbLSwwhuXkGn70RQmJ7CMnNGdj9WmuxLkTTzuvU3g5Sb4SQ2JafNxua3cQM7OONkphLHqYwOHAdx/WYO8QuMJHBrZNtpufU2JieEux1zOrbzrVBhKb1yAbKt3PRyji6LvYU27hkLdaFCx2lv099Uvd7o8VW0lfK7dJqG6nfsWqvzctFTAX27Ud6XbGfrWNu9jVzX2a1jRQL0zpl+mvh97DsMyuMa+v+szpyBwAA6SgGr+2Iz7SYAGLLm9jcFB6zQ1gc7cL4ir5OH2Y2HRIAKyvj6BpIoHvW/NrJ7gRCXeNYAwBfBLek9y39PMLBv2MDF/RtZSvjpTvEnmhD5EPx8yYxpB04xO9djJ38/azWqdyQFN/NzSS6p0PoillEqSOGjMX7mmLc4tROvxtJLTaZCSAxYNPmZA9TGHRIoneuDT6lNuqGeqDaMNpxEkNl+8o1jA8kAGkbU1vUYmS02+UYMB0q87rNwk1Mi+zbj5ZUhJPa62YQQwKhN1Ko7JWfDjf7mhqDIWmbQaQe6mvIsZDXkftrfZ2A2jeP6j3hDj7bKO3HNytIsGQtlGTtIPW2mmDpO7gaWCCXvl3XjXHPHTqDWAew8cB9VNaWF4FwsiRx6EskMYRFXKiwYzHp7kY3FnHTSP50O0hd3MBQWP09W1sfZpZjCKSjQpJMlVnDxekcAhNnjKSz7WQSsY7y7XXn2iC65BM4ww5Sb3QJZ+z1b+faBSxiCOeMEZM+zMwOITd90fYgaLcN0jeNbdZmE8h1xHBG7xd8ESQnAi3RB9vFxymmKuf2s3PtAhY7YsgYI2JtiLwfQ2D7Om4byUe9cbOv2W2Tw/WMts3KTSxiCElhdFBfJzFrE+WHKUSncwhMJIURsRzWt4Hu56pNqUq1UJKlBg0YwlFtB287ect1dtpa1jDeJY5slaOeBVhTR8VKh7srcRRHw8DisrSzPLyN6ziOox3mp1uWL4JzYWDxYn2fydadh59hAwEcD4ltsw2vhp2TAH3KY2h2E8lwyVJtemIISW2UsxHktnNA+Kh5hPPQUQxZnuSo1P7UPCq688DcEfQlSvvb3LZ18tBs3MS0fPvZwe10DoHwq+ZjmC+CW5vyNFodcbWvWR079OO65tBMSRsE2vB8t+kJEz3xT4qv+/AzbAi5wm60TpL18DNsAEBHDz6LdaGrS31UOlTbUlYuIgGp0VVF3VmQjqLLbnrPpb6BIWDjM9NOuJO5DoRfBcexigIdAWB73WZkhSzl1pFDN563OjA5xFI/WZNHbVX69ITc8dczbaqkw3qPqnyEu3TkocTDFC6kgaEzzX6i6zam5dpPccRlTTiuddX5VKHbfU1WOjpoZQ030zaxt2l/O5nryGERUT2eu4hp6yRZOe2H204gIcxr51qmHsBODokBoSF1dalFqVU0dCttJ29p07HmhrrrWB86iiHTMPgObqchnRFR23MOp25EnlKnt7q6og4HQHV0vGtAmj6k6miDB4ujXbg5oNcONUZN1q6sjKOrS51CdUzijURMHjVTrc0mkLMYsVJHV8X6WfcxbZ0kS1BSk1V2TryZWRRiL8cQwCKiVsXTVTCmYzcziGlTebnpELq6xELFagXQY5qDv4gEjuNVqzOiumSR1NYi+azEdgIh6X1391sQWRGKi2eBqGUbU6d+Njc3kQlfL14MQ64EJjLCSKpek5XARdtpyAZ3aMY4thxP21zoAzUZUxMxsd5Kp41wWSRpfYlNbJqmW93HtHWSrECPNp0k1GSFjmvPbeCzkk6ghWnFqGLB6u4Ine5yDAE4FCGWZZ63X1teLK1HqGsWSW1JncHuybUwgN3VhXVct0GN79AZ56JjAG0nz7m/GIYAWBRo+55Ht+M0ZLNoQ+TMEJC+UJrIa7cKsb1FyMpN2xEuSy5j2jpJlhUtaLSHtKJsua6qGm2h49qVM2u4ma5iJ2kAO9cGzSNNLoanYVdkS84CPQjYnXB16CdprUAtFLYrSC85oFMFPIppox7DvN7XyiVYxomoTV1YDbVOkuV7Fcc7AAhnTOpcLfYk0A3JbWN/mMJguasRu593P/rkexXHO3K4/vYFLHY00lRhecUpVu3h5spXvZhzgClWVXzPoxvCVDRgf/VWkwt0WIxka5fHy/UrurWY1UmBWpitFh1rtVry1I5WV+Q60WgQbmJaXp/NFdd1HlM3+5rNcaUkWaogwYLjiahTO63+pL51kix9WNGoCyred8RqTralafcNka+4qJh+C4FRi1qMhylcSIs3fXOjeFZou0O2LPWGkDmLe5RROX04MxFAbjpqtNuda1Ektu2Kt5uXPoVXrMtcw/joomNf2Teq1qxEhWm/tZhY/K5P7Yj3cNPuX9gCxe9uYlqJvlH5vnhaH1DXMXWxrxnHFaF+z7jHlRZD7Wa35RIs56s9rdqp3q+eq7q8ooWSLK1YbjlmGp0p/2M0O4tCbO1O7c4HaYvthOmtvsQmNme7S9d5G0jWoA6ob0C9O3y1ZxXNZnFU/g20O0pX8U91UJF6VSyMdhuaBmLL4uXz1d4zrlH1YUa/Y7vWrhbDSVNfuXNt0Dxy5YvglnYHd709RjdiyIi3Hzg0Y/yLEuo6ISS6k+5GbBuOi5hWwhfBrc0kYMRUu+N5ncfUzb7Wl9hEMixcsa4dq/QYqlcLFgdSTA9TXKX7a8lK2qkWUxf9auv924VEREREHmndf7uQiIiIaI8wySIiIiLyAJMsIiIiIg8wySIiIiLyAJMsIiIiIg8wySIiIiLyAJMsIiIiIg8wySIiIiLyAJMsIiIiIg8wySIiIiLyAJMsIiIiIg807L9dSERERFTPOJJFRERE5AEmWUREREQeYJJFRERE5AEmWUREREQeYJJFRERE5AEmWUREREQeYJJFRERE5AEmWUREREQeYJJFRERE5AEmWUREREQeaJ0kKzMGv99v8whhTpE3qDFlDiHpfccy0jraZwwl89ICAMhjbsAP/9lV9U/99fS/Jatn/fAPzMHqlQwOMTF/tlWMic9lxiqLmcV3Nn0mq+UljzGs6t/dPwbrb6taPVt+ndrTP5vzYyzjHG9jHTvKHEJizB1iZ9V+1NjYPfY6ZvUtnwwJsamgnYsyY4773epZ69+nPqn7vRELm77GRG6XVttI+0HjxKMWXMRUYN9+pNd1aIP1xM2+Zu7LrLaRYmG5TpHnMS20itunCz6fz+ZxuHDlgbxB7ay8Y/EeD64UDvt8Bd87K8XnjM9o9Xk+L1x5TVhf397nK5y+La+rvedrVwqfywtEt09bv5f2Oaxet1Bw2E5k8xpqLE4XhG9dZPu62nd/7XDhsOO2Dq+9Z1YKp32+wuHLFpG3/X4VeHClcFjcVvv95fjq729qV5W2Byp8fvmwqQ3JfzvS90mbOKuvZdM26o7cjuW/rcjrWLRFud1qfzu/brOwjk+l392+/chx1vtL63ZYL+R9S/7biryO+rfYp8qxsFqnaC9i2jojWaFLUBTF9EgNa8uGJzHil9avlcwYIgtBTN7JmN/DP4LM1TCwELEYwcgiHq08a06fqvFIRGgck53Aeq7ST1Bq9aM0MJzCpZD5+f53UwgjjbjlmUMZPT3oQRo3SuKVx9z0OsLDQXlBC+rHpTuTCFq2K3K2ipmpLILnx9GvPdMeTWGys3x7zSdD8B+MIysvAIzRzt4p66X1KJ+MI40wJqPt2jP9uHQ1jOzUjG1fY7cNFm4Y26y+F0e2cxLjer/gH0HqfBDZhaWK+7tGZRcfp5iqnNtPPhlHunMSd981Wi1GkpMIbs1jyWEE5+lys6/ZbZPF/LK2TeYG0ggjZcSiuE78PTHKexfT1kmyZJkxRBYASD9IbeUxN522T+JCx5C6qkiJSBCT58PAVhwzFRwkw+cnEXSbtFRMmi4sK4/suvycrh+XFAUZo6OpxjEcGwbSH0ldkrKEeZzAsU7z0y3LP4LJYSA9XXmiTgCULNYRxIkBsW2248iwcxKQT4bQO5VF+Kpw4lZcirmBXsS3wkgpKYTlxXUqu5UFho8ZBzNA7a/Clic5qvZoBopyybRNPmfuCPrfVaAsj0CMcHbL+kDXbNzEtHz7yWNpIYvg8BFTTOEfQUaRTuzriat9zerYkcX9LeHP0KWSNgi0I9gj/r23MW3RJGsVY6fSAIDwVfkHqSW1AYRft3uHfvRLIz0AgIFLSA1XOEIV0M4EpyKO885VycwgjkmkXCVCMHYWLERqXu/T/3oYWM+adsL88jwwfAQcxyoKdgaBrfs2IytkKXsfWfQgaNWJOsRSTS7kkyVdO0aWFYuOv56pJ0nBTus9qvIR7tKRhxLKHOILQHjCnHg1H7cxLdd+1GNMT6DdXKvktn5or7jc12Slo4NWVnFjQYz93sa0NZOszA2kAUActvaCkoXtgE4Z/afVEapIBYWR7dFJhKucYizKIn5QLBL0w38qXVVDt9IezeDu+SCANCLCa1sXGFYhdAxh05BtHksLkM6IqD1gOnUj2kP6xSARhwOgVlR8UJo+pOpox5j0KT9uvK6XwtzFJOLodZkUNATt4oneckm8kYjJo2YOahzTFkyytCk8oHQ4sJ5otQrWNVsyrfZhK45I1UlMEJN3zLVqyp3KEzwn+hm+otzFpDaVl53qLXu1h7MgXjDNwc8gjhM4YnVGVJcsktpaJJ+V2IqjV3rf3f0WRFb0kQIFylUgYtnG1KkfRVFwd3gevTUe8W41wfN3hZFUvX6ospKThmTUWN/FiYVe+6s0M2NaIpaqepqvVjFtvSRLWcL8FgDbM6wa8gexm/EEtWCvwmnDkDrFWJNpQyPBKxas7o7Q6d6ZRBByEWI1zPP2qx+l6ztZLmGR1JbUGeyeXAsDqCO3d6X3VVzUGBBVLDRuUXRspo7Ee11X2tx6AlL/oR177Kchm0U7RibCwEK89LiXGYP/VBrB83dd9a+1imnLJVn55Xl1GqzzhT2o4QnihU6LQm2DdO+rElr2jDTiyfKTd+qVe6UdmvleJO7nlmtCK8qW66qq0T5wQrvKYxU3FqoYBm4AtfqtLItsyVnwBQSxjqzcWWOv+ot6oRYK2xWklxx8qAIexXSXJ/JPjdf72m4SrBrHtOWSLL2R783oh0OWDW2qy7EwXrjEeSqCuHgVhSX9kumIduWkqjhtpz2kq3tsuW3s2g0JHac5e4KVfQYr/iM40ZnFfDSOdGcjTRWW5/q3EunFxE7tikr5g+iBMBUN2F9p1OSCnRYj2drl8cds6qesb4CsFhGrRcc2J5VaDYzrRKNBuIlpef02V1zXeUzd7Gs2xxV11F4oot9NggXUPKYtlmQVby1QbaBcC11CajiL+EGpLkGZQ+iU9b2kZPq0YUW0acNdUeYQmcq6v+JHv4XAKYtaDGUO8YUgJk/vJgEonhXa7pAtaxVjB+PIVtCuSNaPcelK3XwygvjWHpQW1Bl9Cq9Yl6leke1UZNx/Wq1ZEetCV8+Kxe/6SadYZ5rHXLQ1it/dxLQS/afl++JpfUBdx9TFvmYcV4TyGe1YZcRQO666T7BUtYxpiyVZ0j019kj/uwqUqz3mgueDcfRcVaBUdI8urXOqkHplYqUsCrG1z+Z8kLbYTpjesvzOfj/8USBVgzqg/tfDQDVXjDSp9Cn5N4hg/fzdCtsVydSrYmG0294pYPKOeKl3tfeMa1T9uKSkEF6IGO0qPZwyHbjyyZB55Mo/gsydSWCq12iPkfVJ3BUvlQ9dgnI1LLTbXsR7Uu5GbBuOi5hWwj+CjJICjJiqr1vvMXWzr/W/qyA1LFyxrh2r9BiuvqfeEFi9wErqG6uJaw1j+kyhUCjITxIRERHR7rTYSBYRERHR3mCSRUREROQBJllEREREHmCSRUREROQBJllEREREHmCSRUREROQBJllEREREHmCSRUREROQBJllEREREHmCSRUREROQBJllEREREHmjYf7vw8ePH8lNERERET9X+/fuN/+dIFhEREZEHmGQREREReYBJFhEREZEHmGQREREReYBJFhEREZEHmGQREREReYBJFhEREZEHmGQREREReYBJFhEREZEHmGQREREReaDlkqy1WBe6uoqPwWs78ipUM2sYF2JtGe+HKQx2daErtmZ+XrMW60LXGymoW+0g9UYXurrGYbn2yji6ugaReigvcE9uL+aHzedwaS2mf3b9ezo/xlfkV6he8T1Jt3NtUIhzlfFZGRfaa6m1mMU+ULek/ddmHzXR92enbVbGTe24ceJRCy5iKrBvP9LrOrTBeuJmXzP3yVbbyMcdq3WKvI5pSyVZa7EuRNPm53LTIZsA026oO08UmN3E5qb+SKJ7OmTdWNPRKpKGRUSr7Jx2pSOGjPEdxMcM+uR13VoZF9pmGyIfmuM2BCAwkTG9/8wh80tUzfSeBK3dhqa7kdRinJkAEgMVJtMPUxgcXZSfNexcG2ygeK9hvCuKDaPNJTGUjpbpK9cwPpAApG1MiYQWoyG9X1iOAS3TB7uJaZF9+1FfdzGc1F43gxgSCFn1s3XEzb6mxmBI2kZMouRYWK1TtBcxbaEkaw03tWDqB6vMRAAAkEvfrjpw5OBhCtHpHIZm5USgDzPLMQS2E4hadCyLo847mElVSRlRJdZwcTqHwMQZI3luO5lErGMRFyzaq2jn2iC6BhLIyQsAY2QyNG29tB7tXLuARQzh3Mk27Zk+zMwOITd90XYftdsG6ZvGNmuzCeQ6Yjij9wu+CJITgZbog+3i4xRTlXP72bl2AYsdMWQSRqtF5P0YAtvXcdsisagPbvY1u21yuJ7Rtlm5iUUMIWnEorhOYlaM8t7FtIWSLF0Ax0NqI297rlt9anvdpnMkN0o6UpHvVZybzeCW0dGohiZiCMBpBxOEY4h1AIsXqz+r8I7FFJ802iZPPepnsDvXBtE1ugggh8SA3dC1FYfhbMtpWG39N1L4312/ZxN7+Bk2hP5B1YZXw85JgHpGrp5UJMMlS5F6I4TE9hCS2ohkI8ht54DwUfNI7aGjGMIibtqc3LSdvFUyurvzYEP4C+hLbGLzwwjECOe2W6P3dRPT8u1nB7fTOQTCr5piCl8EtzZvIeITn6wjrva1PsxsbkrHjhzWt4U/D82UtEGgDc9rh3rV3sa0hZKsAHo6AKCY9a4ta0P7csOnXdjBZxsobaCGNvQdsljynHZGOx21HNY1e147q7AeEdt72k7bXRyi3lyOISBMBazFuhDdEKYdtWmS8RXt4DQ7BCCA2LLcidiRh7M3kexOIKTXifkiuDU7BKQvGPFci0XVs7wPI/iaq/dscrl15NCN5606UYcTMTW5kEdtdfrUr9zx1zNtH+5QR/plGw8q3edKRx5KPEzhQhoYOmNOvJqP25iWaz9qktH9XJv5JM7FtNaecrmvyUpHB62os1jF2O9tTFsoyWpD5EM1a81Nh9DVpdVnmYYEafekM4sqtJ08hyHkkHi7gsbsi+BcGBUmZR57eBvXtwOIjQrtyPcqjnfoZ+lqB4vu54sHEl8Et2wPzOXpnYs4LN6XSGJIHA08NINkWIunVn81NGvXsRDVij6qqyb11gdAbVR1wGHUm8p7+Bk2ACyOduHmgHYCt4v6oYahXTwRKpfEG32lPGrmoMYxbaEkS5+vlbiYYyWvaDUcFY5QqUlFhUnZbmwnEBKn5bq6zFesiMPIxtVVISSMZFMdBkc6WqMrEtXh7NIR2D4cDZunX/pG1RG/0OgiEE66TuqIKidcuDELRC2v7lKnfjY3N5EJXy+OwJIrgYmMsG/r9UMJXLSdhmxwh2aM5Od4OlRSmmFYGdcSsWTV03y1imkLJVlrGNeu/DGubJkd0mpSuIPXjj4t69KhGSQrHqGqLilzzfLqQnFuXqjHGkggF06qZz5CHIpTgouI7nL42ZCOSolf6dWz+ogfII20Ee2FQ2csio7N1BHsCusxyVL3c9Ioje95dDtOQzaLNkTOmMsiDCvj6BpdRGCitAa4ErWKaeskWcYo1hCO6tnpoaNa0dsGPpN/IHJJLTK0L16U731VyhihcuiYDUZSVu4KHQ+tXERiW61t2tzcxKbd9LNx9qUl+NsJhOzOwCoh1GOZHuL7G7dp2IMRv0YX6EHAri/o6IF1NU0z0vZhm4L0koMPVcCjmGoH/obj9b62mwSrxjFtnSQroP9wwpUcVtOHtGv6FJXlsKpW6GpfGA/h0u9o6ciMBb0WKepwjyIv7TzYADqO41VxOPrhbVx3qk07NKPeQmTjMxeJj3a1TMm26oha8UpBbfQ2nFQL8b0e8Wt0vufRLVwYo7K50qjJBToCplsvAMXL442TVIn1yZNao6kWHWsjvvKJhVYD4zrRaBBuYlqeWiKwuNxgMXWzr2mlGPKte9QrWIUi+t0kWEDNY9o6SZZWiAytoK2rq0u7hB1A+FzV87XkQLv3zeKovEOoNyvMdcSQLNf4tRGqymhJ2VPS9lw3YEoqd5B6W7tn0sZn2LE8uGhXXtl1KGX0JZIYkkbCdq5FkdguFhrrBZ+x0b7i/YgqmoZtVX04I8VIjmmr0Kfwijf9VRN2pyJj/eRKTOT1K1rV+OlTO+I97rR9pQWK393EtBJ9o+qVzMWYFvvZ+o2pi31NK30w3U9RuyejEUPtZrfuEyxVLWPaOkmWVowpH7gDExn76R1yre3kLWwux7ChJ7Rd6tVGGxOZkvvk2OkbjVU+bHzojKkGak9po1JG8t4VwvVwRm1r2+vIoQ2RDzOIbYg1VOrtF4yOQK9dGZCTMTt9mNHvqK29pnr3ZO3qQYuCT+OmfHoNYtXv2fzaTt7S7hCtxxSILYtXZKpXxcln081Hbl9Se4V2fzdx5MoXwS3t1iRGjeBGDBnxUvlDM9icHTLtK4nuZMV9QmNzEdNK+CK4tZkEjJhqt3ap85i62df6EptIhoW61oEEumeLt6BZm1VPbvU7CJge1cS1hjF9plAoFOQnG8Hjx4/lp4iIiIieqv379xv/30IjWURERER7h0kWERERkQeYZBERERF5gEkWERERkQeYZBERERF5gEkWERERkQeYZBERERF5gEkWERERkQeYZBERERF5gEkWERERkQeYZBERERF5gEkWERERkQca9h+IJiIiIqpnHMkiIiIi8gCTLCIiIiIPMMkiIiIi8gCTLCIiIiIPMMkiIiIi8gCTLCIiIiIPMMkiIiIi8gCTLCIiIiIPMMkiIiIi8kDLJVmrZ/3w+/XHGFblFai8zBj8/hDmFHmBRJlDyIi19hiYQ95pecljDKvIY26g/O+l/rbO61TL3F7kR63fS4+p/n2dH2MZ+RWqV3xP0uWTISHOVcYnM2Zu45LVs36EknZL680qxsQ2d7aC1i7v01bbZMZM7bhx4lELLmIqsG8/0us6tMF64mZfM/fJVttIsbBcp8jzmBZaxueFK6/5Cj6f/DhcuPJAXpcc3T5dPm63Txd8Pl/h9G3z0yvv+Ao+3+nCivlple3rar/da4cLhx23dXhtl1be8RV8r10pfC4vqDXb714oFAorhdM+X+Hw5Rp/Csf3bE2fXz5sakPy344eXCkc9tm3F/W1PPgdPSG3OflvK/I66t++d4ToaTEy+gXtb+fXbRbW8an0u9u3HznOen9p3Q7rhbxvyX9bkddR/xb7MDkWVusU7UVMW2ckKzOD+BYABDF5R4GiKEgNA0AW8feqO5ug8lY/SgPDKVwKmZ/vfzeFMNKIW545lNHTgx6kcaNkBCePuel1hIeD8gKiKqxiZiqL4Plx9GvPtEdTmOws317zyRD8B+PIygsAY2Syd8p6aT3KJ+NII4zJaLv2TD8uXQ0jOzVjO3prtw0WbhjbrL4XR7ZzEuN6v+AfQep8ENmFJXejBA3ELj5OMVU5t598Mo505yTuvmu0WowkJxHcmseSwwjO0+VmX7PbJov5ZW2bzA2kEUbKiEVxHfNxfu9i2jJJVj63rv5P5wkc8av/2396EkHA1AlQLeSR1cJdqh+XFAUZo6OpxjEcGwbSH0m/lrKEeZzAsU7z03vLYopPmgqQpx71Iep8MgT/qbSa8B+0G7q24jCcrU/bmD6Dtv7AHP6j6/dsYkoW6wjixIDYNttxZNg5CcgnQ+idyiJ8VT9xMy3F3EAv4lthpJQUwvLiOpXdygLDx4yDGQAgdAxhy5McVXs0A0W5ZNrG6Hc1/e8qUJZHIEY4u2V9oGs2bmJavv3ksbSQRXD4iCmm8I8go2Qwoh3r6o6rfc3q2JHF/S3hz9ClkjYItCPYI/69tzFtmSTL2TqyVWan5ETdWbAQqXndUv/rYWA9a9oJ88vzwPARNWF+KrSdticFRVFHSZU7kwguRIzkZfWsH5H1SdwVlmOqF2MZ7eB0NWyMslaWgK5izB9Berj4nqmeOHr1ePtHkLkaBhbiRj3C6tmIepa3PIL/1tV7NrnsfWTRg6BVJ7p132aUSk8ulJJRW1U7RpYVi46/nqknScFO6z1qPWd9CCxVOvJQQplDfAEIT5gTr+bjNqbl2o+aZPQE2s0ncW7rh/aKy31NVjo6aGUVNxbE2O9tTFsmyWoPaKmsMNyXX56v+Mek6rRHM7h7PgggjYjF6I1roWMIm4Zs81hagHRGtMeUJcxvBTF5Wthl/UdwolM/S9dG9nqCxQOJfwQZ2wNzeXrnIg6Ll0zFhi4hNZxFPDqHfGYMkQUgfNWuYyGqFX1UV03qrQ+A2qjqQWn6kKqjZLEOIH3Kjxuvaydwyl1MIo5el0lBQ9Aunugtl8QbfaU8auagxjFtmSQLoXFMdsKYHtF/IPKOfoavKHe12APZqd6yV3s4C+IF0xz8DOIoTgF7YiuOXnFazu83fwdxGNm4uqpXqwGEByN76nB2ydQD+nFs2Dz90n96EsGtOHpPWdfIEdWePlKgQLkKRCz3d3XqR1EU3B2eL47AkivB83eFfVuvH4pjxnYassGFLhnHlhMLvSWlGYbMmJaIpaqe5qtVTFsnyUI7RpaLB3sAwHDYYj6Wak/odO9MIririw3M8/arH6VL585rrVOY5jMe4ty8UI91MI7scMqUWEJPOK+GzSN7Ls6KTBYiUuLnR2RBWsc/gslhqNOC4kgb0V4IjVsUHZu1RyfdXwxDANSpLRN/ED2O05DNoh0jE+ayCENmDP5TaQTP33VVDlGrmLZQkgXzwV5RoJx+AWpZps3cMNWeftCX6qqq0T5wQrvKYxU3FqoYBvZKZgbxreJVq4owhWdinH0pasK1FUev3RlYJYR6LNNDfH9tmhDQpg2FzUkSfAFBu/rMzheeYs3fXlMLhe0K0ksOPlQBj2KqHfgbjtf72m4SrBrHtHWSLGMapzh0bdRklUy70K5osXa8WaZYn1Qt/xGc6MxiPhpHWrha9GnJ59ZNV60Cep2W8LcsdEmtWXOVbGpXy5Rsq46oFeveVjGmTRMqd9Sh7ghHC+z5g+iBMBUNGFOzno+W1plgZ7D0qmvt8vhjNlPOq2etRmfVImK16Fgb8ZVPLLQaGNeJRoNwE9Py1BKB0iuu6zymbvY1m+OKegWrMFCymwQLqHlMWyfJ0gqRS2uyzMXDVAPaaFX6lEUthjKH+MJup66KZ4W2O+Qeag/0AKa5+jzmoto9k9azyFseXLQrr1x+/v53UwhLI2H5ZATxrWKhsV7wOXm6v3g/oqlI6W9Cmn6MSzGSY9oq9Cm8iNG+1ITdqchYr/8TE3n9ilY1fvrUTkQ4UGr7SgsUv7uJaSX6T6tXMhdjuoqxur+gwMW+ZhxXhPo9ZQ4RsfhdmUNoVwmWqqYxle9O2tzku747312WbBh3V7d4iHfEtVrP6Y65tncg13438c7RFuvKdwOuhUrv+K7fOVh/HL78uXR3e7ntSd9HXG56vuBwZ2jtrsTGQ/juWuzN2+jvYfGZSt6zdZl/S7k9qjGX/yUDnXN7sfsd65XUvqQ28vnlw6XfVb/rvf6Qlxcs+oWWansuYmpwaj/Or1uv3Oxrar9afIjL5WWmh2VcvY/pM4VCoSAnXkRERES0O60zXUhERES0h5hkEREREXmASRYRERGRB5hkEREREXmASRYRERGRB5hkEREREXmASRYRERGRB5hkEREREXmASRYRERGRB5hkEREREXmASRYRERGRB5hkEREREXmgYf+B6MePH8tPERERET1V+/fvN/6fI1lEREREHmCSRUREROQBJllEREREHmCSRUREROQBJllEREREHmCSRUREROQBJllEREREHmCSRUREROQBJllEREREHmCSRUREROSB1kiyHqYw2NWFrjdS2JGXYQ3jXV3o0h+xNXmF5rUyXvze0mN8RVxRjZHx3Mo4uroGkXoormNBj7v4EH8Dq+Ulj3GsYQepN/T/t7cWK79OtdTXtHvU+r30mOrf1/lh/o3cKb4n6XauDQpxrjI+K+M2/YxqLdaFwWt2S+uNi75R3qettpH6ncaJRy24iKnAvv1Ir+vQBuuJm33N3CdbbSPFwnKdIq9j2gJJ1g5SbyeQk58GtCBGsSg+lY5W3fAbWwCx5U1sbgqP2SEsjooH8T7MbG5i5pB5S0cr4+gaSKB71vzaye4EQnpy4ovglvS+pZ9nBn36a3Zs4IJdYrMyjmhafrJGOmLIiJ/T6rPtlunztyHyofg+SQwBCExkTO9f1e9hxcuYNaida4MITXcjqcU4MwEkBmzanOxhCoOjpt7EZOfaYAPFW+0bN4w2l8RQOmpzMNKtYXwgAUjbmPpTLUZDer+wHAOmQ2Vet1m4iWmRffvRjmPhpPa6GcSQQMhlUrBX3OxragyGpG3EJEqOhdU6RXsR0+ZOsh6mMNgVQmJbXqDauXZBTbD0g+jskLogfdPxh256h84g1gFsPKi2ORWtLS8C4WRJItCXSGIIi7hQYcdi0t2NbiziZskIzg5SFzcwFA7IC4iqsIaL0zkEJs4YyXPbySRiHeXb6861QXQN2J3MqSOToWnrpfVI7RuHcO5km/ZMH2Zmh5CbvmjbN9ptI/ana7MJ5DpiOKP3C74IkhMB5NK3qz54NRq7+DjFVOXcfnauXcBiRwyZhNFqEXk/hsD2ddy2SCzqg5t9zW6bHK5ntG1WbmIRQ0gasSiuk5gVo7x3MW3eJEsbSckBCHRYHXx3cDutBjgQfhVtKCYXsDyQtzJpurCsHXy2IT+nU0fFbhkdTTWO4mgYWFyWuqSHt3Edx3G0w/z03rKY4pNGROWpR/0MdufaILpGFwHkkBiwG7q24jCcrU/bmD6Dtv4bKfzvrt+ziT38DBsI4HhIbJtteDXsnASoZ+Q5DM1uIhkuWYrUGyEktoeQ1EYkG0FuOweEj5pHag8dxZBD39h28lbJ6O7OA3NH0JfYxOaHEbW/1eS2rQ90zcZNTMu3H/U4ZhzDdL4Ibm3eQsQnPllHXO1rVseOHNbFQZRDMyVtEGjD893i33sb0+ZNsgAA6rDirTOmCJfofq70gL+bUZyGt3IRCcSQdJUIwdhZkI7WvG6pb2AI2PjMtBPuZK4D4VdhlUrvDW2n7S4OUW8uxxAQpgLWYl2IbgjTjto0yfiKdnASpkorS0Dl4WyLqdjZISB9wRgmX4tF1bO8DyP4mqv3bHK5deTQjeetOtHtdZtRKj25sJu+1ad+5Y6/nqknSdYnp9X0jaUjDyUepnAhDQydMSdezcdtTMu1HzXJ6H6uzXwS52Jaa0+53NdkpaODVtZwMy3Gfm9j2rxJlmVGK5IyYMAi420F6kiGaQRmdLGqhm6l7eQtZCYCABYRtRi9ce3QUQyZhmx3cDsN6Yxojz28jevbAcRGhdbmexXHO/SzdG1kr/v54oFEq0ezPjCXp3cu4rB4yVTsoRkkwzkk3k5hR6u/Gpp12ieIakEf1VWTeusDoDaqOiBNH1J1Hn6GDQCLo124OaCdwO2ifqhhaBdPhMol8UZfKY+aOahxTJs3yaIKyYXm2igMFhHd5QUA+hn+5mZGm4YFctOhsld7OAugxzQHfxEJHMerVmdEtbKdQEhMQru6zN9BHEY2rq4SawFrPbKnTXXLUw/ow9GwefqlbzSGwHYCoVHrGjmi2hMu3JgFopb7uzr1s7m5iUz4enEEllwJTGSEfVuvH0rgou00ZIM7NGMcW46nQyWlGYaVcS0RS1Y9zVermDLJMnGqJWohWjFq7S4AEDrd5RgCkIsQq2Get19bXiydO681y6sLxbl5oR5rIIFcOGlKLKEnnLND5pE9F2dFJumolPh1lV4p44vgXBhqMi2OtBHthUNnLIqOzdpOnnN/MQwBViUvvufR7TgN2SzaEDljLoswrIyja3QRgYmMq3KIWsW0hZOsAHq0g6BV0EoCTLWhH/SluqpqtIWOa1d5rOFmuophYK+sXERiWxgRFKbwTIyzL+1K1u0EQnZnYJUQ6rFMD/H9jds0aNOGwuYkCfQggA18JnfWANDR8xRr/vaaWjZhV5DOvtENj2KqHfgbjtf72m4SrBrHtIWTLG0KByhezfDwNq5vA8AQjnJaxX1j16bMHK9GFOuTquV7Fcc7crj+9gUsdng8VViBnQcbgPw5jLZk49CMWrPmKtnUagdLtlVH1Ip1b2sY16YJN5fVoe4oRwvs+Z5HN4SpaMD+SqMmF+iwGMnWLo+36xvXYlajs2rtq1p0rI34yicWWg2M60SjQbiJaXlqiUDpFdd1HlM3+5rNcUW9glUoot9NggXUPKYtnGTpw9RCzY1+n5uSWpcW8zCF6HTO/RU/2mjV4qhFLcbDFC6kdzt1VTwrtN0h91Dbc92Aaa5euAHuxmfYsTy4aFdeufz8fYkkhqSRsJ1rUSS2i4XGesFnbLSveD+i6Wjpb0KaPpyRYiTHtFXoU3jFukw1YXcqMtbr/8REXr+iVY2fPrUTFQ6U2r7SAsXvbmJaib5R9UrmYkzVm8LWd0xd7GvGcUWo39OOVUYMtZvduk+wVLWMaUsnWWrxpXSfjHDSfrqnKVlcXajdqd25SNpiO6HOqC+xic3Z7tJ13gaSLu41IusbUG8/8NSnClEclVoc1b9nCNfDGfWeSdvryKENkQ8ziG2INVTq7ReMjkCvXRmQkzE7WtsV6rLUuydrVw9aFHwaN+XT76pc9Xs2P/WqWBjtNjQNxJbFKzKrvWdco5Lbl9Reod3fTRy58kVwS7s1id4m1duWCPE7NGP8ixL6vpLoTpbcO6s5uYhpJXwR3NpMAkZMtVu71HlM3exrfYlNJMNCXat2rNJjuDarntyqF1jp8dAe1cS1hjF9plAoFOQnG8Hjx4/lp4iIiIieqv379xv/3+IjWURERETeYJJFRERE5AEmWUREREQeYJJFRERE5AEmWUREREQeYJJFRERE5AEmWUREREQeYJJFRERE5AEmWUREREQeYJJFRERE5AEmWUREREQeaNh/u5CIiIionnEki4iIiMgDTLKIiIiIPMAki4iIiMgDTLKIiIiIPMAki4iIiMgDTLKIiIiIPMAki4iIiMgDTLKIiIiIPMAki4iIiMgDTLKIiIiIPNAySdbqWT/8fj/GMvISAMhjbsAPvz+EOUVeViPKHEJ+9TPoj5LPkhmD3+9HKJmXFqD4Gc+uqn/qr6f/LVk964d/YA5Wr2TQ3s/qYf5sqxgTn8uMVRYri+9s+kxWy0seY1g1fp8xWH9blfobO69TLb3dWD9q/V56TPXv6/woaT8uFN+TdPlkSIhzlfHJjDnud6tn7fbveqTu90YsbPoaE3mfttpG6ncaJx614CKmAvv2I72uQxusJ272NXOfbLWNFAvLdYo8j2mhFdw+XfD5fAWfz1c4fVteWCh8fvmwtvxw4coDeenurbxj8doPrhQO+3wF3zsrxeeMz2n1OT4vXHlNWF/f3uY7rbzjK/heu1L4XF4gun3a+r20z2H1uoWCw3Yim9dQY3G6IHzrItvX1b77a4cLhx23dXhtlyqKYy3YfvdCoVBYKZz2+QqHL9f4Uzi+Z2tS+4JiG5L/dqTvkzbtRe9nav47ekJuc/LfVuR11L9NfZwWI6Nf0P52ft1mYR2fSr+7ffuR46z3l9btsF7I+5b8txV5HfVvsQ+TY2G1TtFexLTpR7JWz/rhP5WWn9aoIwa9U1l5Qe1kxhBZCGLyTgYjfuF5/wgyV8PAQsRiRCKLeLTyrDl9qrYjKgiNY7ITWM9V+glKrX6UBoZTuBQyP9//bgphpBG3PHMoo6cHPUjjRkm88pibXkd4OCgvIKrCKmamsgieH0e/9kx7NIXJzvLtNZ8MwX8wDuueZA/6mRrLJ+NII4zJaLv2TD8uXQ0jOzVj29fYbYOFG8Y2q+/Fke2cxLjeL/hHkDofRHZhqeL+rlHZxccppirn9pNPxpHunMTdd41Wi5HkJIJb81hyGMF5utzsa3bbZDG/rG2TuYE0wkgZsSiuE39PjPLexbSJkyw1iJEFAAgi2CkvX8WYvxfxLQCdQXhzeM5jbjoNDE+aEyxd6BhSVxUpEQli8nwY2IpjpiSZKBU+P4mg26SlYtJ0YVl5ZNfl53T9uKQoyBgdTTWO4dgwkP5I6pKUJczjBI6V/MZ7yWKKT5oKkKce9SHqfDKknQhkET9oN3RtxWE423I6WVt/YA7/0fV7NjEli3UEcWJAbJvtODLsnATkkyH0TmURvqogNVyyFHMDvYhvhZFSUgjLi+tUdisLDB8zDmaA2l+FLU9yVO3RDBTlkmmbfM7cEfS/q0BZHoEY4eyW9YGu2biJafn2k8fSQhbB4SOmmMI/gowindjXE1f7mtWxI4v7W8KfoUslbRBoR7BH/HtvY9rESZYqeP4uFCWFE/ICTfiqAmV5EqbfoGbUBhB+3fyTF/WjXxrpAQAMXEJquMIRqoB2JjgVcZx3rkpmBnFMIuUqEYKxs2AhUvO6pf7Xw8B61rQT5pfngeEjHiXKldB22p4UFEVRH3cmEVyIGMnL6lk/IuuTuCssx1QvxjLawelqWE2w78idiJ1VjPkjSA8X3zPVE0evHm9jpDRutIvVsxH1LG95BP+tq/dsctn7yKIHQatOdOu+zSiVnlzIJ0u6dowsKxYdfz1TT5KCndZ7VOUj3KUjDyWUOcQXgPCEOfFqPm5jWq79qMeYnkC7+STObf3QXnG5r8lKRwetrOLGghj7vY1pEydZaiDtDx5qVmzdMdaIkoXtgE4Z/afVEapIBYWR7dFJhKucYixSRzJMIzCn0lU1dCvt0Qzung8CSCNiMXrjWugYwqYh2zyWFiCdEe0xZQnzW0FMnhZ2Wf8RnOjUz9K1kb2eYPFA4h9BZhftT+9cxGHxkqnY0CWkhrV2kRlDZAEIX7XrWIhqRR/VVZN66wOgNqp6UJo+pOpox5j0KT9uvK6dwCl3MYk4el0mBQ1Bu3iit1wSb/SV8qiZgxrHtImTrAan1SpY12zJtNqHrTgiVScx6kiGMQKjj8JUmOA50c/wFeUuJrWpvOxUb9mrPZwF8YJpDn4GcZzAEaszolrZiqNXTEL9fvN3EIeRjaurtKlowIORPXU4u2TqAf04Nmyefuk/PYngVhy9p6xr5IhqTx8pUKBcBSKW+7t6kqsoCu4OzxdHYMmV4Pm7wr6t1w9VVnLSkEKXjGPLiYXektIMQ2ZMS8RSVU/z1SqmTLK85A/uahpSLdircNowpE4x1mTa0EjwigWruyN0uncmEYRchFgN87z96kfp0rnzWusUpvmMhzg3L9RjHYwjO5wyJZbQE86rYfPInouzIpOFiJT46TWIAv8IJoehJtPiSBvRXgiNWxQdm6kj8V7XlTa3noDUA2rHHvtpyGbRjpEJc1mEITMG/6k0gufvOsxo2atVTJlkeSqIFzotCrUN0r2vSmjZM9KIJ8tP3qnTRaUdmvleJDU4uO+GftCX6qqq0T5wQrvKYxU3FqoYBvZKZgbxLWFEUJjCMzHOvhQ14dqKo9f2t6+AUI9leojvr00TVnvFaksKvoAg1pGVO2sA6HzhKdb87TW1UNiuIL3k4EMV8CimuzyRf2q83td2k2DVOKZMsjzlkGVDPzg7FcYXR5WyUxFh+smOfsl0xDSiUZy20x7S1T223DZ2bcrMcZpTrE+qlv8ITnRmMR+NI93p8VRhBfK5dUD+HMoS5p1+r9AltWbNVbKpXS1Tsq2atBfr3lYxpk0TKnfUoe7qp5NbiD+IHghT0YAxNev5aGmdCXZajGRrl8cfs5lytr4BslpErBYd25xUajUwrhONBuEmpuWpJQIlJ/L1HlM3+5rNcUW9glUoot9NggXUPKZMsrymFx8flOoSlDmEKqyT0acNK6JNG+6KMofIVNb9FT/aaFX6lEUthjKH+MJup66KZ4W2O+Qeag/0SLfcyGMuqt0zaT2LvOXBRbvyyuXn7383hbA0EpZPRhDfKhYa6wWfk6f7Tcl6yW9Cmn6MSzGSY9oq9Cm8Yl2mmrA7FRnr9X9iIq9f0arGTz/pFOtMtX2lBYrf3cS0Ev2n1SuZizFdxVjdX1DgYl8zjitC+Yx2rDJiqB1X3SdYqprGVL47aXPS7tZqcQdylXZ3V5u7wtaEcNd527vPO92BW99euuN7yWsIy8rendbiM1l/NjU+xnMO25ne02o9p89k+/2lu90XrNeV7wZcC5Xe8b34rwaoj8OXP5fubl9sg8ZD/D7ictPzBYc7Q+vtVn8I312LvXkb/T0sPlPJe7Yu828pt0dpX5A4txe737FeSe1LaiOfXz5c+l2Ff4nC57OJhdwvtFTbcxFTg1P7cX7deuVmX1P71eJDXC4vMz0s4+p9TJ8pFAoFOfEiIiIiot3hdCERERGRB5hkEREREXmASRYRERGRB5hkEREREXmASRYRERGRB5hkEREREXmASRYRERGRB5hkEREREXmASRYRERGRB5hkEREREXmASRYRERGRB5hkEREREXmASRYRERGRB5hkEREREXng/w8tF+6RZgPTbgAAAABJRU5ErkJggg==)"
      ],
      "metadata": {
        "id": "5VzwZhCtodOQ"
      }
    },
    {
      "cell_type": "markdown",
      "source": [
        "## **BEST PERFORMING MODEL:**"
      ],
      "metadata": {
        "id": "2jWzcYrnwpTY"
      }
    },
    {
      "cell_type": "markdown",
      "source": [
        "CNN with BoW is the Best Performing Model as it has achieved highest scores accross all metrics.\n",
        "\n",
        "*   **Accuracy** = 92.8%\n",
        "*   **Precision**, Recall, F1 score = 0.93\n",
        "\n"
      ],
      "metadata": {
        "id": "eIC6qxcZvN3n"
      }
    },
    {
      "cell_type": "markdown",
      "source": [
        "All Other Models Performed Poorly -  The LSTM, BiLSTM, and CNN-BiLSTM models, when paired with TF-IDF and FastText, exhibited very poor performance:\n",
        "\n",
        "*   **Accuracy**: Their accuracy ranged between **32.16% - 32.75% .**\n",
        "*   Meaning they almost predicted 1 out of 3 classes correctly.\n",
        "\n"
      ],
      "metadata": {
        "id": "U-1gwE13wlRd"
      }
    },
    {
      "cell_type": "markdown",
      "source": [
        "## **CERTAIN CHALLENGES:**"
      ],
      "metadata": {
        "id": "BTPlpM7EzVyQ"
      }
    },
    {
      "cell_type": "markdown",
      "source": [
        "* **1. Class Imbalance Issues:** The poor performance of most models (except CNN + BoW) suggests imbalanced class distribution in the dataset, making it difficult for models to learn meaningful patterns.\n",
        "\n",
        "* **2. Ineffective Feature Representations:** TF-IDF and FastText do not contribute to improving model performance, which means these techniques may not be well-suited for this dataset. More context-aware embeddings (e.g., Word2Vec, GloVe, BERT) might be needed.\n",
        "\n",
        "* **3. Deep Learning Models Underperforming:** LSTM and BiLSTM fail to outperform CNN, possibly due to inadequate training data, improper hyperparameter tuning, or the inability to capture meaningful sequential dependencies.\n",
        "\n",
        "* **4. Overfitting Risk with CNN:** While CNN performs well with BoW, its strong performance might indicate overfitting, meaning it could struggle with new, unseen data. A cross-validation approach should be used to validate results."
      ],
      "metadata": {
        "id": "2ElglJtHzbJX"
      }
    },
    {
      "cell_type": "markdown",
      "source": [
        "## **SUGGESTIONS FOR IMPROVEMENT:**"
      ],
      "metadata": {
        "id": "sRwgO8dUyFif"
      }
    },
    {
      "cell_type": "markdown",
      "source": [
        "* **Avoid LSTM/BiLSTM** unless hyperparameters or embeddings are **improved**.\n",
        "* TF-IDF and FastText are **ineffective** for this task.\n",
        "* Should Try more **Hybrid** Models.\n",
        "* Improve CNN-BiLSTM with **hyperparameter** tuning.\n",
        "* Explore **Pretrained Embeddings** such as Test Word2Vec, GloVe, or BERT embeddings instead of FastText."
      ],
      "metadata": {
        "id": "qQOH7Nw3yKMg"
      }
    }
  ]
}