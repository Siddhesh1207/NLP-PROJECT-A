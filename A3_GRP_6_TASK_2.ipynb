{
  "nbformat": 4,
  "nbformat_minor": 0,
  "metadata": {
    "colab": {
      "provenance": []
    },
    "kernelspec": {
      "name": "python3",
      "display_name": "Python 3"
    },
    "language_info": {
      "name": "python"
    }
  },
  "cells": [
    {
      "cell_type": "markdown",
      "source": [
        "# **Task 2 of Mini Project: Text Classification using Deep Learning**"
      ],
      "metadata": {
        "id": "dzuu5LaF8E5F"
      }
    },
    {
      "cell_type": "markdown",
      "source": [
        "# **1. Data Loading**"
      ],
      "metadata": {
        "id": "MDx1QxET8LiM"
      }
    },
    {
      "cell_type": "code",
      "source": [
        "# Import required libraries\n",
        "import pandas as pd\n",
        "from sklearn.model_selection import train_test_split\n",
        "import matplotlib.pyplot as plt\n",
        "\n",
        "# Load the dataset\n",
        "data = pd.read_csv('/content/Nlp data.csv')  # Replace with actual dataset path\n",
        "\n",
        "# Exploratory Data Analysis (EDA)\n",
        "print(\"Dataset overview:\")\n",
        "print(data.info())  # Checking for missing values, data types\n",
        "print(\"\\nSample data:\")\n",
        "print(data.head())  # Display the first few rows\n",
        "\n",
        "# Plot class distribution\n",
        "plt.figure(figsize=(8, 5))\n",
        "data['Sentiment'].value_counts().plot(kind='bar', color='skyblue')  # Changed 'label' to 'Sentiment'\n",
        "plt.title('Class Distribution')\n",
        "plt.xlabel('Class')\n",
        "plt.ylabel('Count')\n",
        "plt.show()\n",
        "\n",
        "# Splitting data into train, validation, and test sets\n",
        "train_data, test_data = train_test_split(data, test_size=0.2, random_state=42)\n",
        "train_data, val_data = train_test_split(train_data, test_size=0.1, random_state=42)"
      ],
      "metadata": {
        "colab": {
          "base_uri": "https://localhost:8080/",
          "height": 882
        },
        "id": "Aj446Lv28Nvd",
        "outputId": "dada9983-f2c5-4cbd-c1bf-76a7b2feda27"
      },
      "execution_count": null,
      "outputs": [
        {
          "output_type": "stream",
          "name": "stdout",
          "text": [
            "Dataset overview:\n",
            "<class 'pandas.core.frame.DataFrame'>\n",
            "RangeIndex: 1800 entries, 0 to 1799\n",
            "Data columns (total 2 columns):\n",
            " #   Column     Non-Null Count  Dtype \n",
            "---  ------     --------------  ----- \n",
            " 0   Review     1800 non-null   object\n",
            " 1   Sentiment  1800 non-null   object\n",
            "dtypes: object(2)\n",
            "memory usage: 28.3+ KB\n",
            "None\n",
            "\n",
            "Sample data:\n",
            "                                              Review Sentiment\n",
            "0  The Engineer, electronics team team at company...  Positive\n",
            "1  company's focus on transparency makes this a g...  Positive\n",
            "2  I love how company supports communication like...  Positive\n",
            "3  The HR team at company is fantastic because Ma...  Positive\n",
            "4  company handles benefits adequately. Worry res...   Neutral\n"
          ]
        },
        {
          "output_type": "display_data",
          "data": {
            "text/plain": [
              "<Figure size 800x500 with 1 Axes>"
            ],
            "image/png": "[encoded data removed]"
          },
          "metadata": {}
        }
      ]
    },
    {
      "cell_type": "markdown",
      "source": [
        "# **2. Text Preprocessing**"
      ],
      "metadata": {
        "id": "Yh2F9laW8kn9"
      }
    },
    {
      "cell_type": "code",
      "source": [
        "import re\n",
        "import nltk\n",
        "nltk.download('punkt_tab')\n",
        "nltk.download('punkt')\n",
        "nltk.download('stopwords')\n",
        "from nltk.corpus import stopwords\n",
        "from nltk.tokenize import word_tokenize\n",
        "\n",
        "# Function to clean and preprocess text\n",
        "def preprocess_text(text):\n",
        "    text = text.lower()  # Convert to lowercase\n",
        "    text = re.sub(r'\\W', ' ', text)  # Remove special characters\n",
        "    text = re.sub(r'\\s+', ' ', text)  # Remove extra spaces\n",
        "    tokens = word_tokenize(text)  # Tokenize the text\n",
        "    tokens = [word for word in tokens if word not in stopwords.words('english')]  # Remove stopwords\n",
        "    return ' '.join(tokens)\n",
        "\n",
        "# Apply the preprocessing to the dataset\n",
        "train_data['processed_text'] = train_data['Review'].apply(preprocess_text)\n",
        "val_data['processed_text'] = val_data['Review'].apply(preprocess_text)\n",
        "test_data['processed_text'] = test_data['Review'].apply(preprocess_text)\n",
        "\n",
        "# Check the processed text\n",
        "print(train_data[['Review', 'processed_text']].head())  # Changed 'text' to 'Review'"
      ],
      "metadata": {
        "id": "o4ssAgCR8maU",
        "colab": {
          "base_uri": "https://localhost:8080/"
        },
        "outputId": "840502af-f54b-4832-b816-59ab91aa109b"
      },
      "execution_count": null,
      "outputs": [
        {
          "output_type": "stream",
          "name": "stderr",
          "text": [
            "[nltk_data] Downloading package punkt_tab to /root/nltk_data...\n",
            "[nltk_data]   Package punkt_tab is already up-to-date!\n",
            "[nltk_data] Downloading package punkt to /root/nltk_data...\n",
            "[nltk_data]   Package punkt is already up-to-date!\n",
            "[nltk_data] Downloading package stopwords to /root/nltk_data...\n",
            "[nltk_data]   Package stopwords is already up-to-date!\n"
          ]
        },
        {
          "output_type": "stream",
          "name": "stdout",
          "text": [
            "                                                 Review  \\\n",
            "1449  company needs to improve communication because...   \n",
            "788   I love how company supports communication like...   \n",
            "1668  The Estate manager/land agent team team at com...   \n",
            "1175  I’m disappointed with company's diversity due ...   \n",
            "11    I’m disappointed with company's work-life bala...   \n",
            "\n",
            "                                         processed_text  \n",
            "1449  company needs improve communication recognize ...  \n",
            "788   love company supports communication like mento...  \n",
            "1668  estate manager land agent team team company fa...  \n",
            "1175  disappointed company diversity due lack clarit...  \n",
            "11    disappointed company work life balance due del...  \n"
          ]
        }
      ]
    },
    {
      "cell_type": "markdown",
      "source": [
        "# **3. Text Embedding**"
      ],
      "metadata": {
        "id": "UWFmPeXp84l1"
      }
    },
    {
      "cell_type": "code",
      "source": [
        "!pip install gensim\n"
      ],
      "metadata": {
        "colab": {
          "base_uri": "https://localhost:8080/"
        },
        "id": "nCntIHyyZMHM",
        "outputId": "69f5c73e-dfd3-4742-ce2a-a6afd561ede9"
      },
      "execution_count": null,
      "outputs": [
        {
          "output_type": "stream",
          "name": "stdout",
          "text": [
            "Collecting gensim\n",
            "  Downloading gensim-4.3.3-cp311-cp311-manylinux_2_17_x86_64.manylinux2014_x86_64.whl.metadata (8.1 kB)\n",
            "Collecting numpy<2.0,>=1.18.5 (from gensim)\n",
            "  Downloading numpy-1.26.4-cp311-cp311-manylinux_2_17_x86_64.manylinux2014_x86_64.whl.metadata (61 kB)\n",
            "\u001b[2K     \u001b[90m━━━━━━━━━━━━━━━━━━━━━━━━━━━━━━━━━━━━━━━━\u001b[0m \u001b[32m61.0/61.0 kB\u001b[0m \u001b[31m2.5 MB/s\u001b[0m eta \u001b[36m0:00:00\u001b[0m\n",
            "\u001b[?25hCollecting scipy<1.14.0,>=1.7.0 (from gensim)\n",
            "  Downloading scipy-1.13.1-cp311-cp311-manylinux_2_17_x86_64.manylinux2014_x86_64.whl.metadata (60 kB)\n",
            "\u001b[2K     \u001b[90m━━━━━━━━━━━━━━━━━━━━━━━━━━━━━━━━━━━━━━━━\u001b[0m \u001b[32m60.6/60.6 kB\u001b[0m \u001b[31m3.7 MB/s\u001b[0m eta \u001b[36m0:00:00\u001b[0m\n",
            "\u001b[?25hRequirement already satisfied: smart-open>=1.8.1 in /usr/local/lib/python3.11/dist-packages (from gensim) (7.1.0)\n",
            "Requirement already satisfied: wrapt in /usr/local/lib/python3.11/dist-packages (from smart-open>=1.8.1->gensim) (1.17.2)\n",
            "Downloading gensim-4.3.3-cp311-cp311-manylinux_2_17_x86_64.manylinux2014_x86_64.whl (26.7 MB)\n",
            "\u001b[2K   \u001b[90m━━━━━━━━━━━━━━━━━━━━━━━━━━━━━━━━━━━━━━━━\u001b[0m \u001b[32m26.7/26.7 MB\u001b[0m \u001b[31m59.4 MB/s\u001b[0m eta \u001b[36m0:00:00\u001b[0m\n",
            "\u001b[?25hDownloading numpy-1.26.4-cp311-cp311-manylinux_2_17_x86_64.manylinux2014_x86_64.whl (18.3 MB)\n",
            "\u001b[2K   \u001b[90m━━━━━━━━━━━━━━━━━━━━━━━━━━━━━━━━━━━━━━━━\u001b[0m \u001b[32m18.3/18.3 MB\u001b[0m \u001b[31m72.4 MB/s\u001b[0m eta \u001b[36m0:00:00\u001b[0m\n",
            "\u001b[?25hDownloading scipy-1.13.1-cp311-cp311-manylinux_2_17_x86_64.manylinux2014_x86_64.whl (38.6 MB)\n",
            "\u001b[2K   \u001b[90m━━━━━━━━━━━━━━━━━━━━━━━━━━━━━━━━━━━━━━━━\u001b[0m \u001b[32m38.6/38.6 MB\u001b[0m \u001b[31m14.6 MB/s\u001b[0m eta \u001b[36m0:00:00\u001b[0m\n",
            "\u001b[?25hInstalling collected packages: numpy, scipy, gensim\n",
            "\u001b[31mERROR: pip's dependency resolver does not currently take into account all the packages that are installed. This behaviour is the source of the following dependency conflicts.\n",
            "cudf-cu12 25.2.1 requires numba<0.61.0a0,>=0.59.1, which is not installed.\n",
            "dask-cuda 25.2.0 requires numba<0.61.0a0,>=0.59.1, which is not installed.\n",
            "pynndescent 0.5.13 requires numba>=0.51.2, which is not installed.\n",
            "chex 0.1.89 requires jax>=0.4.27, which is not installed.\n",
            "chex 0.1.89 requires jaxlib>=0.4.27, which is not installed.\n",
            "shap 0.47.1 requires numba>=0.54, which is not installed.\n",
            "orbax-checkpoint 0.11.10 requires jax>=0.5.0, which is not installed.\n",
            "optax 0.2.4 requires jax>=0.4.27, which is not installed.\n",
            "optax 0.2.4 requires jaxlib>=0.4.27, which is not installed.\n",
            "cuml-cu12 25.2.1 requires numba<0.61.0a0,>=0.59.1, which is not installed.\n",
            "librosa 0.11.0 requires numba>=0.51.0, which is not installed.\n",
            "dopamine-rl 4.1.2 requires jax>=0.1.72, which is not installed.\n",
            "dopamine-rl 4.1.2 requires jaxlib>=0.1.51, which is not installed.\n",
            "dopamine-rl 4.1.2 requires tensorflow>=2.2.0, which is not installed.\n",
            "flax 0.10.5 requires jax>=0.5.1, which is not installed.\n",
            "umap-learn 0.5.7 requires numba>=0.51.2, which is not installed.\n",
            "distributed-ucxx-cu12 0.42.0 requires numba<0.61.0a0,>=0.59.1, which is not installed.\u001b[0m\u001b[31m\n",
            "\u001b[0mSuccessfully installed gensim-4.3.3 numpy-1.26.4 scipy-1.13.1\n"
          ]
        }
      ]
    },
    {
      "cell_type": "code",
      "source": [
        "!pip install --no-cache-dir --upgrade gensim numba jax jaxlib\n"
      ],
      "metadata": {
        "colab": {
          "base_uri": "https://localhost:8080/"
        },
        "id": "o6m_4aZ0ZcAD",
        "outputId": "4ad7e03c-0f7f-4366-9dd9-8ee18aa22b1c"
      },
      "execution_count": null,
      "outputs": [
        {
          "output_type": "stream",
          "name": "stdout",
          "text": [
            "Requirement already satisfied: gensim in /usr/local/lib/python3.11/dist-packages (4.3.3)\n",
            "Collecting numba\n",
            "  Downloading numba-0.61.0-cp311-cp311-manylinux2014_x86_64.manylinux_2_17_x86_64.whl.metadata (2.8 kB)\n",
            "Collecting jax\n",
            "  Downloading jax-0.5.3-py3-none-any.whl.metadata (22 kB)\n",
            "Collecting jaxlib\n",
            "  Downloading jaxlib-0.5.3-cp311-cp311-manylinux2014_x86_64.whl.metadata (1.2 kB)\n",
            "Requirement already satisfied: numpy<2.0,>=1.18.5 in /usr/local/lib/python3.11/dist-packages (from gensim) (1.26.4)\n",
            "Requirement already satisfied: scipy<1.14.0,>=1.7.0 in /usr/local/lib/python3.11/dist-packages (from gensim) (1.13.1)\n",
            "Requirement already satisfied: smart-open>=1.8.1 in /usr/local/lib/python3.11/dist-packages (from gensim) (7.1.0)\n",
            "Collecting llvmlite<0.45,>=0.44.0dev0 (from numba)\n",
            "  Downloading llvmlite-0.44.0-cp311-cp311-manylinux_2_17_x86_64.manylinux2014_x86_64.whl.metadata (4.8 kB)\n",
            "Requirement already satisfied: ml_dtypes>=0.4.0 in /usr/local/lib/python3.11/dist-packages (from jax) (0.4.1)\n",
            "Requirement already satisfied: opt_einsum in /usr/local/lib/python3.11/dist-packages (from jax) (3.4.0)\n",
            "Requirement already satisfied: wrapt in /usr/local/lib/python3.11/dist-packages (from smart-open>=1.8.1->gensim) (1.17.2)\n",
            "Downloading numba-0.61.0-cp311-cp311-manylinux2014_x86_64.manylinux_2_17_x86_64.whl (3.8 MB)\n",
            "\u001b[2K   \u001b[90m━━━━━━━━━━━━━━━━━━━━━━━━━━━━━━━━━━━━━━━━\u001b[0m \u001b[32m3.8/3.8 MB\u001b[0m \u001b[31m61.0 MB/s\u001b[0m eta \u001b[36m0:00:00\u001b[0m\n",
            "\u001b[?25hDownloading jax-0.5.3-py3-none-any.whl (2.4 MB)\n",
            "\u001b[2K   \u001b[90m━━━━━━━━━━━━━━━━━━━━━━━━━━━━━━━━━━━━━━━━\u001b[0m \u001b[32m2.4/2.4 MB\u001b[0m \u001b[31m145.5 MB/s\u001b[0m eta \u001b[36m0:00:00\u001b[0m\n",
            "\u001b[?25hDownloading jaxlib-0.5.3-cp311-cp311-manylinux2014_x86_64.whl (105.1 MB)\n",
            "\u001b[2K   \u001b[90m━━━━━━━━━━━━━━━━━━━━━━━━━━━━━━━━━━━━━━━━\u001b[0m \u001b[32m105.1/105.1 MB\u001b[0m \u001b[31m219.6 MB/s\u001b[0m eta \u001b[36m0:00:00\u001b[0m\n",
            "\u001b[?25hDownloading llvmlite-0.44.0-cp311-cp311-manylinux_2_17_x86_64.manylinux2014_x86_64.whl (42.4 MB)\n",
            "\u001b[2K   \u001b[90m━━━━━━━━━━━━━━━━━━━━━━━━━━━━━━━━━━━━━━━━\u001b[0m \u001b[32m42.4/42.4 MB\u001b[0m \u001b[31m197.5 MB/s\u001b[0m eta \u001b[36m0:00:00\u001b[0m\n",
            "\u001b[?25hInstalling collected packages: llvmlite, numba, jaxlib, jax\n",
            "  Attempting uninstall: llvmlite\n",
            "    Found existing installation: llvmlite 0.43.0\n",
            "    Uninstalling llvmlite-0.43.0:\n",
            "      Successfully uninstalled llvmlite-0.43.0\n",
            "\u001b[31mERROR: pip's dependency resolver does not currently take into account all the packages that are installed. This behaviour is the source of the following dependency conflicts.\n",
            "dopamine-rl 4.1.2 requires tensorflow>=2.2.0, which is not installed.\n",
            "cudf-cu12 25.2.1 requires numba<0.61.0a0,>=0.59.1, but you have numba 0.61.0 which is incompatible.\n",
            "dask-cuda 25.2.0 requires numba<0.61.0a0,>=0.59.1, but you have numba 0.61.0 which is incompatible.\n",
            "cuml-cu12 25.2.1 requires numba<0.61.0a0,>=0.59.1, but you have numba 0.61.0 which is incompatible.\n",
            "distributed-ucxx-cu12 0.42.0 requires numba<0.61.0a0,>=0.59.1, but you have numba 0.61.0 which is incompatible.\u001b[0m\u001b[31m\n",
            "\u001b[0mSuccessfully installed jax-0.5.3 jaxlib-0.5.3 llvmlite-0.44.0 numba-0.61.0\n"
          ]
        }
      ]
    },
    {
      "cell_type": "code",
      "source": [
        "!pip uninstall -y numpy scipy gensim tensorflow numba jax jaxlib pymc scikit-image albumentations imbalanced-learn\n",
        "!pip install numpy==1.26.4 scipy==1.9.3 gensim tensorflow numba jax jaxlib pymc scikit-image albumentations imbalanced-learn --no-cache-dir --force-reinstall"
      ],
      "metadata": {
        "colab": {
          "base_uri": "https://localhost:8080/"
        },
        "id": "PAdzhtNnYykG",
        "outputId": "5e6eb468-ab64-43d0-eecd-584df7219d45"
      },
      "execution_count": null,
      "outputs": [
        {
          "output_type": "stream",
          "name": "stdout",
          "text": [
            "Found existing installation: numpy 2.0.2\n",
            "Uninstalling numpy-2.0.2:\n",
            "  Successfully uninstalled numpy-2.0.2\n",
            "Found existing installation: scipy 1.14.1\n",
            "Uninstalling scipy-1.14.1:\n",
            "  Successfully uninstalled scipy-1.14.1\n",
            "\u001b[33mWARNING: Skipping gensim as it is not installed.\u001b[0m\u001b[33m\n",
            "\u001b[0mFound existing installation: tensorflow 2.18.0\n",
            "Uninstalling tensorflow-2.18.0:\n",
            "  Successfully uninstalled tensorflow-2.18.0\n",
            "Found existing installation: numba 0.60.0\n",
            "Uninstalling numba-0.60.0:\n",
            "  Successfully uninstalled numba-0.60.0\n",
            "Found existing installation: jax 0.5.2\n",
            "Uninstalling jax-0.5.2:\n",
            "  Successfully uninstalled jax-0.5.2\n",
            "Found existing installation: jaxlib 0.5.1\n",
            "Uninstalling jaxlib-0.5.1:\n",
            "  Successfully uninstalled jaxlib-0.5.1\n",
            "Found existing installation: pymc 5.21.1\n",
            "Uninstalling pymc-5.21.1:\n",
            "  Successfully uninstalled pymc-5.21.1\n",
            "Found existing installation: scikit-image 0.25.2\n",
            "Uninstalling scikit-image-0.25.2:\n",
            "  Successfully uninstalled scikit-image-0.25.2\n",
            "Found existing installation: albumentations 2.0.5\n",
            "Uninstalling albumentations-2.0.5:\n",
            "  Successfully uninstalled albumentations-2.0.5\n",
            "Found existing installation: imbalanced-learn 0.13.0\n",
            "Uninstalling imbalanced-learn-0.13.0:\n",
            "  Successfully uninstalled imbalanced-learn-0.13.0\n",
            "Collecting numpy==1.26.4\n",
            "  Downloading numpy-1.26.4-cp311-cp311-manylinux_2_17_x86_64.manylinux2014_x86_64.whl.metadata (61 kB)\n",
            "\u001b[2K     \u001b[90m━━━━━━━━━━━━━━━━━━━━━━━━━━━━━━━━━━━━━━━━\u001b[0m \u001b[32m61.0/61.0 kB\u001b[0m \u001b[31m13.5 MB/s\u001b[0m eta \u001b[36m0:00:00\u001b[0m\n",
            "\u001b[?25hCollecting scipy==1.9.3\n",
            "  Downloading scipy-1.9.3-cp311-cp311-manylinux_2_17_x86_64.manylinux2014_x86_64.whl.metadata (58 kB)\n",
            "\u001b[2K     \u001b[90m━━━━━━━━━━━━━━━━━━━━━━━━━━━━━━━━━━━━━━━━\u001b[0m \u001b[32m58.4/58.4 kB\u001b[0m \u001b[31m78.0 MB/s\u001b[0m eta \u001b[36m0:00:00\u001b[0m\n",
            "\u001b[?25hCollecting gensim\n",
            "  Downloading gensim-4.3.3-cp311-cp311-manylinux_2_17_x86_64.manylinux2014_x86_64.whl.metadata (8.1 kB)\n",
            "Collecting tensorflow\n",
            "  Downloading tensorflow-2.19.0-cp311-cp311-manylinux_2_17_x86_64.manylinux2014_x86_64.whl.metadata (4.1 kB)\n",
            "Collecting numba\n",
            "  Downloading numba-0.61.0-cp311-cp311-manylinux2014_x86_64.manylinux_2_17_x86_64.whl.metadata (2.8 kB)\n",
            "Collecting jax\n",
            "  Downloading jax-0.5.3-py3-none-any.whl.metadata (22 kB)\n",
            "Collecting jaxlib\n",
            "  Downloading jaxlib-0.5.3-cp311-cp311-manylinux2014_x86_64.whl.metadata (1.2 kB)\n",
            "Collecting pymc\n",
            "  Downloading pymc-5.22.0-py3-none-any.whl.metadata (16 kB)\n",
            "Collecting scikit-image\n",
            "  Downloading scikit_image-0.25.2-cp311-cp311-manylinux_2_17_x86_64.manylinux2014_x86_64.whl.metadata (14 kB)\n",
            "Collecting albumentations\n",
            "  Downloading albumentations-2.0.5-py3-none-any.whl.metadata (41 kB)\n",
            "\u001b[2K     \u001b[90m━━━━━━━━━━━━━━━━━━━━━━━━━━━━━━━━━━━━━━━━\u001b[0m \u001b[32m41.7/41.7 kB\u001b[0m \u001b[31m121.5 MB/s\u001b[0m eta \u001b[36m0:00:00\u001b[0m\n",
            "\u001b[?25hCollecting imbalanced-learn\n",
            "  Downloading imbalanced_learn-0.13.0-py3-none-any.whl.metadata (8.8 kB)\n",
            "INFO: pip is looking at multiple versions of scipy to determine which version is compatible with other requirements. This could take a while.\n",
            "\u001b[31mERROR: Cannot install numpy==1.26.4 and scipy==1.9.3 because these package versions have conflicting dependencies.\u001b[0m\u001b[31m\n",
            "\u001b[0m\n",
            "The conflict is caused by:\n",
            "    The user requested numpy==1.26.4\n",
            "    scipy 1.9.3 depends on numpy<1.26.0 and >=1.18.5\n",
            "\n",
            "To fix this you could try to:\n",
            "1. loosen the range of package versions you've specified\n",
            "2. remove package versions to allow pip to attempt to solve the dependency conflict\n",
            "\n",
            "\u001b[31mERROR: ResolutionImpossible: for help visit https://pip.pypa.io/en/latest/topics/dependency-resolution/#dealing-with-dependency-conflicts\u001b[0m\u001b[31m\n",
            "\u001b[0m"
          ]
        }
      ]
    },
    {
      "cell_type": "code",
      "source": [
        "from sklearn.feature_extraction.text import CountVectorizer, TfidfVectorizer\n",
        "import gensim\n",
        "\n",
        "# Bag of Words (BoW)\n",
        "bow_vectorizer = CountVectorizer(max_features=5000)\n",
        "X_train_bow = bow_vectorizer.fit_transform(train_data['processed_text']).toarray()\n",
        "X_val_bow = bow_vectorizer.transform(val_data['processed_text']).toarray()\n",
        "X_test_bow = bow_vectorizer.transform(test_data['processed_text']).toarray()\n",
        "\n",
        "# TF-IDF\n",
        "tfidf_vectorizer = TfidfVectorizer(max_features=5000)\n",
        "X_train_tfidf = tfidf_vectorizer.fit_transform(train_data['processed_text']).toarray()\n",
        "X_val_tfidf = tfidf_vectorizer.transform(val_data['processed_text']).toarray()\n",
        "X_test_tfidf = tfidf_vectorizer.transform(test_data['processed_text']).toarray()\n",
        "\n",
        "# FastText (Word Embeddings)\n",
        "# Convert processed text into a list of tokenized sentences for FastText training\n",
        "tokenized_sentences = train_data['processed_text'].apply(str.split).tolist()\n",
        "\n",
        "# Train FastText model\n",
        "fasttext_model = gensim.models.FastText(tokenized_sentences, vector_size=100, window=5, min_count=5)\n",
        "\n",
        "# Generate FastText embeddings for train, validation, and test data\n",
        "X_train_fasttext = [fasttext_model.wv[text.split()] for text in train_data['processed_text']]\n",
        "X_val_fasttext = [fasttext_model.wv[text.split()] for text in val_data['processed_text']]\n",
        "X_test_fasttext = [fasttext_model.wv[text.split()] for text in test_data['processed_text']]\n",
        "\n",
        "print(\"Embedding completed for BoW, TF-IDF, and FastText.\")"
      ],
      "metadata": {
        "id": "2wS-ZrBACZDF",
        "colab": {
          "base_uri": "https://localhost:8080/"
        },
        "outputId": "6f9f1ec7-d222-45db-c66a-1b47c8ed4ebe"
      },
      "execution_count": null,
      "outputs": [
        {
          "output_type": "stream",
          "name": "stdout",
          "text": [
            "Embedding completed for BoW, TF-IDF, and FastText.\n"
          ]
        }
      ]
    },
    {
      "cell_type": "markdown",
      "source": [
        "# **4. Model Training with Different Architectures**"
      ],
      "metadata": {
        "id": "z_oyqUK7Cl-1"
      }
    },
    {
      "cell_type": "code",
      "source": [
        "!pip install --upgrade tensorflow\n"
      ],
      "metadata": {
        "colab": {
          "base_uri": "https://localhost:8080/"
        },
        "id": "nfaD7yLxaEUj",
        "outputId": "aeaed2fd-d933-4afc-95ce-d8d9f38a939f"
      },
      "execution_count": null,
      "outputs": [
        {
          "output_type": "stream",
          "name": "stdout",
          "text": [
            "Collecting tensorflow\n",
            "  Downloading tensorflow-2.19.0-cp311-cp311-manylinux_2_17_x86_64.manylinux2014_x86_64.whl.metadata (4.1 kB)\n",
            "Requirement already satisfied: absl-py>=1.0.0 in /usr/local/lib/python3.11/dist-packages (from tensorflow) (1.4.0)\n",
            "Requirement already satisfied: astunparse>=1.6.0 in /usr/local/lib/python3.11/dist-packages (from tensorflow) (1.6.3)\n",
            "Requirement already satisfied: flatbuffers>=24.3.25 in /usr/local/lib/python3.11/dist-packages (from tensorflow) (25.2.10)\n",
            "Requirement already satisfied: gast!=0.5.0,!=0.5.1,!=0.5.2,>=0.2.1 in /usr/local/lib/python3.11/dist-packages (from tensorflow) (0.6.0)\n",
            "Requirement already satisfied: google-pasta>=0.1.1 in /usr/local/lib/python3.11/dist-packages (from tensorflow) (0.2.0)\n",
            "Requirement already satisfied: libclang>=13.0.0 in /usr/local/lib/python3.11/dist-packages (from tensorflow) (18.1.1)\n",
            "Requirement already satisfied: opt-einsum>=2.3.2 in /usr/local/lib/python3.11/dist-packages (from tensorflow) (3.4.0)\n",
            "Requirement already satisfied: packaging in /usr/local/lib/python3.11/dist-packages (from tensorflow) (24.2)\n",
            "Requirement already satisfied: protobuf!=4.21.0,!=4.21.1,!=4.21.2,!=4.21.3,!=4.21.4,!=4.21.5,<6.0.0dev,>=3.20.3 in /usr/local/lib/python3.11/dist-packages (from tensorflow) (5.29.4)\n",
            "Requirement already satisfied: requests<3,>=2.21.0 in /usr/local/lib/python3.11/dist-packages (from tensorflow) (2.32.3)\n",
            "Requirement already satisfied: setuptools in /usr/local/lib/python3.11/dist-packages (from tensorflow) (75.2.0)\n",
            "Requirement already satisfied: six>=1.12.0 in /usr/local/lib/python3.11/dist-packages (from tensorflow) (1.17.0)\n",
            "Requirement already satisfied: termcolor>=1.1.0 in /usr/local/lib/python3.11/dist-packages (from tensorflow) (3.0.0)\n",
            "Requirement already satisfied: typing-extensions>=3.6.6 in /usr/local/lib/python3.11/dist-packages (from tensorflow) (4.13.0)\n",
            "Requirement already satisfied: wrapt>=1.11.0 in /usr/local/lib/python3.11/dist-packages (from tensorflow) (1.17.2)\n",
            "Requirement already satisfied: grpcio<2.0,>=1.24.3 in /usr/local/lib/python3.11/dist-packages (from tensorflow) (1.71.0)\n",
            "Collecting tensorboard~=2.19.0 (from tensorflow)\n",
            "  Downloading tensorboard-2.19.0-py3-none-any.whl.metadata (1.8 kB)\n",
            "Requirement already satisfied: keras>=3.5.0 in /usr/local/lib/python3.11/dist-packages (from tensorflow) (3.8.0)\n",
            "Requirement already satisfied: numpy<2.2.0,>=1.26.0 in /usr/local/lib/python3.11/dist-packages (from tensorflow) (1.26.4)\n",
            "Requirement already satisfied: h5py>=3.11.0 in /usr/local/lib/python3.11/dist-packages (from tensorflow) (3.13.0)\n",
            "Collecting ml-dtypes<1.0.0,>=0.5.1 (from tensorflow)\n",
            "  Downloading ml_dtypes-0.5.1-cp311-cp311-manylinux_2_17_x86_64.manylinux2014_x86_64.whl.metadata (21 kB)\n",
            "Requirement already satisfied: tensorflow-io-gcs-filesystem>=0.23.1 in /usr/local/lib/python3.11/dist-packages (from tensorflow) (0.37.1)\n",
            "Requirement already satisfied: wheel<1.0,>=0.23.0 in /usr/local/lib/python3.11/dist-packages (from astunparse>=1.6.0->tensorflow) (0.45.1)\n",
            "Requirement already satisfied: rich in /usr/local/lib/python3.11/dist-packages (from keras>=3.5.0->tensorflow) (13.9.4)\n",
            "Requirement already satisfied: namex in /usr/local/lib/python3.11/dist-packages (from keras>=3.5.0->tensorflow) (0.0.8)\n",
            "Requirement already satisfied: optree in /usr/local/lib/python3.11/dist-packages (from keras>=3.5.0->tensorflow) (0.14.1)\n",
            "Requirement already satisfied: charset-normalizer<4,>=2 in /usr/local/lib/python3.11/dist-packages (from requests<3,>=2.21.0->tensorflow) (3.4.1)\n",
            "Requirement already satisfied: idna<4,>=2.5 in /usr/local/lib/python3.11/dist-packages (from requests<3,>=2.21.0->tensorflow) (3.10)\n",
            "Requirement already satisfied: urllib3<3,>=1.21.1 in /usr/local/lib/python3.11/dist-packages (from requests<3,>=2.21.0->tensorflow) (2.3.0)\n",
            "Requirement already satisfied: certifi>=2017.4.17 in /usr/local/lib/python3.11/dist-packages (from requests<3,>=2.21.0->tensorflow) (2025.1.31)\n",
            "Requirement already satisfied: markdown>=2.6.8 in /usr/local/lib/python3.11/dist-packages (from tensorboard~=2.19.0->tensorflow) (3.7)\n",
            "Requirement already satisfied: tensorboard-data-server<0.8.0,>=0.7.0 in /usr/local/lib/python3.11/dist-packages (from tensorboard~=2.19.0->tensorflow) (0.7.2)\n",
            "Requirement already satisfied: werkzeug>=1.0.1 in /usr/local/lib/python3.11/dist-packages (from tensorboard~=2.19.0->tensorflow) (3.1.3)\n",
            "Requirement already satisfied: MarkupSafe>=2.1.1 in /usr/local/lib/python3.11/dist-packages (from werkzeug>=1.0.1->tensorboard~=2.19.0->tensorflow) (3.0.2)\n",
            "Requirement already satisfied: markdown-it-py>=2.2.0 in /usr/local/lib/python3.11/dist-packages (from rich->keras>=3.5.0->tensorflow) (3.0.0)\n",
            "Requirement already satisfied: pygments<3.0.0,>=2.13.0 in /usr/local/lib/python3.11/dist-packages (from rich->keras>=3.5.0->tensorflow) (2.18.0)\n",
            "Requirement already satisfied: mdurl~=0.1 in /usr/local/lib/python3.11/dist-packages (from markdown-it-py>=2.2.0->rich->keras>=3.5.0->tensorflow) (0.1.2)\n",
            "Downloading tensorflow-2.19.0-cp311-cp311-manylinux_2_17_x86_64.manylinux2014_x86_64.whl (644.9 MB)\n",
            "\u001b[2K   \u001b[90m━━━━━━━━━━━━━━━━━━━━━━━━━━━━━━━━━━━━━━━━\u001b[0m \u001b[32m644.9/644.9 MB\u001b[0m \u001b[31m1.4 MB/s\u001b[0m eta \u001b[36m0:00:00\u001b[0m\n",
            "\u001b[?25hDownloading ml_dtypes-0.5.1-cp311-cp311-manylinux_2_17_x86_64.manylinux2014_x86_64.whl (4.7 MB)\n",
            "\u001b[2K   \u001b[90m━━━━━━━━━━━━━━━━━━━━━━━━━━━━━━━━━━━━━━━━\u001b[0m \u001b[32m4.7/4.7 MB\u001b[0m \u001b[31m81.3 MB/s\u001b[0m eta \u001b[36m0:00:00\u001b[0m\n",
            "\u001b[?25hDownloading tensorboard-2.19.0-py3-none-any.whl (5.5 MB)\n",
            "\u001b[2K   \u001b[90m━━━━━━━━━━━━━━━━━━━━━━━━━━━━━━━━━━━━━━━━\u001b[0m \u001b[32m5.5/5.5 MB\u001b[0m \u001b[31m77.3 MB/s\u001b[0m eta \u001b[36m0:00:00\u001b[0m\n",
            "\u001b[?25hInstalling collected packages: ml-dtypes, tensorboard, tensorflow\n",
            "  Attempting uninstall: ml-dtypes\n",
            "    Found existing installation: ml-dtypes 0.4.1\n",
            "    Uninstalling ml-dtypes-0.4.1:\n",
            "      Successfully uninstalled ml-dtypes-0.4.1\n",
            "  Attempting uninstall: tensorboard\n",
            "    Found existing installation: tensorboard 2.18.0\n",
            "    Uninstalling tensorboard-2.18.0:\n",
            "      Successfully uninstalled tensorboard-2.18.0\n",
            "\u001b[31mERROR: pip's dependency resolver does not currently take into account all the packages that are installed. This behaviour is the source of the following dependency conflicts.\n",
            "tensorflow-text 2.18.1 requires tensorflow<2.19,>=2.18.0, but you have tensorflow 2.19.0 which is incompatible.\n",
            "tf-keras 2.18.0 requires tensorflow<2.19,>=2.18, but you have tensorflow 2.19.0 which is incompatible.\u001b[0m\u001b[31m\n",
            "\u001b[0mSuccessfully installed ml-dtypes-0.5.1 tensorboard-2.19.0 tensorflow-2.19.0\n"
          ]
        }
      ]
    },
    {
      "cell_type": "code",
      "source": [
        "from keras.models import Sequential\n",
        "from keras.layers import Dense, Conv1D, MaxPooling1D, LSTM, Bidirectional, Embedding, Flatten\n",
        "import numpy as np\n",
        "\n",
        "# Define a CNN model\n",
        "def cnn_model(input_dim, model_name):\n",
        "    print(f\"Training {model_name}...\")\n",
        "    model = Sequential()\n",
        "    model.add(Embedding(input_dim, 128, input_length=input_dim))\n",
        "    model.add(Conv1D(filters=64, kernel_size=5, activation='relu'))\n",
        "    model.add(MaxPooling1D(pool_size=2))\n",
        "    model.add(Flatten())\n",
        "    model.add(Dense(100, activation='relu'))\n",
        "    model.add(Dense(len(train_data['Sentiment'].unique()), activation='softmax'))  # Multi-class classification\n",
        "    model.compile(optimizer='adam', loss='sparse_categorical_crossentropy', metrics=['accuracy'])\n",
        "    return model\n",
        "\n",
        "# Define an LSTM model\n",
        "def lstm_model(input_dim, model_name):\n",
        "    print(f\"Training {model_name}...\")\n",
        "    model = Sequential()\n",
        "    model.add(Embedding(input_dim, 128, input_length=input_dim))\n",
        "    model.add(LSTM(100, dropout=0.2, recurrent_dropout=0.2))\n",
        "    model.add(Dense(len(train_data['Sentiment'].unique()), activation='softmax'))  # Multi-class classification\n",
        "    model.compile(optimizer='adam', loss='sparse_categorical_crossentropy', metrics=['accuracy'])\n",
        "    return model\n",
        "\n",
        "# Define a BiLSTM model\n",
        "def bilstm_model(input_dim, model_name):\n",
        "    print(f\"Training {model_name}...\")\n",
        "    model = Sequential()\n",
        "    model.add(Embedding(input_dim, 128, input_length=input_dim))\n",
        "    model.add(Bidirectional(LSTM(100, dropout=0.2, recurrent_dropout=0.2)))\n",
        "    model.add(Dense(len(train_data['Sentiment'].unique()), activation='softmax'))  # Multi-class classification\n",
        "    model.compile(optimizer='adam', loss='sparse_categorical_crossentropy', metrics=['accuracy'])\n",
        "    return model\n",
        "\n",
        "# Define a CNN-BiLSTM model\n",
        "def cnn_bilstm_model(input_dim, model_name):\n",
        "    print(f\"Training {model_name}...\")\n",
        "    model = Sequential()\n",
        "    model.add(Embedding(input_dim, 128, input_length=input_dim))\n",
        "    model.add(Conv1D(filters=64, kernel_size=5, activation='relu'))\n",
        "    model.add(MaxPooling1D(pool_size=2))\n",
        "    model.add(Bidirectional(LSTM(100, dropout=0.2, recurrent_dropout=0.2)))\n",
        "    model.add(Dense(len(train_data['Sentiment'].unique()), activation='softmax'))  # Multi-class classification\n",
        "    model.compile(optimizer='adam', loss='sparse_categorical_crossentropy', metrics=['accuracy'])\n",
        "    return model\n",
        "\n",
        "# Convert labels to integers for multi-class classification\n",
        "from sklearn.preprocessing import LabelEncoder\n",
        "\n",
        "label_encoder = LabelEncoder()\n",
        "train_labels = label_encoder.fit_transform(train_data['Sentiment'])\n",
        "val_labels = label_encoder.transform(val_data['Sentiment'])\n",
        "test_labels = label_encoder.transform(test_data['Sentiment'])\n",
        "\n",
        "# Train models with BoW embeddings\n",
        "input_dim_bow = X_train_bow.shape[1]\n",
        "cnn_bow = cnn_model(input_dim_bow, \"CNN with BoW\")\n",
        "cnn_bow.fit(X_train_bow, train_labels, validation_data=(X_val_bow, val_labels), epochs=5, batch_size=64)\n",
        "\n",
        "lstm_bow = lstm_model(input_dim_bow, \"LSTM with BoW\")\n",
        "lstm_bow.fit(X_train_bow, train_labels, validation_data=(X_val_bow, val_labels), epochs=5, batch_size=64)\n",
        "\n",
        "bilstm_bow = bilstm_model(input_dim_bow, \"BiLSTM with BoW\")\n",
        "bilstm_bow.fit(X_train_bow, train_labels, validation_data=(X_val_bow, val_labels), epochs=5, batch_size=64)\n",
        "\n",
        "cnn_bilstm_bow = cnn_bilstm_model(input_dim_bow, \"CNN-BiLSTM with BoW\")\n",
        "cnn_bilstm_bow.fit(X_train_bow, train_labels, validation_data=(X_val_bow, val_labels), epochs=5, batch_size=64)\n",
        "\n",
        "# Train models with TF-IDF embeddings\n",
        "input_dim_tfidf = X_train_tfidf.shape[1]\n",
        "cnn_tfidf = cnn_model(input_dim_tfidf, \"CNN with TF-IDF\")\n",
        "cnn_tfidf.fit(X_train_tfidf, train_labels, validation_data=(X_val_tfidf, val_labels), epochs=5, batch_size=64)\n",
        "\n",
        "lstm_tfidf = lstm_model(input_dim_tfidf, \"LSTM with TF-IDF\")\n",
        "lstm_tfidf.fit(X_train_tfidf, train_labels, validation_data=(X_val_tfidf, val_labels), epochs=5, batch_size=64)\n",
        "\n",
        "bilstm_tfidf = bilstm_model(input_dim_tfidf, \"BiLSTM with TF-IDF\")\n",
        "bilstm_tfidf.fit(X_train_tfidf, train_labels, validation_data=(X_val_tfidf, val_labels), epochs=5, batch_size=64)\n",
        "\n",
        "cnn_bilstm_tfidf = cnn_bilstm_model(input_dim_tfidf, \"CNN-BiLSTM with TF-IDF\")\n",
        "cnn_bilstm_tfidf.fit(X_train_tfidf, train_labels, validation_data=(X_val_tfidf, val_labels), epochs=5, batch_size=64)\n",
        "\n",
        "print(\"All models trained successfully!\")"
      ],
      "metadata": {
        "colab": {
          "base_uri": "https://localhost:8080/"
        },
        "id": "ZbW4OGE_ZlFw",
        "outputId": "93395649-fcea-413a-f31c-c46240fa10fe"
      },
      "execution_count": null,
      "outputs": [
        {
          "output_type": "stream",
          "name": "stderr",
          "text": [
            "/usr/local/lib/python3.11/dist-packages/jaxlib/plugin_support.py:71: RuntimeWarning: JAX plugin jax_cuda12_plugin version 0.5.1 is installed, but it is not compatible with the installed jaxlib version 0.5.3, so it will not be used.\n",
            "  warnings.warn(\n"
          ]
        },
        {
          "output_type": "stream",
          "name": "stdout",
          "text": [
            "Training CNN with BoW...\n"
          ]
        },
        {
          "output_type": "stream",
          "name": "stderr",
          "text": [
            "/usr/local/lib/python3.11/dist-packages/keras/src/layers/core/embedding.py:90: UserWarning: Argument `input_length` is deprecated. Just remove it.\n",
            "  warnings.warn(\n"
          ]
        },
        {
          "output_type": "stream",
          "name": "stdout",
          "text": [
            "Epoch 1/5\n",
            "\u001b[1m21/21\u001b[0m \u001b[32m━━━━━━━━━━━━━━━━━━━━\u001b[0m\u001b[37m\u001b[0m \u001b[1m23s\u001b[0m 758ms/step - accuracy: 0.4159 - loss: 1.1225 - val_accuracy: 0.7639 - val_loss: 0.6269\n",
            "Epoch 2/5\n",
            "\u001b[1m21/21\u001b[0m \u001b[32m━━━━━━━━━━━━━━━━━━━━\u001b[0m\u001b[37m\u001b[0m \u001b[1m21s\u001b[0m 978ms/step - accuracy: 0.9442 - loss: 0.2384 - val_accuracy: 1.0000 - val_loss: 0.0076\n",
            "Epoch 3/5\n",
            "\u001b[1m21/21\u001b[0m \u001b[32m━━━━━━━━━━━━━━━━━━━━\u001b[0m\u001b[37m\u001b[0m \u001b[1m32s\u001b[0m 544ms/step - accuracy: 1.0000 - loss: 0.0011 - val_accuracy: 1.0000 - val_loss: 0.0016\n",
            "Epoch 4/5\n",
            "\u001b[1m21/21\u001b[0m \u001b[32m━━━━━━━━━━━━━━━━━━━━\u001b[0m\u001b[37m\u001b[0m \u001b[1m21s\u001b[0m 584ms/step - accuracy: 1.0000 - loss: 2.6919e-04 - val_accuracy: 1.0000 - val_loss: 0.0010\n",
            "Epoch 5/5\n",
            "\u001b[1m21/21\u001b[0m \u001b[32m━━━━━━━━━━━━━━━━━━━━\u001b[0m\u001b[37m\u001b[0m \u001b[1m11s\u001b[0m 551ms/step - accuracy: 1.0000 - loss: 4.0086e-05 - val_accuracy: 1.0000 - val_loss: 9.8964e-04\n",
            "Training LSTM with BoW...\n",
            "Epoch 1/5\n",
            "\u001b[1m21/21\u001b[0m \u001b[32m━━━━━━━━━━━━━━━━━━━━\u001b[0m\u001b[37m\u001b[0m \u001b[1m70s\u001b[0m 3s/step - accuracy: 0.3521 - loss: 1.1022 - val_accuracy: 0.3333 - val_loss: 1.0988\n",
            "Epoch 2/5\n",
            "\u001b[1m21/21\u001b[0m \u001b[32m━━━━━━━━━━━━━━━━━━━━\u001b[0m\u001b[37m\u001b[0m \u001b[1m65s\u001b[0m 3s/step - accuracy: 0.3154 - loss: 1.1000 - val_accuracy: 0.3194 - val_loss: 1.1006\n",
            "Epoch 3/5\n",
            "\u001b[1m21/21\u001b[0m \u001b[32m━━━━━━━━━━━━━━━━━━━━\u001b[0m\u001b[37m\u001b[0m \u001b[1m64s\u001b[0m 3s/step - accuracy: 0.3492 - loss: 1.0983 - val_accuracy: 0.3542 - val_loss: 1.0979\n",
            "Epoch 4/5\n",
            "\u001b[1m21/21\u001b[0m \u001b[32m━━━━━━━━━━━━━━━━━━━━\u001b[0m\u001b[37m\u001b[0m \u001b[1m81s\u001b[0m 3s/step - accuracy: 0.3465 - loss: 1.0976 - val_accuracy: 0.3264 - val_loss: 1.0970\n",
            "Epoch 5/5\n",
            "\u001b[1m21/21\u001b[0m \u001b[32m━━━━━━━━━━━━━━━━━━━━\u001b[0m\u001b[37m\u001b[0m \u001b[1m64s\u001b[0m 3s/step - accuracy: 0.3584 - loss: 1.0970 - val_accuracy: 0.3264 - val_loss: 1.0949\n",
            "Training BiLSTM with BoW...\n",
            "Epoch 1/5\n",
            "\u001b[1m21/21\u001b[0m \u001b[32m━━━━━━━━━━━━━━━━━━━━\u001b[0m\u001b[37m\u001b[0m \u001b[1m141s\u001b[0m 6s/step - accuracy: 0.3500 - loss: 1.1007 - val_accuracy: 0.3194 - val_loss: 1.1088\n",
            "Epoch 2/5\n",
            "\u001b[1m21/21\u001b[0m \u001b[32m━━━━━━━━━━━━━━━━━━━━\u001b[0m\u001b[37m\u001b[0m \u001b[1m131s\u001b[0m 6s/step - accuracy: 0.3301 - loss: 1.1022 - val_accuracy: 0.3472 - val_loss: 1.0983\n",
            "Epoch 3/5\n",
            "\u001b[1m21/21\u001b[0m \u001b[32m━━━━━━━━━━━━━━━━━━━━\u001b[0m\u001b[37m\u001b[0m \u001b[1m131s\u001b[0m 6s/step - accuracy: 0.3237 - loss: 1.0985 - val_accuracy: 0.4028 - val_loss: 1.0982\n",
            "Epoch 4/5\n",
            "\u001b[1m21/21\u001b[0m \u001b[32m━━━━━━━━━━━━━━━━━━━━\u001b[0m\u001b[37m\u001b[0m \u001b[1m126s\u001b[0m 6s/step - accuracy: 0.3573 - loss: 1.0991 - val_accuracy: 0.3472 - val_loss: 1.0970\n",
            "Epoch 5/5\n",
            "\u001b[1m21/21\u001b[0m \u001b[32m━━━━━━━━━━━━━━━━━━━━\u001b[0m\u001b[37m\u001b[0m \u001b[1m123s\u001b[0m 6s/step - accuracy: 0.3704 - loss: 1.0945 - val_accuracy: 0.4653 - val_loss: 1.0846\n",
            "Training CNN-BiLSTM with BoW...\n",
            "Epoch 1/5\n",
            "\u001b[1m21/21\u001b[0m \u001b[32m━━━━━━━━━━━━━━━━━━━━\u001b[0m\u001b[37m\u001b[0m \u001b[1m78s\u001b[0m 3s/step - accuracy: 0.3443 - loss: 1.1005 - val_accuracy: 0.3056 - val_loss: 1.0981\n",
            "Epoch 2/5\n",
            "\u001b[1m21/21\u001b[0m \u001b[32m━━━━━━━━━━━━━━━━━━━━\u001b[0m\u001b[37m\u001b[0m \u001b[1m62s\u001b[0m 3s/step - accuracy: 0.3561 - loss: 1.0954 - val_accuracy: 0.4514 - val_loss: 1.0824\n",
            "Epoch 3/5\n",
            "\u001b[1m21/21\u001b[0m \u001b[32m━━━━━━━━━━━━━━━━━━━━\u001b[0m\u001b[37m\u001b[0m \u001b[1m79s\u001b[0m 3s/step - accuracy: 0.4624 - loss: 1.0523 - val_accuracy: 0.4514 - val_loss: 1.0496\n",
            "Epoch 4/5\n",
            "\u001b[1m21/21\u001b[0m \u001b[32m━━━━━━━━━━━━━━━━━━━━\u001b[0m\u001b[37m\u001b[0m \u001b[1m61s\u001b[0m 3s/step - accuracy: 0.5195 - loss: 0.9898 - val_accuracy: 0.5069 - val_loss: 1.0302\n",
            "Epoch 5/5\n",
            "\u001b[1m21/21\u001b[0m \u001b[32m━━━━━━━━━━━━━━━━━━━━\u001b[0m\u001b[37m\u001b[0m \u001b[1m82s\u001b[0m 3s/step - accuracy: 0.5097 - loss: 0.9596 - val_accuracy: 0.5000 - val_loss: 0.9918\n",
            "Training CNN with TF-IDF...\n",
            "Epoch 1/5\n",
            "\u001b[1m21/21\u001b[0m \u001b[32m━━━━━━━━━━━━━━━━━━━━\u001b[0m\u001b[37m\u001b[0m \u001b[1m14s\u001b[0m 565ms/step - accuracy: 0.3514 - loss: 1.2437 - val_accuracy: 0.3194 - val_loss: 1.0997\n",
            "Epoch 2/5\n",
            "\u001b[1m21/21\u001b[0m \u001b[32m━━━━━━━━━━━━━━━━━━━━\u001b[0m\u001b[37m\u001b[0m \u001b[1m19s\u001b[0m 511ms/step - accuracy: 0.3342 - loss: 1.1024 - val_accuracy: 0.3194 - val_loss: 1.0988\n",
            "Epoch 3/5\n",
            "\u001b[1m21/21\u001b[0m \u001b[32m━━━━━━━━━━━━━━━━━━━━\u001b[0m\u001b[37m\u001b[0m \u001b[1m21s\u001b[0m 537ms/step - accuracy: 0.3268 - loss: 1.0987 - val_accuracy: 0.3194 - val_loss: 1.0987\n",
            "Epoch 4/5\n",
            "\u001b[1m21/21\u001b[0m \u001b[32m━━━━━━━━━━━━━━━━━━━━\u001b[0m\u001b[37m\u001b[0m \u001b[1m11s\u001b[0m 545ms/step - accuracy: 0.3210 - loss: 1.0987 - val_accuracy: 0.3194 - val_loss: 1.0988\n",
            "Epoch 5/5\n",
            "\u001b[1m21/21\u001b[0m \u001b[32m━━━━━━━━━━━━━━━━━━━━\u001b[0m\u001b[37m\u001b[0m \u001b[1m10s\u001b[0m 498ms/step - accuracy: 0.3518 - loss: 1.0983 - val_accuracy: 0.3194 - val_loss: 1.0990\n",
            "Training LSTM with TF-IDF...\n",
            "Epoch 1/5\n",
            "\u001b[1m21/21\u001b[0m \u001b[32m━━━━━━━━━━━━━━━━━━━━\u001b[0m\u001b[37m\u001b[0m \u001b[1m67s\u001b[0m 3s/step - accuracy: 0.2988 - loss: 1.1015 - val_accuracy: 0.3333 - val_loss: 1.0985\n",
            "Epoch 2/5\n",
            "\u001b[1m21/21\u001b[0m \u001b[32m━━━━━━━━━━━━━━━━━━━━\u001b[0m\u001b[37m\u001b[0m \u001b[1m81s\u001b[0m 3s/step - accuracy: 0.3292 - loss: 1.1010 - val_accuracy: 0.3194 - val_loss: 1.1001\n",
            "Epoch 3/5\n",
            "\u001b[1m21/21\u001b[0m \u001b[32m━━━━━━━━━━━━━━━━━━━━\u001b[0m\u001b[37m\u001b[0m \u001b[1m84s\u001b[0m 3s/step - accuracy: 0.3529 - loss: 1.0991 - val_accuracy: 0.3333 - val_loss: 1.0983\n",
            "Epoch 4/5\n",
            "\u001b[1m21/21\u001b[0m \u001b[32m━━━━━━━━━━━━━━━━━━━━\u001b[0m\u001b[37m\u001b[0m \u001b[1m65s\u001b[0m 3s/step - accuracy: 0.3512 - loss: 1.0983 - val_accuracy: 0.3472 - val_loss: 1.0993\n",
            "Epoch 5/5\n",
            "\u001b[1m21/21\u001b[0m \u001b[32m━━━━━━━━━━━━━━━━━━━━\u001b[0m\u001b[37m\u001b[0m \u001b[1m78s\u001b[0m 3s/step - accuracy: 0.3409 - loss: 1.0982 - val_accuracy: 0.3194 - val_loss: 1.0992\n",
            "Training BiLSTM with TF-IDF...\n",
            "Epoch 1/5\n",
            "\u001b[1m21/21\u001b[0m \u001b[32m━━━━━━━━━━━━━━━━━━━━\u001b[0m\u001b[37m\u001b[0m \u001b[1m147s\u001b[0m 6s/step - accuracy: 0.3257 - loss: 1.1033 - val_accuracy: 0.3194 - val_loss: 1.1032\n",
            "Epoch 2/5\n",
            "\u001b[1m21/21\u001b[0m \u001b[32m━━━━━━━━━━━━━━━━━━━━\u001b[0m\u001b[37m\u001b[0m \u001b[1m131s\u001b[0m 6s/step - accuracy: 0.3398 - loss: 1.1031 - val_accuracy: 0.3333 - val_loss: 1.0996\n",
            "Epoch 3/5\n",
            "\u001b[1m21/21\u001b[0m \u001b[32m━━━━━━━━━━━━━━━━━━━━\u001b[0m\u001b[37m\u001b[0m \u001b[1m137s\u001b[0m 6s/step - accuracy: 0.3136 - loss: 1.0996 - val_accuracy: 0.3472 - val_loss: 1.0984\n",
            "Epoch 4/5\n",
            "\u001b[1m21/21\u001b[0m \u001b[32m━━━━━━━━━━━━━━━━━━━━\u001b[0m\u001b[37m\u001b[0m \u001b[1m149s\u001b[0m 6s/step - accuracy: 0.3567 - loss: 1.0985 - val_accuracy: 0.3194 - val_loss: 1.0998\n",
            "Epoch 5/5\n",
            "\u001b[1m21/21\u001b[0m \u001b[32m━━━━━━━━━━━━━━━━━━━━\u001b[0m\u001b[37m\u001b[0m \u001b[1m127s\u001b[0m 6s/step - accuracy: 0.2985 - loss: 1.1003 - val_accuracy: 0.3472 - val_loss: 1.0985\n",
            "Training CNN-BiLSTM with TF-IDF...\n",
            "Epoch 1/5\n",
            "\u001b[1m21/21\u001b[0m \u001b[32m━━━━━━━━━━━━━━━━━━━━\u001b[0m\u001b[37m\u001b[0m \u001b[1m83s\u001b[0m 3s/step - accuracy: 0.3056 - loss: 1.1022 - val_accuracy: 0.3333 - val_loss: 1.0995\n",
            "Epoch 2/5\n",
            "\u001b[1m21/21\u001b[0m \u001b[32m━━━━━━━━━━━━━━━━━━━━\u001b[0m\u001b[37m\u001b[0m \u001b[1m62s\u001b[0m 3s/step - accuracy: 0.3322 - loss: 1.0999 - val_accuracy: 0.3194 - val_loss: 1.1000\n",
            "Epoch 3/5\n",
            "\u001b[1m21/21\u001b[0m \u001b[32m━━━━━━━━━━━━━━━━━━━━\u001b[0m\u001b[37m\u001b[0m \u001b[1m82s\u001b[0m 3s/step - accuracy: 0.3578 - loss: 1.0985 - val_accuracy: 0.3472 - val_loss: 1.0986\n",
            "Epoch 4/5\n",
            "\u001b[1m21/21\u001b[0m \u001b[32m━━━━━━━━━━━━━━━━━━━━\u001b[0m\u001b[37m\u001b[0m \u001b[1m81s\u001b[0m 3s/step - accuracy: 0.3309 - loss: 1.0986 - val_accuracy: 0.3194 - val_loss: 1.0988\n",
            "Epoch 5/5\n",
            "\u001b[1m21/21\u001b[0m \u001b[32m━━━━━━━━━━━━━━━━━━━━\u001b[0m\u001b[37m\u001b[0m \u001b[1m82s\u001b[0m 3s/step - accuracy: 0.3000 - loss: 1.0990 - val_accuracy: 0.3472 - val_loss: 1.0984\n",
            "All models trained successfully!\n"
          ]
        }
      ]
    },
    {
      "cell_type": "code",
      "source": [
        "from keras.preprocessing.sequence import pad_sequences\n",
        "\n",
        "# Pad or truncate FastText embeddings to ensure uniform input dimensions\n",
        "max_sequence_length = 100  # Adjust this based on your data\n",
        "X_train_fasttext_padded = pad_sequences(X_train_fasttext, maxlen=max_sequence_length, padding='post', dtype='float32')\n",
        "X_val_fasttext_padded = pad_sequences(X_val_fasttext, maxlen=max_sequence_length, padding='post', dtype='float32')\n",
        "X_test_fasttext_padded = pad_sequences(X_test_fasttext, maxlen=max_sequence_length, padding='post', dtype='float32')\n",
        "\n",
        "# Define a CNN model for FastText embeddings\n",
        "def cnn_model_fasttext(input_dim, model_name):\n",
        "    print(f\"Training {model_name}...\")\n",
        "    model = Sequential()\n",
        "    model.add(Conv1D(filters=64, kernel_size=5, activation='relu', input_shape=(input_dim, 100)))  # Input shape adjusted for FastText\n",
        "    model.add(MaxPooling1D(pool_size=2))\n",
        "    model.add(Flatten())\n",
        "    model.add(Dense(100, activation='relu'))\n",
        "    model.add(Dense(len(train_data['Sentiment'].unique()), activation='softmax'))  # Multi-class classification\n",
        "    model.compile(optimizer='adam', loss='sparse_categorical_crossentropy', metrics=['accuracy'])\n",
        "    return model\n",
        "\n",
        "# Define an LSTM model for FastText embeddings\n",
        "def lstm_model_fasttext(input_dim, model_name):\n",
        "    print(f\"Training {model_name}...\")\n",
        "    model = Sequential()\n",
        "    model.add(LSTM(100, dropout=0.2, recurrent_dropout=0.2, input_shape=(input_dim, 100)))  # Input shape adjusted for FastText\n",
        "    model.add(Dense(len(train_data['Sentiment'].unique()), activation='softmax'))  # Multi-class classification\n",
        "    model.compile(optimizer='adam', loss='sparse_categorical_crossentropy', metrics=['accuracy'])\n",
        "    return model\n",
        "\n",
        "# Define a BiLSTM model for FastText embeddings\n",
        "def bilstm_model_fasttext(input_dim, model_name):\n",
        "    print(f\"Training {model_name}...\")\n",
        "    model = Sequential()\n",
        "    model.add(Bidirectional(LSTM(100, dropout=0.2, recurrent_dropout=0.2), input_shape=(input_dim, 100)))  # Input shape adjusted for FastText\n",
        "    model.add(Dense(len(train_data['Sentiment'].unique()), activation='softmax'))  # Multi-class classification\n",
        "    model.compile(optimizer='adam', loss='sparse_categorical_crossentropy', metrics=['accuracy'])\n",
        "    return model\n",
        "\n",
        "# Define a CNN-BiLSTM model for FastText embeddings\n",
        "def cnn_bilstm_model_fasttext(input_dim, model_name):\n",
        "    print(f\"Training {model_name}...\")\n",
        "    model = Sequential()\n",
        "    model.add(Conv1D(filters=64, kernel_size=5, activation='relu', input_shape=(input_dim, 100)))  # Input shape adjusted for FastText\n",
        "    model.add(MaxPooling1D(pool_size=2))\n",
        "    model.add(Bidirectional(LSTM(100, dropout=0.2, recurrent_dropout=0.2)))\n",
        "    model.add(Dense(len(train_data['Sentiment'].unique()), activation='softmax'))  # Multi-class classification\n",
        "    model.compile(optimizer='adam', loss='sparse_categorical_crossentropy', metrics=['accuracy'])\n",
        "    return model\n",
        "\n",
        "# Train models with FastText embeddings\n",
        "input_dim_fasttext = X_train_fasttext_padded.shape[1]\n",
        "\n",
        "cnn_fasttext = cnn_model_fasttext(input_dim_fasttext, \"CNN with FastText\")\n",
        "cnn_fasttext.fit(X_train_fasttext_padded, train_labels, validation_data=(X_val_fasttext_padded, val_labels), epochs=5, batch_size=64)\n",
        "\n",
        "lstm_fasttext = lstm_model_fasttext(input_dim_fasttext, \"LSTM with FastText\")\n",
        "lstm_fasttext.fit(X_train_fasttext_padded, train_labels, validation_data=(X_val_fasttext_padded, val_labels), epochs=5, batch_size=64)\n",
        "\n",
        "bilstm_fasttext = bilstm_model_fasttext(input_dim_fasttext, \"BiLSTM with FastText\")\n",
        "bilstm_fasttext.fit(X_train_fasttext_padded, train_labels, validation_data=(X_val_fasttext_padded, val_labels), epochs=5, batch_size=64)\n",
        "\n",
        "cnn_bilstm_fasttext = cnn_bilstm_model_fasttext(input_dim_fasttext, \"CNN-BiLSTM with FastText\")\n",
        "cnn_bilstm_fasttext.fit(X_train_fasttext_padded, train_labels, validation_data=(X_val_fasttext_padded, val_labels), epochs=5, batch_size=64)\n",
        "\n",
        "print(\"All models trained successfully with FastText embeddings!\")"
      ],
      "metadata": {
        "colab": {
          "base_uri": "https://localhost:8080/"
        },
        "id": "FCLS18OKm8JJ",
        "outputId": "eec1fdc8-f43a-4b1a-9b89-8a5251fcc88d"
      },
      "execution_count": null,
      "outputs": [
        {
          "output_type": "stream",
          "name": "stdout",
          "text": [
            "Training CNN with FastText...\n"
          ]
        },
        {
          "output_type": "stream",
          "name": "stderr",
          "text": [
            "/usr/local/lib/python3.11/dist-packages/keras/src/layers/convolutional/base_conv.py:107: UserWarning: Do not pass an `input_shape`/`input_dim` argument to a layer. When using Sequential models, prefer using an `Input(shape)` object as the first layer in the model instead.\n",
            "  super().__init__(activity_regularizer=activity_regularizer, **kwargs)\n"
          ]
        },
        {
          "output_type": "stream",
          "name": "stdout",
          "text": [
            "Epoch 1/5\n",
            "\u001b[1m21/21\u001b[0m \u001b[32m━━━━━━━━━━━━━━━━━━━━\u001b[0m\u001b[37m\u001b[0m \u001b[1m2s\u001b[0m 52ms/step - accuracy: 0.4148 - loss: 1.0733 - val_accuracy: 0.5139 - val_loss: 1.0185\n",
            "Epoch 2/5\n",
            "\u001b[1m21/21\u001b[0m \u001b[32m━━━━━━━━━━━━━━━━━━━━\u001b[0m\u001b[37m\u001b[0m \u001b[1m1s\u001b[0m 43ms/step - accuracy: 0.5074 - loss: 0.9906 - val_accuracy: 0.5486 - val_loss: 0.9379\n",
            "Epoch 3/5\n",
            "\u001b[1m21/21\u001b[0m \u001b[32m━━━━━━━━━━━━━━━━━━━━\u001b[0m\u001b[37m\u001b[0m \u001b[1m1s\u001b[0m 39ms/step - accuracy: 0.5326 - loss: 0.9364 - val_accuracy: 0.6111 - val_loss: 0.8803\n",
            "Epoch 4/5\n",
            "\u001b[1m21/21\u001b[0m \u001b[32m━━━━━━━━━━━━━━━━━━━━\u001b[0m\u001b[37m\u001b[0m \u001b[1m1s\u001b[0m 38ms/step - accuracy: 0.6034 - loss: 0.8935 - val_accuracy: 0.6458 - val_loss: 0.8297\n",
            "Epoch 5/5\n",
            "\u001b[1m21/21\u001b[0m \u001b[32m━━━━━━━━━━━━━━━━━━━━\u001b[0m\u001b[37m\u001b[0m \u001b[1m1s\u001b[0m 38ms/step - accuracy: 0.6794 - loss: 0.7916 - val_accuracy: 0.7153 - val_loss: 0.7664\n",
            "Training LSTM with FastText...\n",
            "Epoch 1/5\n"
          ]
        },
        {
          "output_type": "stream",
          "name": "stderr",
          "text": [
            "/usr/local/lib/python3.11/dist-packages/keras/src/layers/rnn/rnn.py:200: UserWarning: Do not pass an `input_shape`/`input_dim` argument to a layer. When using Sequential models, prefer using an `Input(shape)` object as the first layer in the model instead.\n",
            "  super().__init__(**kwargs)\n"
          ]
        },
        {
          "output_type": "stream",
          "name": "stdout",
          "text": [
            "\u001b[1m21/21\u001b[0m \u001b[32m━━━━━━━━━━━━━━━━━━━━\u001b[0m\u001b[37m\u001b[0m \u001b[1m10s\u001b[0m 257ms/step - accuracy: 0.3320 - loss: 1.0992 - val_accuracy: 0.3472 - val_loss: 1.0985\n",
            "Epoch 2/5\n",
            "\u001b[1m21/21\u001b[0m \u001b[32m━━━━━━━━━━━━━━━━━━━━\u001b[0m\u001b[37m\u001b[0m \u001b[1m4s\u001b[0m 209ms/step - accuracy: 0.3264 - loss: 1.0988 - val_accuracy: 0.3472 - val_loss: 1.0987\n",
            "Epoch 3/5\n",
            "\u001b[1m21/21\u001b[0m \u001b[32m━━━━━━━━━━━━━━━━━━━━\u001b[0m\u001b[37m\u001b[0m \u001b[1m6s\u001b[0m 250ms/step - accuracy: 0.3459 - loss: 1.0985 - val_accuracy: 0.3194 - val_loss: 1.0988\n",
            "Epoch 4/5\n",
            "\u001b[1m21/21\u001b[0m \u001b[32m━━━━━━━━━━━━━━━━━━━━\u001b[0m\u001b[37m\u001b[0m \u001b[1m4s\u001b[0m 210ms/step - accuracy: 0.3338 - loss: 1.0986 - val_accuracy: 0.3194 - val_loss: 1.0992\n",
            "Epoch 5/5\n",
            "\u001b[1m21/21\u001b[0m \u001b[32m━━━━━━━━━━━━━━━━━━━━\u001b[0m\u001b[37m\u001b[0m \u001b[1m7s\u001b[0m 283ms/step - accuracy: 0.3473 - loss: 1.0982 - val_accuracy: 0.3194 - val_loss: 1.0990\n",
            "Training BiLSTM with FastText...\n"
          ]
        },
        {
          "output_type": "stream",
          "name": "stderr",
          "text": [
            "/usr/local/lib/python3.11/dist-packages/keras/src/layers/rnn/bidirectional.py:107: UserWarning: Do not pass an `input_shape`/`input_dim` argument to a layer. When using Sequential models, prefer using an `Input(shape)` object as the first layer in the model instead.\n",
            "  super().__init__(**kwargs)\n"
          ]
        },
        {
          "output_type": "stream",
          "name": "stdout",
          "text": [
            "Epoch 1/5\n",
            "\u001b[1m21/21\u001b[0m \u001b[32m━━━━━━━━━━━━━━━━━━━━\u001b[0m\u001b[37m\u001b[0m \u001b[1m19s\u001b[0m 503ms/step - accuracy: 0.3174 - loss: 1.1198 - val_accuracy: 0.3819 - val_loss: 1.0924\n",
            "Epoch 2/5\n",
            "\u001b[1m21/21\u001b[0m \u001b[32m━━━━━━━━━━━━━━━━━━━━\u001b[0m\u001b[37m\u001b[0m \u001b[1m20s\u001b[0m 494ms/step - accuracy: 0.3652 - loss: 1.0925 - val_accuracy: 0.4236 - val_loss: 1.0914\n",
            "Epoch 3/5\n",
            "\u001b[1m21/21\u001b[0m \u001b[32m━━━━━━━━━━━━━━━━━━━━\u001b[0m\u001b[37m\u001b[0m \u001b[1m20s\u001b[0m 489ms/step - accuracy: 0.4298 - loss: 1.0795 - val_accuracy: 0.3750 - val_loss: 1.0712\n",
            "Epoch 4/5\n",
            "\u001b[1m21/21\u001b[0m \u001b[32m━━━━━━━━━━━━━━━━━━━━\u001b[0m\u001b[37m\u001b[0m \u001b[1m9s\u001b[0m 434ms/step - accuracy: 0.4694 - loss: 1.0427 - val_accuracy: 0.4375 - val_loss: 1.0400\n",
            "Epoch 5/5\n",
            "\u001b[1m21/21\u001b[0m \u001b[32m━━━━━━━━━━━━━━━━━━━━\u001b[0m\u001b[37m\u001b[0m \u001b[1m10s\u001b[0m 452ms/step - accuracy: 0.4596 - loss: 1.0244 - val_accuracy: 0.4167 - val_loss: 1.0574\n",
            "Training CNN-BiLSTM with FastText...\n",
            "Epoch 1/5\n",
            "\u001b[1m21/21\u001b[0m \u001b[32m━━━━━━━━━━━━━━━━━━━━\u001b[0m\u001b[37m\u001b[0m \u001b[1m17s\u001b[0m 349ms/step - accuracy: 0.3596 - loss: 1.1005 - val_accuracy: 0.3542 - val_loss: 1.0842\n",
            "Epoch 2/5\n",
            "\u001b[1m21/21\u001b[0m \u001b[32m━━━━━━━━━━━━━━━━━━━━\u001b[0m\u001b[37m\u001b[0m \u001b[1m8s\u001b[0m 252ms/step - accuracy: 0.3949 - loss: 1.0643 - val_accuracy: 0.4236 - val_loss: 1.0485\n",
            "Epoch 3/5\n",
            "\u001b[1m21/21\u001b[0m \u001b[32m━━━━━━━━━━━━━━━━━━━━\u001b[0m\u001b[37m\u001b[0m \u001b[1m10s\u001b[0m 246ms/step - accuracy: 0.4586 - loss: 1.0479 - val_accuracy: 0.4514 - val_loss: 1.0341\n",
            "Epoch 4/5\n",
            "\u001b[1m21/21\u001b[0m \u001b[32m━━━━━━━━━━━━━━━━━━━━\u001b[0m\u001b[37m\u001b[0m \u001b[1m10s\u001b[0m 235ms/step - accuracy: 0.4540 - loss: 1.0291 - val_accuracy: 0.4097 - val_loss: 1.0375\n",
            "Epoch 5/5\n",
            "\u001b[1m21/21\u001b[0m \u001b[32m━━━━━━━━━━━━━━━━━━━━\u001b[0m\u001b[37m\u001b[0m \u001b[1m5s\u001b[0m 254ms/step - accuracy: 0.4909 - loss: 1.0071 - val_accuracy: 0.4931 - val_loss: 0.9959\n",
            "All models trained successfully with FastText embeddings!\n"
          ]
        }
      ]
    },
    {
      "cell_type": "markdown",
      "source": [
        "# **5. Comparative Analysis of Models**"
      ],
      "metadata": {
        "id": "ULk86w58oB8Z"
      }
    },
    {
      "cell_type": "code",
      "source": [
        "from sklearn.metrics import accuracy_score, classification_report\n",
        "import numpy as np\n",
        "\n",
        "# Function to evaluate a model\n",
        "def evaluate_model(model, X_test, test_labels, model_name):\n",
        "    # Predict probabilities\n",
        "    y_pred_probs = model.predict(X_test)\n",
        "\n",
        "    # Convert probabilities to class labels\n",
        "    y_pred = np.argmax(y_pred_probs, axis=1)\n",
        "\n",
        "    # Calculate accuracy\n",
        "    accuracy = accuracy_score(test_labels, y_pred)\n",
        "\n",
        "    # Generate classification report\n",
        "    report = classification_report(test_labels, y_pred, target_names=label_encoder.classes_)\n",
        "\n",
        "    print(f\"{model_name} Accuracy: {accuracy:.4f}\")\n",
        "    print(f\"{model_name} Classification Report:\\n{report}\")\n",
        "    return accuracy\n",
        "\n",
        "# Evaluate BoW-based models\n",
        "print(\"Evaluating BoW-based models...\")\n",
        "cnn_bow_acc = evaluate_model(cnn_bow, X_test_bow, test_labels, \"CNN with BoW\")\n",
        "lstm_bow_acc = evaluate_model(lstm_bow, X_test_bow, test_labels, \"LSTM with BoW\")\n",
        "bilstm_bow_acc = evaluate_model(bilstm_bow, X_test_bow, test_labels, \"BiLSTM with BoW\")\n",
        "cnn_bilstm_bow_acc = evaluate_model(cnn_bilstm_bow, X_test_bow, test_labels, \"CNN-BiLSTM with BoW\")\n",
        "\n",
        "# Evaluate TF-IDF-based models\n",
        "print(\"\\nEvaluating TF-IDF-based models...\")\n",
        "cnn_tfidf_acc = evaluate_model(cnn_tfidf, X_test_tfidf, test_labels, \"CNN with TF-IDF\")\n",
        "lstm_tfidf_acc = evaluate_model(lstm_tfidf, X_test_tfidf, test_labels, \"LSTM with TF-IDF\")\n",
        "bilstm_tfidf_acc = evaluate_model(bilstm_tfidf, X_test_tfidf, test_labels, \"BiLSTM with TF-IDF\")\n",
        "cnn_bilstm_tfidf_acc = evaluate_model(cnn_bilstm_tfidf, X_test_tfidf, test_labels, \"CNN-BiLSTM with TF-IDF\")\n",
        "\n",
        "# Evaluate FastText-based models\n",
        "print(\"\\nEvaluating FastText-based models...\")\n",
        "cnn_fasttext_acc = evaluate_model(cnn_fasttext, X_test_fasttext_padded, test_labels, \"CNN with FastText\")\n",
        "lstm_fasttext_acc = evaluate_model(lstm_fasttext, X_test_fasttext_padded, test_labels, \"LSTM with FastText\")\n",
        "bilstm_fasttext_acc = evaluate_model(bilstm_fasttext, X_test_fasttext_padded, test_labels, \"BiLSTM with FastText\")\n",
        "cnn_bilstm_fasttext_acc = evaluate_model(cnn_bilstm_fasttext, X_test_fasttext_padded, test_labels, \"CNN-BiLSTM with FastText\")\n"
      ],
      "metadata": {
        "colab": {
          "base_uri": "https://localhost:8080/"
        },
        "id": "S7LxqF3voDYJ",
        "outputId": "e25481fa-edaf-4d1e-d4b8-32e47f554068"
      },
      "execution_count": null,
      "outputs": [
        {
          "output_type": "stream",
          "name": "stdout",
          "text": [
            "Evaluating BoW-based models...\n",
            "\u001b[1m12/12\u001b[0m \u001b[32m━━━━━━━━━━━━━━━━━━━━\u001b[0m\u001b[37m\u001b[0m \u001b[1m2s\u001b[0m 108ms/step\n",
            "CNN with BoW Accuracy: 0.9944\n",
            "CNN with BoW Classification Report:\n",
            "              precision    recall  f1-score   support\n",
            "\n",
            "    Negative       1.00      0.99      1.00       126\n",
            "     Neutral       0.98      1.00      0.99       118\n",
            "    Positive       1.00      0.99      1.00       116\n",
            "\n",
            "    accuracy                           0.99       360\n",
            "   macro avg       0.99      0.99      0.99       360\n",
            "weighted avg       0.99      0.99      0.99       360\n",
            "\n",
            "\u001b[1m12/12\u001b[0m \u001b[32m━━━━━━━━━━━━━━━━━━━━\u001b[0m\u001b[37m\u001b[0m \u001b[1m5s\u001b[0m 372ms/step\n",
            "LSTM with BoW Accuracy: 0.3222\n",
            "LSTM with BoW Classification Report:\n",
            "              precision    recall  f1-score   support\n",
            "\n",
            "    Negative       0.50      0.01      0.02       126\n",
            "     Neutral       0.00      0.00      0.00       118\n",
            "    Positive       0.32      0.99      0.49       116\n",
            "\n",
            "    accuracy                           0.32       360\n",
            "   macro avg       0.27      0.33      0.17       360\n",
            "weighted avg       0.28      0.32      0.16       360\n",
            "\n",
            "\u001b[1m12/12\u001b[0m \u001b[32m━━━━━━━━━━━━━━━━━━━━\u001b[0m\u001b[37m\u001b[0m \u001b[1m11s\u001b[0m 829ms/step\n",
            "BiLSTM with BoW Accuracy: 0.5139\n",
            "BiLSTM with BoW Classification Report:\n",
            "              precision    recall  f1-score   support\n",
            "\n",
            "    Negative       0.46      0.75      0.57       126\n",
            "     Neutral       0.76      0.22      0.34       118\n",
            "    Positive       0.54      0.56      0.55       116\n",
            "\n",
            "    accuracy                           0.51       360\n",
            "   macro avg       0.59      0.51      0.49       360\n",
            "weighted avg       0.58      0.51      0.49       360\n",
            "\n",
            "\u001b[1m12/12\u001b[0m \u001b[32m━━━━━━━━━━━━━━━━━━━━\u001b[0m\u001b[37m\u001b[0m \u001b[1m6s\u001b[0m 422ms/step\n",
            "CNN-BiLSTM with BoW Accuracy: 0.5139\n",
            "CNN-BiLSTM with BoW Classification Report:\n",
            "              precision    recall  f1-score   support\n",
            "\n",
            "    Negative       0.45      0.75      0.56       126\n",
            "     Neutral       0.62      0.33      0.43       118\n",
            "    Positive       0.60      0.44      0.51       116\n",
            "\n",
            "    accuracy                           0.51       360\n",
            "   macro avg       0.56      0.51      0.50       360\n",
            "weighted avg       0.55      0.51      0.50       360\n",
            "\n",
            "\n",
            "Evaluating TF-IDF-based models...\n",
            "\u001b[1m12/12\u001b[0m \u001b[32m━━━━━━━━━━━━━━━━━━━━\u001b[0m\u001b[37m\u001b[0m \u001b[1m1s\u001b[0m 70ms/step\n",
            "CNN with TF-IDF Accuracy: 0.3222\n",
            "CNN with TF-IDF Classification Report:\n",
            "              precision    recall  f1-score   support\n",
            "\n",
            "    Negative       0.00      0.00      0.00       126\n",
            "     Neutral       0.00      0.00      0.00       118\n",
            "    Positive       0.32      1.00      0.49       116\n",
            "\n",
            "    accuracy                           0.32       360\n",
            "   macro avg       0.11      0.33      0.16       360\n",
            "weighted avg       0.10      0.32      0.16       360\n",
            "\n"
          ]
        },
        {
          "output_type": "stream",
          "name": "stderr",
          "text": [
            "/usr/local/lib/python3.11/dist-packages/sklearn/metrics/_classification.py:1565: UndefinedMetricWarning: Precision is ill-defined and being set to 0.0 in labels with no predicted samples. Use `zero_division` parameter to control this behavior.\n",
            "  _warn_prf(average, modifier, f\"{metric.capitalize()} is\", len(result))\n",
            "/usr/local/lib/python3.11/dist-packages/sklearn/metrics/_classification.py:1565: UndefinedMetricWarning: Precision is ill-defined and being set to 0.0 in labels with no predicted samples. Use `zero_division` parameter to control this behavior.\n",
            "  _warn_prf(average, modifier, f\"{metric.capitalize()} is\", len(result))\n",
            "/usr/local/lib/python3.11/dist-packages/sklearn/metrics/_classification.py:1565: UndefinedMetricWarning: Precision is ill-defined and being set to 0.0 in labels with no predicted samples. Use `zero_division` parameter to control this behavior.\n",
            "  _warn_prf(average, modifier, f\"{metric.capitalize()} is\", len(result))\n"
          ]
        },
        {
          "output_type": "stream",
          "name": "stdout",
          "text": [
            "\u001b[1m12/12\u001b[0m \u001b[32m━━━━━━━━━━━━━━━━━━━━\u001b[0m\u001b[37m\u001b[0m \u001b[1m5s\u001b[0m 373ms/step\n",
            "LSTM with TF-IDF Accuracy: 0.3222\n",
            "LSTM with TF-IDF Classification Report:\n",
            "              precision    recall  f1-score   support\n",
            "\n",
            "    Negative       0.00      0.00      0.00       126\n",
            "     Neutral       0.00      0.00      0.00       118\n",
            "    Positive       0.32      1.00      0.49       116\n",
            "\n",
            "    accuracy                           0.32       360\n",
            "   macro avg       0.11      0.33      0.16       360\n",
            "weighted avg       0.10      0.32      0.16       360\n",
            "\n"
          ]
        },
        {
          "output_type": "stream",
          "name": "stderr",
          "text": [
            "/usr/local/lib/python3.11/dist-packages/sklearn/metrics/_classification.py:1565: UndefinedMetricWarning: Precision is ill-defined and being set to 0.0 in labels with no predicted samples. Use `zero_division` parameter to control this behavior.\n",
            "  _warn_prf(average, modifier, f\"{metric.capitalize()} is\", len(result))\n",
            "/usr/local/lib/python3.11/dist-packages/sklearn/metrics/_classification.py:1565: UndefinedMetricWarning: Precision is ill-defined and being set to 0.0 in labels with no predicted samples. Use `zero_division` parameter to control this behavior.\n",
            "  _warn_prf(average, modifier, f\"{metric.capitalize()} is\", len(result))\n",
            "/usr/local/lib/python3.11/dist-packages/sklearn/metrics/_classification.py:1565: UndefinedMetricWarning: Precision is ill-defined and being set to 0.0 in labels with no predicted samples. Use `zero_division` parameter to control this behavior.\n",
            "  _warn_prf(average, modifier, f\"{metric.capitalize()} is\", len(result))\n"
          ]
        },
        {
          "output_type": "stream",
          "name": "stdout",
          "text": [
            "\u001b[1m12/12\u001b[0m \u001b[32m━━━━━━━━━━━━━━━━━━━━\u001b[0m\u001b[37m\u001b[0m \u001b[1m11s\u001b[0m 830ms/step\n"
          ]
        },
        {
          "output_type": "stream",
          "name": "stderr",
          "text": [
            "/usr/local/lib/python3.11/dist-packages/sklearn/metrics/_classification.py:1565: UndefinedMetricWarning: Precision is ill-defined and being set to 0.0 in labels with no predicted samples. Use `zero_division` parameter to control this behavior.\n",
            "  _warn_prf(average, modifier, f\"{metric.capitalize()} is\", len(result))\n",
            "/usr/local/lib/python3.11/dist-packages/sklearn/metrics/_classification.py:1565: UndefinedMetricWarning: Precision is ill-defined and being set to 0.0 in labels with no predicted samples. Use `zero_division` parameter to control this behavior.\n",
            "  _warn_prf(average, modifier, f\"{metric.capitalize()} is\", len(result))\n",
            "/usr/local/lib/python3.11/dist-packages/sklearn/metrics/_classification.py:1565: UndefinedMetricWarning: Precision is ill-defined and being set to 0.0 in labels with no predicted samples. Use `zero_division` parameter to control this behavior.\n",
            "  _warn_prf(average, modifier, f\"{metric.capitalize()} is\", len(result))\n"
          ]
        },
        {
          "output_type": "stream",
          "name": "stdout",
          "text": [
            "BiLSTM with TF-IDF Accuracy: 0.3278\n",
            "BiLSTM with TF-IDF Classification Report:\n",
            "              precision    recall  f1-score   support\n",
            "\n",
            "    Negative       0.00      0.00      0.00       126\n",
            "     Neutral       0.33      1.00      0.49       118\n",
            "    Positive       0.00      0.00      0.00       116\n",
            "\n",
            "    accuracy                           0.33       360\n",
            "   macro avg       0.11      0.33      0.16       360\n",
            "weighted avg       0.11      0.33      0.16       360\n",
            "\n",
            "\u001b[1m12/12\u001b[0m \u001b[32m━━━━━━━━━━━━━━━━━━━━\u001b[0m\u001b[37m\u001b[0m \u001b[1m6s\u001b[0m 415ms/step\n",
            "CNN-BiLSTM with TF-IDF Accuracy: 0.3278\n",
            "CNN-BiLSTM with TF-IDF Classification Report:\n",
            "              precision    recall  f1-score   support\n",
            "\n",
            "    Negative       0.00      0.00      0.00       126\n",
            "     Neutral       0.33      1.00      0.49       118\n",
            "    Positive       0.00      0.00      0.00       116\n",
            "\n",
            "    accuracy                           0.33       360\n",
            "   macro avg       0.11      0.33      0.16       360\n",
            "weighted avg       0.11      0.33      0.16       360\n",
            "\n",
            "\n",
            "Evaluating FastText-based models...\n",
            "\u001b[1m 1/12\u001b[0m \u001b[32m━\u001b[0m\u001b[37m━━━━━━━━━━━━━━━━━━━\u001b[0m \u001b[1m1s\u001b[0m 106ms/step"
          ]
        },
        {
          "output_type": "stream",
          "name": "stderr",
          "text": [
            "/usr/local/lib/python3.11/dist-packages/sklearn/metrics/_classification.py:1565: UndefinedMetricWarning: Precision is ill-defined and being set to 0.0 in labels with no predicted samples. Use `zero_division` parameter to control this behavior.\n",
            "  _warn_prf(average, modifier, f\"{metric.capitalize()} is\", len(result))\n",
            "/usr/local/lib/python3.11/dist-packages/sklearn/metrics/_classification.py:1565: UndefinedMetricWarning: Precision is ill-defined and being set to 0.0 in labels with no predicted samples. Use `zero_division` parameter to control this behavior.\n",
            "  _warn_prf(average, modifier, f\"{metric.capitalize()} is\", len(result))\n",
            "/usr/local/lib/python3.11/dist-packages/sklearn/metrics/_classification.py:1565: UndefinedMetricWarning: Precision is ill-defined and being set to 0.0 in labels with no predicted samples. Use `zero_division` parameter to control this behavior.\n",
            "  _warn_prf(average, modifier, f\"{metric.capitalize()} is\", len(result))\n"
          ]
        },
        {
          "output_type": "stream",
          "name": "stdout",
          "text": [
            "\u001b[1m12/12\u001b[0m \u001b[32m━━━━━━━━━━━━━━━━━━━━\u001b[0m\u001b[37m\u001b[0m \u001b[1m0s\u001b[0m 15ms/step\n",
            "CNN with FastText Accuracy: 0.6778\n",
            "CNN with FastText Classification Report:\n",
            "              precision    recall  f1-score   support\n",
            "\n",
            "    Negative       0.71      0.46      0.56       126\n",
            "     Neutral       0.61      0.81      0.70       118\n",
            "    Positive       0.74      0.78      0.76       116\n",
            "\n",
            "    accuracy                           0.68       360\n",
            "   macro avg       0.69      0.68      0.67       360\n",
            "weighted avg       0.69      0.68      0.67       360\n",
            "\n",
            "\u001b[1m12/12\u001b[0m \u001b[32m━━━━━━━━━━━━━━━━━━━━\u001b[0m\u001b[37m\u001b[0m \u001b[1m1s\u001b[0m 79ms/step\n"
          ]
        },
        {
          "output_type": "stream",
          "name": "stderr",
          "text": [
            "/usr/local/lib/python3.11/dist-packages/sklearn/metrics/_classification.py:1565: UndefinedMetricWarning: Precision is ill-defined and being set to 0.0 in labels with no predicted samples. Use `zero_division` parameter to control this behavior.\n",
            "  _warn_prf(average, modifier, f\"{metric.capitalize()} is\", len(result))\n",
            "/usr/local/lib/python3.11/dist-packages/sklearn/metrics/_classification.py:1565: UndefinedMetricWarning: Precision is ill-defined and being set to 0.0 in labels with no predicted samples. Use `zero_division` parameter to control this behavior.\n",
            "  _warn_prf(average, modifier, f\"{metric.capitalize()} is\", len(result))\n",
            "/usr/local/lib/python3.11/dist-packages/sklearn/metrics/_classification.py:1565: UndefinedMetricWarning: Precision is ill-defined and being set to 0.0 in labels with no predicted samples. Use `zero_division` parameter to control this behavior.\n",
            "  _warn_prf(average, modifier, f\"{metric.capitalize()} is\", len(result))\n"
          ]
        },
        {
          "output_type": "stream",
          "name": "stdout",
          "text": [
            "LSTM with FastText Accuracy: 0.3222\n",
            "LSTM with FastText Classification Report:\n",
            "              precision    recall  f1-score   support\n",
            "\n",
            "    Negative       0.00      0.00      0.00       126\n",
            "     Neutral       0.00      0.00      0.00       118\n",
            "    Positive       0.32      1.00      0.49       116\n",
            "\n",
            "    accuracy                           0.32       360\n",
            "   macro avg       0.11      0.33      0.16       360\n",
            "weighted avg       0.10      0.32      0.16       360\n",
            "\n",
            "\u001b[1m12/12\u001b[0m \u001b[32m━━━━━━━━━━━━━━━━━━━━\u001b[0m\u001b[37m\u001b[0m \u001b[1m3s\u001b[0m 150ms/step\n",
            "BiLSTM with FastText Accuracy: 0.4083\n",
            "BiLSTM with FastText Classification Report:\n",
            "              precision    recall  f1-score   support\n",
            "\n",
            "    Negative       0.41      0.31      0.35       126\n",
            "     Neutral       0.42      0.91      0.57       118\n",
            "    Positive       0.12      0.01      0.02       116\n",
            "\n",
            "    accuracy                           0.41       360\n",
            "   macro avg       0.32      0.41      0.31       360\n",
            "weighted avg       0.32      0.41      0.32       360\n",
            "\n",
            "\u001b[1m12/12\u001b[0m \u001b[32m━━━━━━━━━━━━━━━━━━━━\u001b[0m\u001b[37m\u001b[0m \u001b[1m2s\u001b[0m 121ms/step\n",
            "CNN-BiLSTM with FastText Accuracy: 0.5222\n",
            "CNN-BiLSTM with FastText Classification Report:\n",
            "              precision    recall  f1-score   support\n",
            "\n",
            "    Negative       0.81      0.17      0.29       126\n",
            "     Neutral       0.56      0.58      0.57       118\n",
            "    Positive       0.46      0.84      0.60       116\n",
            "\n",
            "    accuracy                           0.52       360\n",
            "   macro avg       0.61      0.53      0.49       360\n",
            "weighted avg       0.62      0.52      0.48       360\n",
            "\n"
          ]
        }
      ]
    },
    {
      "cell_type": "markdown",
      "source": [
        "# **6. Saving the Best Model**"
      ],
      "metadata": {
        "id": "9M1_haGw5JYR"
      }
    },
    {
      "cell_type": "code",
      "source": [
        "cnn_bow.save('cnn_bow_model.h5')\n",
        "print(\"CNN on BoW model saved successfully\")"
      ],
      "metadata": {
        "colab": {
          "base_uri": "https://localhost:8080/"
        },
        "id": "ynlYE1Q75Tyj",
        "outputId": "9455e57a-195a-4193-b5c6-b59d86831ba5"
      },
      "execution_count": null,
      "outputs": [
        {
          "output_type": "stream",
          "name": "stderr",
          "text": [
            "WARNING:absl:You are saving your model as an HDF5 file via `model.save()` or `keras.saving.save_model(model)`. This file format is considered legacy. We recommend using instead the native Keras format, e.g. `model.save('my_model.keras')` or `keras.saving.save_model(model, 'my_model.keras')`. \n"
          ]
        },
        {
          "output_type": "stream",
          "name": "stdout",
          "text": [
            "CNN on BoW model saved successfully\n"
          ]
        }
      ]
    },
    {
      "cell_type": "markdown",
      "source": [
        "# **7. Prediction on Real-World Input**"
      ],
      "metadata": {
        "id": "yLiXx6QmaCzo"
      }
    },
    {
      "cell_type": "code",
      "source": [
        "# Load the saved model\n",
        "from keras.models import load_model\n",
        "model = load_model('cnn_bow_model.h5')\n",
        "\n",
        "# Real-world input\n",
        "new_text = \"There aren't many challenges, but there aren't many exciting opportunities either.\"\n",
        "\n",
        "# Preprocess the new text\n",
        "processed_text = preprocess_text(new_text)\n",
        "\n",
        "# Transform the preprocessed text using the BoW vectorizer\n",
        "input_data = bow_vectorizer.transform([processed_text]).toarray()\n",
        "\n",
        "# Predicting the class of new text\n",
        "predicted_class = model.predict(input_data)\n",
        "\n",
        "# Convert the predicted class index to the actual label\n",
        "predicted_label = label_encoder.inverse_transform([predicted_class.argmax()])\n",
        "\n",
        "print(f\"Predicted Class: {predicted_label[0]}\")"
      ],
      "metadata": {
        "colab": {
          "base_uri": "https://localhost:8080/"
        },
        "id": "p2_f1bd6aEKg",
        "outputId": "ee22622d-8695-479c-9b7d-fcd85a1fec72"
      },
      "execution_count": null,
      "outputs": [
        {
          "output_type": "stream",
          "name": "stderr",
          "text": [
            "WARNING:absl:Compiled the loaded model, but the compiled metrics have yet to be built. `model.compile_metrics` will be empty until you train or evaluate the model.\n"
          ]
        },
        {
          "output_type": "stream",
          "name": "stdout",
          "text": [
            "\u001b[1m1/1\u001b[0m \u001b[32m━━━━━━━━━━━━━━━━━━━━\u001b[0m\u001b[37m\u001b[0m \u001b[1m0s\u001b[0m 150ms/step\n",
            "Predicted Class: Neutral\n"
          ]
        }
      ]
    },
    {
      "cell_type": "markdown",
      "source": [
        "# **8. Analysis**"
      ],
      "metadata": {
        "id": "BJ8y8hv-oW9x"
      }
    },
    {
      "cell_type": "markdown",
      "source": [
        "The analysis of different models are presented in the table below:"
      ],
      "metadata": {
        "id": "dCjgzeCCvGeo"
      }
    },
    {
      "cell_type": "markdown",
      "source": [
        "![Screenshot 2025-04-04 223851.png](data:image/png;base64,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)"
      ],
      "metadata": {
        "id": "rK3cq2tXyNbN"
      }
    },
    {
      "cell_type": "markdown",
      "source": [
        "## **BEST PERFORMING MODEL:**"
      ],
      "metadata": {
        "id": "2jWzcYrnwpTY"
      }
    },
    {
      "cell_type": "markdown",
      "source": [
        "CNN with BoW is the Best Performing Model as it has achieved highest scores accross all metrics.\n",
        "\n",
        "*   **Accuracy** = 99.44%\n",
        "\n"
      ],
      "metadata": {
        "id": "eIC6qxcZvN3n"
      }
    },
    {
      "cell_type": "markdown",
      "source": [
        "The LSTM, BiLSTM, and CNN-BiLSTM models, when paired with FastText exhibited good performance:\n",
        "\n",
        "**Accuracy**: Their accuracy ranged between 32% - 68% ."
      ],
      "metadata": {
        "id": "WJXNtXsgzMKF"
      }
    },
    {
      "cell_type": "markdown",
      "source": [
        "The LSTM, BiLSTM, and CNN-BiLSTM models, when paired with TF-IDF exhibited very poor performance:\n",
        "\n",
        "*   **Accuracy**: Their accuracy ranged between **32.16% - 32.80% .**\n",
        "*   Meaning they almost predicted 1 out of 3 classes correctly.\n",
        "\n"
      ],
      "metadata": {
        "id": "U-1gwE13wlRd"
      }
    },
    {
      "cell_type": "markdown",
      "source": [
        "## **CERTAIN CHALLENGES:**"
      ],
      "metadata": {
        "id": "BTPlpM7EzVyQ"
      }
    },
    {
      "cell_type": "markdown",
      "source": [
        "* **1. Class Imbalance Issues:** The poor performance of most models (except CNN + BoW) suggests imbalanced class distribution in the dataset, making it difficult for models to learn meaningful patterns.\n",
        "\n",
        "* **2. Ineffective Feature Representations:** TF-IDF and FastText do not contribute to improving model performance, which means these techniques may not be well-suited for this dataset. More context-aware embeddings (e.g., Word2Vec, GloVe, BERT) might be needed.\n",
        "\n",
        "* **3. Deep Learning Models Underperforming:** LSTM and BiLSTM fail to outperform CNN, possibly due to inadequate training data, improper hyperparameter tuning, or the inability to capture meaningful sequential dependencies.\n",
        "\n",
        "* **4. Overfitting Risk with CNN:** While CNN performs well with BoW, its strong performance might indicate overfitting, meaning it could struggle with new, unseen data. A cross-validation approach should be used to validate results."
      ],
      "metadata": {
        "id": "2ElglJtHzbJX"
      }
    },
    {
      "cell_type": "markdown",
      "source": [
        "## **SUGGESTIONS FOR IMPROVEMENT:**"
      ],
      "metadata": {
        "id": "sRwgO8dUyFif"
      }
    },
    {
      "cell_type": "markdown",
      "source": [
        "* **Avoid LSTM/BiLSTM** unless hyperparameters or embeddings are **improved**.\n",
        "* TF-IDF and FastText are **ineffective** for this task.\n",
        "* Should Try more **Hybrid** Models.\n",
        "* Improve CNN-BiLSTM with **hyperparameter** tuning.\n",
        "* Explore **Pretrained Embeddings** such as Test Word2Vec, GloVe, or BERT embeddings instead of FastText."
      ],
      "metadata": {
        "id": "qQOH7Nw3yKMg"
      }
    }
  ]
}